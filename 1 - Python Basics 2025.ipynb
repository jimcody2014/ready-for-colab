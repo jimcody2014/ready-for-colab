{
 "cells": [
  {
   "cell_type": "markdown",
   "id": "59c994c4",
   "metadata": {},
   "source": [
    "# Simple Data Types"
   ]
  },
  {
   "cell_type": "markdown",
   "id": "b7f0eaef",
   "metadata": {},
   "source": [
    "## Numbers\n",
    "\n",
    "Numbers are: int, float, complex"
   ]
  },
  {
   "cell_type": "markdown",
   "id": "b572d893",
   "metadata": {},
   "source": [
    "### Integers"
   ]
  },
  {
   "cell_type": "code",
   "execution_count": null,
   "id": "9b540393",
   "metadata": {},
   "outputs": [],
   "source": [
    "5+5"
   ]
  },
  {
   "cell_type": "code",
   "execution_count": null,
   "id": "ed7741c7",
   "metadata": {},
   "outputs": [],
   "source": [
    "5-7"
   ]
  },
  {
   "cell_type": "code",
   "execution_count": null,
   "id": "bf15180e",
   "metadata": {},
   "outputs": [],
   "source": [
    "5*5"
   ]
  },
  {
   "cell_type": "code",
   "execution_count": null,
   "id": "0d4c8da0",
   "metadata": {},
   "outputs": [],
   "source": [
    "# Simple division\n",
    "\n",
    "25/3"
   ]
  },
  {
   "cell_type": "markdown",
   "id": "0e4e6e50",
   "metadata": {},
   "source": [
    "### Floating points (aka numbers with decimals)"
   ]
  },
  {
   "cell_type": "code",
   "execution_count": null,
   "id": "33bec36c",
   "metadata": {},
   "outputs": [],
   "source": [
    "a = 50 * 23/4\n",
    "a"
   ]
  },
  {
   "cell_type": "markdown",
   "id": "315b9d66",
   "metadata": {},
   "source": [
    "### A complex number"
   ]
  },
  {
   "cell_type": "code",
   "execution_count": null,
   "id": "6f79124e",
   "metadata": {},
   "outputs": [],
   "source": [
    "a = 23e4\n",
    "b = 23E4\n",
    "c = -23e100\n",
    "\n",
    "\n",
    "\n",
    "\n",
    "print(a)\n",
    "print(b)\n",
    "print(\"This is C: {}\".format(c))\n"
   ]
  },
  {
   "cell_type": "markdown",
   "id": "e0421553",
   "metadata": {},
   "source": [
    "## Arithmetic Operators\n",
    "\n",
    "- Addition\n",
    "- Subtraction\n",
    "- Multiplication\n",
    "- Division\n",
    "- Modulus (remainder)\n",
    "- Exponents\n",
    "- Floor division"
   ]
  },
  {
   "cell_type": "code",
   "execution_count": null,
   "id": "660f6089",
   "metadata": {},
   "outputs": [],
   "source": [
    "# Modulus - remainder of division\n",
    "\n",
    "25 % 3"
   ]
  },
  {
   "cell_type": "code",
   "execution_count": null,
   "id": "f082fe3f",
   "metadata": {},
   "outputs": [],
   "source": [
    "# Calculate power\n",
    "\n",
    "#5**2  # squared\n",
    "\n",
    "5**5 #= 3125   . 5 to the 5th power"
   ]
  },
  {
   "cell_type": "code",
   "execution_count": null,
   "id": "11d066cb",
   "metadata": {},
   "outputs": [],
   "source": [
    "5**5"
   ]
  },
  {
   "cell_type": "code",
   "execution_count": null,
   "id": "3b09753d",
   "metadata": {},
   "outputs": [],
   "source": [
    "# Floor division\n",
    "\n",
    "25 // 3\n"
   ]
  },
  {
   "cell_type": "markdown",
   "id": "64362475",
   "metadata": {},
   "source": [
    "### Assign a value to a variable"
   ]
  },
  {
   "cell_type": "code",
   "execution_count": null,
   "id": "fdbc76d4",
   "metadata": {},
   "outputs": [],
   "source": [
    "shipments = 1000\n",
    "administered = 950\n",
    "doses_left = shipments - administered\n",
    "doses_left"
   ]
  },
  {
   "cell_type": "markdown",
   "id": "2ccaf3cc",
   "metadata": {},
   "source": [
    "## Operators Cheat Sheet\n",
    "\n",
    "https://cheatography.com/nouha-thabet/cheat-sheets/python-operators-and-booleans/ <p>\n",
    "    \n",
    "![image1.png](images/image1.png)\n",
    "\n"
   ]
  },
  {
   "cell_type": "code",
   "execution_count": null,
   "id": "e0d5cc3f",
   "metadata": {},
   "outputs": [],
   "source": [
    "'yes' == 'no'"
   ]
  },
  {
   "cell_type": "code",
   "execution_count": null,
   "id": "221e34ad",
   "metadata": {},
   "outputs": [],
   "source": [
    "(10>12) and (30<40)"
   ]
  },
  {
   "cell_type": "code",
   "execution_count": null,
   "id": "d3014936",
   "metadata": {},
   "outputs": [],
   "source": [
    "(10>12) or (30<40)"
   ]
  },
  {
   "cell_type": "code",
   "execution_count": null,
   "id": "e6b2690c",
   "metadata": {},
   "outputs": [],
   "source": [
    "(10==12) or (1==1) or (30>40)"
   ]
  },
  {
   "cell_type": "code",
   "execution_count": null,
   "id": "e694b6fd",
   "metadata": {},
   "outputs": [],
   "source": [
    "(10==12) or (1==1) and (30>40)"
   ]
  },
  {
   "cell_type": "markdown",
   "id": "623dbe3f-c0c0-4b88-9e38-098e81420a36",
   "metadata": {},
   "source": []
  },
  {
   "cell_type": "markdown",
   "id": "c2e25cf4",
   "metadata": {},
   "source": [
    "## Strings"
   ]
  },
  {
   "cell_type": "code",
   "execution_count": null,
   "id": "5d61d9a8",
   "metadata": {},
   "outputs": [],
   "source": [
    "'use a single quote'"
   ]
  },
  {
   "cell_type": "code",
   "execution_count": null,
   "id": "344db3e3",
   "metadata": {},
   "outputs": [],
   "source": [
    "\"use a double quote\""
   ]
  },
  {
   "cell_type": "code",
   "execution_count": null,
   "id": "e6e749db",
   "metadata": {},
   "outputs": [],
   "source": [
    "\"'this is quote' used in a quote'\""
   ]
  },
  {
   "cell_type": "code",
   "execution_count": null,
   "id": "fdb736b9",
   "metadata": {},
   "outputs": [],
   "source": [
    "'\"this is a quote\" in a quote'"
   ]
  },
  {
   "cell_type": "code",
   "execution_count": null,
   "id": "f9c4cd60",
   "metadata": {},
   "outputs": [],
   "source": [
    "2*'su- '+'sudio.  Thank you Phil Collins'"
   ]
  },
  {
   "cell_type": "markdown",
   "id": "470f6c1a",
   "metadata": {},
   "source": [
    "### Working with a long string"
   ]
  },
  {
   "cell_type": "code",
   "execution_count": null,
   "id": "6d194994",
   "metadata": {},
   "outputs": [],
   "source": [
    "lyrics = (\"There's this girl that's been on my mind \"\n",
    "          'All the time, Su-Sussudio '\n",
    "          'Oh oh '\n",
    "          \"Now she don't even know my name \"\n",
    "          'But I think she likes me just the same '\n",
    "          'Su-Sussudio '\n",
    "          'Woah oh ')\n",
    "lyrics"
   ]
  },
  {
   "cell_type": "markdown",
   "id": "d624b818",
   "metadata": {},
   "source": [
    "### Reference Material"
   ]
  },
  {
   "cell_type": "markdown",
   "id": "157195d0",
   "metadata": {},
   "source": [
    "- https://docs.python.org/3/library/stdtypes.html#string-methods or\n",
    "- https://www.w3schools.com/python/python_strings_methods.asp\n",
    "\n"
   ]
  },
  {
   "cell_type": "markdown",
   "id": "8f05522e",
   "metadata": {},
   "source": [
    "## Booleans\n",
    "\n",
    "A boolean can have 1 of 2 values: True or False."
   ]
  },
  {
   "cell_type": "code",
   "execution_count": null,
   "id": "f42617f8",
   "metadata": {},
   "outputs": [],
   "source": [
    "x = 100< 95\n",
    "x"
   ]
  },
  {
   "cell_type": "code",
   "execution_count": null,
   "id": "6fc172dd",
   "metadata": {},
   "outputs": [],
   "source": [
    "a = 100\n",
    "b = 95\n",
    "x = a > b\n",
    "if x == True: print('yes')"
   ]
  },
  {
   "cell_type": "code",
   "execution_count": null,
   "id": "62f764e0",
   "metadata": {},
   "outputs": [],
   "source": [
    "type(a)"
   ]
  },
  {
   "cell_type": "markdown",
   "id": "66e75c5c",
   "metadata": {},
   "source": [
    "# Data Structures\n",
    "\n",
    "- List\n",
    "- Tuple\n",
    "- Set\n",
    "- Dictionary\n",
    "\n",
    "https://docs.python.org/3/tutorial/datastructures.html"
   ]
  },
  {
   "cell_type": "markdown",
   "id": "4bd026c8",
   "metadata": {},
   "source": [
    "## Lists\n",
    "\n",
    "**Lists**, Tuples, Sets, Dictionaries\n",
    "\n",
    "A compound data type\n",
    "\n",
    "- items, sepated by commas\n",
    "- inside square brackets []\n",
    "- usually, but not always the same data type"
   ]
  },
  {
   "cell_type": "code",
   "execution_count": null,
   "id": "4ab8fdd0",
   "metadata": {},
   "outputs": [],
   "source": [
    "months = [1,2,3,4,5,6,7,8,9,10,11,12]\n",
    "months"
   ]
  },
  {
   "cell_type": "code",
   "execution_count": null,
   "id": "3f456120",
   "metadata": {},
   "outputs": [],
   "source": [
    "month_names = ['Jan', 'Feb', 'Mar', 'Apr', 'May', 'Jun', 'Jul', 'Aug', 'Sep', 'Oct', 'Nov', 'Dec']\n",
    "month_names"
   ]
  },
  {
   "cell_type": "code",
   "execution_count": null,
   "id": "444e2b2b",
   "metadata": {},
   "outputs": [],
   "source": [
    "letters = ['a', 'b', 'c', 'd']\n",
    "letters"
   ]
  },
  {
   "cell_type": "code",
   "execution_count": null,
   "id": "4af20357",
   "metadata": {},
   "outputs": [],
   "source": [
    "mess = letters+months\n",
    "mess"
   ]
  },
  {
   "cell_type": "markdown",
   "id": "eb658e38",
   "metadata": {},
   "source": [
    " "
   ]
  },
  {
   "cell_type": "markdown",
   "id": "a51b2aac",
   "metadata": {},
   "source": [
    "### Indexing and Slicing\n",
    "\n",
    "**Indexing** returns a value from a list based on its position. **Indexing starts at zero**<br>\n",
    "The index values(s) go inside square brackets [].<br><br>\n",
    "**Slicing** returns a new list."
   ]
  },
  {
   "cell_type": "code",
   "execution_count": null,
   "id": "1c767854",
   "metadata": {},
   "outputs": [],
   "source": [
    "# Indexing\n",
    "# Return the value of letters at index 0.\n",
    "letters = ['a', 'b', 'c', 'd']\n",
    "letters[0]"
   ]
  },
  {
   "cell_type": "code",
   "execution_count": null,
   "id": "b8ffa209",
   "metadata": {},
   "outputs": [],
   "source": [
    "# Return 'c'\n",
    "letters[2]"
   ]
  },
  {
   "cell_type": "code",
   "execution_count": null,
   "id": "e23cf26f",
   "metadata": {},
   "outputs": [],
   "source": [
    "# Work from the end back.  This do NOT start at zero\n",
    "# Return 'c' starting from the end.\n",
    "\n",
    "letters[-2]"
   ]
  },
  {
   "cell_type": "code",
   "execution_count": null,
   "id": "88a95a35-1077-496b-ab83-fd2fa2dfa3d4",
   "metadata": {},
   "outputs": [],
   "source": [
    "month_names"
   ]
  },
  {
   "cell_type": "code",
   "execution_count": null,
   "id": "07bf745f",
   "metadata": {},
   "outputs": [],
   "source": [
    "# Slicing - returns a new list based on the index provided\n",
    "# Return 6, 7 and 8\n",
    "\n",
    "month_names[6:9]\n"
   ]
  },
  {
   "cell_type": "code",
   "execution_count": null,
   "id": "1362d23c",
   "metadata": {},
   "outputs": [],
   "source": [
    "# Return everything from 6 on"
   ]
  },
  {
   "cell_type": "code",
   "execution_count": null,
   "id": "bf9f6024",
   "metadata": {},
   "outputs": [],
   "source": [
    "month_names[6:]"
   ]
  },
  {
   "cell_type": "markdown",
   "id": "9404eb1e",
   "metadata": {},
   "source": [
    "### Replace a value"
   ]
  },
  {
   "cell_type": "code",
   "execution_count": null,
   "id": "56c9a42f-bb4d-4b02-8632-cf446b4040db",
   "metadata": {},
   "outputs": [],
   "source": [
    "letters"
   ]
  },
  {
   "cell_type": "code",
   "execution_count": null,
   "id": "bf4f214b",
   "metadata": {},
   "outputs": [],
   "source": [
    "letters[2]='Z'\n",
    "letters"
   ]
  },
  {
   "cell_type": "markdown",
   "id": "11199a78",
   "metadata": {},
   "source": [
    "### Add values\n",
    "\n",
    "- append\n",
    "- insert\n",
    "- extend"
   ]
  },
  {
   "cell_type": "code",
   "execution_count": null,
   "id": "21ff6079",
   "metadata": {},
   "outputs": [],
   "source": [
    "# Using the string function APPEND.\n",
    "letters = ['a', 'b', 'c', 'd']\n",
    "\n",
    "letters.append('e')  # .append takes one parameter\n",
    "letters"
   ]
  },
  {
   "cell_type": "code",
   "execution_count": null,
   "id": "c8847982",
   "metadata": {},
   "outputs": [],
   "source": [
    "# Using the string function INSERT to put something in at a specific position.\n",
    "letters = ['a', 'b', 'c', 'd']\n",
    "\n",
    "letters.insert(2,'ZZ')\n",
    "letters"
   ]
  },
  {
   "cell_type": "code",
   "execution_count": null,
   "id": "bb0d6d40",
   "metadata": {},
   "outputs": [],
   "source": [
    "# Using EXTEND to make the list bigger\n",
    "letters = ['a', 'b', 'c', 'd']\n",
    "\n",
    "abc = ['f','g','h']\n",
    "letters.extend(abc)\n",
    "letters"
   ]
  },
  {
   "cell_type": "code",
   "execution_count": null,
   "id": "d90f5783",
   "metadata": {},
   "outputs": [],
   "source": [
    "# This is what happens if we try APPEND.\n",
    "letters = ['a', 'b', 'c', 'd']\n",
    "abc = ['f','g','h']\n",
    "letters.append(abc)  # Returns a nested list\n",
    "letters"
   ]
  },
  {
   "cell_type": "code",
   "execution_count": null,
   "id": "26230e48",
   "metadata": {},
   "outputs": [],
   "source": [
    "# So, how can we make a big list with letters and abc?\n",
    "letters = ['a', 'b', 'c', 'd']\n",
    "letters+abc"
   ]
  },
  {
   "cell_type": "markdown",
   "id": "7d0e0374",
   "metadata": {},
   "source": [
    "### Remove values\n",
    "\n",
    "- pop \n",
    "- remove\n",
    "- clear"
   ]
  },
  {
   "cell_type": "code",
   "execution_count": null,
   "id": "13f69923",
   "metadata": {},
   "outputs": [],
   "source": [
    "letters = ['a', 'b', 'c', 'd']\n",
    "\n",
    "letters.pop(1)\n",
    "letters"
   ]
  },
  {
   "cell_type": "code",
   "execution_count": null,
   "id": "3a15afca",
   "metadata": {},
   "outputs": [],
   "source": [
    "# POP without an index value removes the last value.\n",
    "\n",
    "letters = ['a', 'b', 'c', 'd']\n",
    "letters.pop()\n",
    "letters"
   ]
  },
  {
   "cell_type": "code",
   "execution_count": null,
   "id": "d2830221",
   "metadata": {},
   "outputs": [],
   "source": [
    "# REMOVE\n",
    "letters = ['a', 'b', 'c', 'd', 'a']\n",
    "\n",
    "letters.remove('a')\n",
    "letters"
   ]
  },
  {
   "cell_type": "code",
   "execution_count": null,
   "id": "e4771a1c",
   "metadata": {},
   "outputs": [],
   "source": [
    "# CLEAR the list\n",
    "letters = ['a', 'b', 'c', 'd']\n",
    "\n",
    "letters.clear()\n",
    "letters"
   ]
  },
  {
   "cell_type": "markdown",
   "id": "e5ae6f85",
   "metadata": {},
   "source": [
    "### Sort, Count, Reverse"
   ]
  },
  {
   "cell_type": "code",
   "execution_count": null,
   "id": "26b1e644",
   "metadata": {},
   "outputs": [],
   "source": [
    "# Sort the list\n",
    "letters = ['a', 'b', 'c', 'd','a','a']\n",
    "\n",
    "letters.sort()\n",
    "letters\n",
    "\n",
    "# letters.sort(reverse=True)\n",
    "# letters"
   ]
  },
  {
   "cell_type": "code",
   "execution_count": null,
   "id": "53e8d08d",
   "metadata": {},
   "outputs": [],
   "source": [
    "letters = ['a', 'b', 'c', 'd','a','a']\n",
    "\n",
    "letters.reverse()\n",
    "letters"
   ]
  },
  {
   "cell_type": "code",
   "execution_count": null,
   "id": "12a57224",
   "metadata": {},
   "outputs": [],
   "source": [
    "letters = ['a', 'b', 'c', 'd','a','a']\n",
    "\n",
    "letters.count('a')"
   ]
  },
  {
   "cell_type": "markdown",
   "id": "dcd79660",
   "metadata": {},
   "source": [
    "### Miscellaneous\n",
    "\n",
    "List can be used as:\n",
    "\n",
    "- **stacks** for last-in, first-out processing\n",
    "- **queues** for first-in, first-out processing"
   ]
  },
  {
   "cell_type": "markdown",
   "id": "2061a5ed",
   "metadata": {},
   "source": [
    "## Tuples\n",
    "\n",
    "Lists, **Tuples**, Sets, Dictionaries\n",
    "\n",
    "- Like a list, they contain a collection of items.\n",
    "- A list is defined by the use of square brackets.  A tuple is defined by the use of parentheses.\n",
    "- Unlike a list, which can have its items changed (mutable), tuples cannot (**imutable**)\n",
    "- Tuples are more memory efficient and are generally used for a set of unchanging values (e.g., months, states, etc.)\n",
    "\n",
    "\n",
    "\n"
   ]
  },
  {
   "cell_type": "code",
   "execution_count": null,
   "id": "7367075c",
   "metadata": {},
   "outputs": [],
   "source": [
    "letters_t = ('a', 'b', 'c', 'd')\n",
    "type(letters_t)"
   ]
  },
  {
   "cell_type": "code",
   "execution_count": null,
   "id": "187323ac",
   "metadata": {},
   "outputs": [],
   "source": [
    "import sys\n",
    "\n",
    "letters = ['a', 'b', 'c', 'd','a','a','a', 'b', 'c', 'd','a','a','a', 'b', 'c', 'd','a','a']\n",
    "letters_t = ('a', 'b', 'c', 'd','a','a','a', 'b', 'c', 'd','a','a','a', 'b', 'c', 'd','a','a')\n",
    "print(sys.getsizeof(letters))\n",
    "print(sys.getsizeof(letters_t))"
   ]
  },
  {
   "cell_type": "markdown",
   "id": "dc009ef6",
   "metadata": {},
   "source": [
    "## Sets\n",
    "\n",
    "Lists, Tuples, **Sets**, Dictionaries\n",
    "\n",
    "- Like a list and a tuple, they contain a collection of items.\n",
    "- A set is defined by the use of curly braces {}.\n",
    "- A set is an unordered collection with **no duplicate items**.\n",
    "- A set is immutable after it has been created.\n",
    "- Sets are useful for removing duplicate values\n",
    "- Set items are unordered (and may appear in a different order each time the set is used).\n"
   ]
  },
  {
   "cell_type": "code",
   "execution_count": null,
   "id": "4285c1d3",
   "metadata": {},
   "outputs": [],
   "source": [
    "letters_s = {'a', 'b', 'e','c', 'd','a','a'}\n",
    "letters_s"
   ]
  },
  {
   "cell_type": "code",
   "execution_count": null,
   "id": "8763bc61",
   "metadata": {},
   "outputs": [],
   "source": [
    "# Items already in a set cannot be changed but new items can be added.\n",
    "letters_s = {'a', 'b', 'e','c', 'd','a','a'}\n",
    "\n",
    "letters_s.add('q')\n",
    "letters_s"
   ]
  },
  {
   "cell_type": "code",
   "execution_count": null,
   "id": "6280703a",
   "metadata": {},
   "outputs": [],
   "source": [
    "# Sets can be added to one another\n",
    "\n",
    "letters_s = {'a', 'b', 'c', 'd'}\n",
    "abc_s = {'f','g','h'}\n",
    "\n",
    "letters_s.update(abc_s)\n",
    "letters_s"
   ]
  },
  {
   "cell_type": "code",
   "execution_count": null,
   "id": "3dd98262",
   "metadata": {},
   "outputs": [],
   "source": [
    "# Items can be removed from a set.\n",
    "letters_s = {'a', 'b', 'c', 'd'}\n",
    "\n",
    "letters_s.remove('a')\n",
    "letters_s\n",
    "\n",
    "#letters_s.discard('a')\n",
    "#letters_s"
   ]
  },
  {
   "cell_type": "code",
   "execution_count": null,
   "id": "b4249843",
   "metadata": {},
   "outputs": [],
   "source": [
    "# Try to remove 'e' from the list.  Do you get an error message?\n",
    "# Try to discard 'e'.  What happens?\n",
    "\n",
    "#letters_s.remove('e')\n",
    "#letters_s\n",
    "\n",
    "#letters_s.discard('e')\n",
    "#letters_s"
   ]
  },
  {
   "cell_type": "markdown",
   "id": "42d44c8b",
   "metadata": {},
   "source": [
    "## Set Exercise - 5 minutes\n",
    "\n",
    "Use the documentation \n",
    "- https://docs.python.org/3/library/stdtypes.html#set or \n",
    "- https://www.w3schools.com/python/python_sets_methods.asp\n",
    "\n",
    "In the two sets below:\n",
    "- What items are in common (intersection)?\n",
    "- What items are unique across both sets (i.e., not part of the intersection?\n",
    "\n",
    "deliveries = {'Boston','Monticello','Chicago','Atlanta','Dickey','Douglas','Zenda','Springfield'}<br>\n",
    "clinics = {'Boston','Chicago','Atlanta','Zenda','Springfield'}"
   ]
  },
  {
   "cell_type": "code",
   "execution_count": null,
   "id": "2fcc7e64",
   "metadata": {},
   "outputs": [],
   "source": [
    "deliveries = {'Boston','Monticello','Chicago','Atlanta','Dickey','Douglas','Zenda','Springfield'}\n",
    "clinics = {'Boston','Chicago','Atlanta','Zenda','Springfield'}\n"
   ]
  },
  {
   "cell_type": "code",
   "execution_count": null,
   "id": "390e13e8-d87c-4c14-9881-b9bd42cc77ac",
   "metadata": {},
   "outputs": [],
   "source": [
    "print(deliveries and clinics)\n",
    "print(deliveries - clinics)"
   ]
  },
  {
   "cell_type": "code",
   "execution_count": null,
   "id": "5e4d71f1-87be-4199-a72c-514ac301a0da",
   "metadata": {},
   "outputs": [],
   "source": [
    "intersection = deliveries.intersection(clinics)\n",
    "intersection"
   ]
  },
  {
   "cell_type": "code",
   "execution_count": null,
   "id": "0f7dd629-7e1d-49b0-9605-8e72003c17a9",
   "metadata": {},
   "outputs": [],
   "source": [
    "unique_items = deliveries.symmetric_difference(clinics)\n",
    "unique_items"
   ]
  },
  {
   "cell_type": "code",
   "execution_count": null,
   "id": "10fc0294-a5d5-4156-bf51-b65bf004d060",
   "metadata": {},
   "outputs": [],
   "source": [
    "result2 = deliveries ^ clinics\n",
    "print(result2)"
   ]
  },
  {
   "cell_type": "code",
   "execution_count": null,
   "id": "a0fe0487-2ae2-451f-bd31-0b6cd9f8706c",
   "metadata": {},
   "outputs": [],
   "source": []
  },
  {
   "cell_type": "markdown",
   "id": "d4e9030f",
   "metadata": {},
   "source": [
    "## Dictionaries\n",
    "\n",
    "Lists, Tuples, Sets, **Dictionaries**\n",
    "\n",
    "- A dictionary (aka dict) is a collection of key:value pairs (e.g., zipcode:01545)\n",
    "- A dictionary is defined by the use of curly braces {} that contain key:value pairs.\n",
    "- A dictionary is an ordered collection with **no duplicate keys**.\n",
    "- A dictionary is mutable.\n"
   ]
  },
  {
   "cell_type": "code",
   "execution_count": null,
   "id": "5e1c50bb",
   "metadata": {},
   "outputs": [],
   "source": [
    "things = {'key1':'thing1','key2':'thing2','key3':'thing3'}\n",
    "type(things)"
   ]
  },
  {
   "cell_type": "code",
   "execution_count": null,
   "id": "bfe1e0d0",
   "metadata": {},
   "outputs": [],
   "source": [
    "# Get the value of a key\n",
    "\n",
    "things.get('key1')"
   ]
  },
  {
   "cell_type": "code",
   "execution_count": null,
   "id": "afbcdd88",
   "metadata": {},
   "outputs": [],
   "source": [
    "# Get the keys\n",
    "\n",
    "things.keys()"
   ]
  },
  {
   "cell_type": "code",
   "execution_count": null,
   "id": "62f14f51",
   "metadata": {},
   "outputs": [],
   "source": [
    "# Add a key:value pair to the dictionary\n",
    "\n",
    "things['key4']='thing4'\n",
    "things"
   ]
  },
  {
   "cell_type": "code",
   "execution_count": null,
   "id": "e52bf621",
   "metadata": {},
   "outputs": [],
   "source": [
    "my_dict = {} \n",
    "my_dict['l'] = 4\n",
    "my_dict['m'] = 6\n",
    "my_dict['n'] = 9\n",
    "new_value = list(my_dict.items())  # Cast the dict to a list in order to access by index\n",
    "\n",
    "new_value"
   ]
  },
  {
   "cell_type": "code",
   "execution_count": null,
   "id": "19b2684c",
   "metadata": {},
   "outputs": [],
   "source": [
    "print(new_value[2])"
   ]
  },
  {
   "cell_type": "code",
   "execution_count": null,
   "id": "ec9a7f51-4bb4-43d6-92e8-47212c0499d6",
   "metadata": {},
   "outputs": [],
   "source": [
    "things"
   ]
  },
  {
   "cell_type": "code",
   "execution_count": null,
   "id": "70be1a51",
   "metadata": {},
   "outputs": [],
   "source": [
    "# Update a value\n",
    "\n",
    "things.update({'key3':1999})\n",
    "things"
   ]
  },
  {
   "cell_type": "code",
   "execution_count": null,
   "id": "ed67f1c0",
   "metadata": {},
   "outputs": [],
   "source": [
    "things.items()"
   ]
  },
  {
   "cell_type": "code",
   "execution_count": null,
   "id": "f29452e1",
   "metadata": {},
   "outputs": [],
   "source": [
    "# Remove a key:value pair\n",
    "\n",
    "things = {'key1':'thing1','key2':'thing2','key3':1999, 'key4':'thing4'}\n",
    "\n",
    "#things.pop('key3')\n",
    "#things\n",
    "    \n",
    "# things.popitem()   # popitem will only remove the last item\n",
    "\n",
    "things.clear()     # empties the dictionary\n",
    "things\n",
    "\n"
   ]
  },
  {
   "cell_type": "code",
   "execution_count": null,
   "id": "be6a895d",
   "metadata": {},
   "outputs": [],
   "source": [
    "# A preview of loops\n",
    "things = {'key1':'thing1','key2':'thing2','key3':1999, 'key4':'thing4'}\n",
    "\n",
    "#for xyz in things: \n",
    "#    print(xyz)         # print the keys\n",
    "#    print(things[xyz])  # print the values\n",
    "    \n",
    "#for xyz in things.keys():\n",
    "#    print(xyz)\n",
    "\n",
    "for xyz in things.values():\n",
    "    print(xyz)"
   ]
  },
  {
   "cell_type": "code",
   "execution_count": null,
   "id": "bb362fb5",
   "metadata": {},
   "outputs": [],
   "source": [
    "for a,b in things.items():\n",
    "    print(a,b)\n",
    "\n"
   ]
  },
  {
   "cell_type": "markdown",
   "id": "27aa1efb",
   "metadata": {},
   "source": [
    "## Dictionary Exercise - 15 minutes\n",
    "\n",
    "https://www.w3schools.com/python/python_dictionaries_methods.asp\n",
    "\n",
    "1. Create a dictionary with 5 key:value pairs\n",
    "2. Get the value of the third pair\n",
    "3. Update the value of the third pair\n",
    "4. Use items to return a tuple of the key:value pairs\n",
    "5. Return a list of all the values\n",
    "6. Use the setdefault method. Used when a key is not in the dictionary.\n"
   ]
  },
  {
   "cell_type": "code",
   "execution_count": null,
   "id": "6f3b7d6f",
   "metadata": {},
   "outputs": [],
   "source": [
    "# Dictionary Exercise Here...\n",
    "morethings = {'key1':'thing1','key2':'thing2','key3':'thing3','key4':'thing4','key4':'thing3'}"
   ]
  },
  {
   "cell_type": "code",
   "execution_count": null,
   "id": "b78fe20c-4fe5-424d-8914-25716be58f5c",
   "metadata": {},
   "outputs": [],
   "source": [
    "morethings = {'key1':'thing1','key2':'thing2','key3':'thing3','key4':'thing4','key4':'thing3'}\n",
    "print(morethings.get('key3'))\n",
    "morethings.update({'key3':'third thing'})\n",
    "print(morethings.get('key3'))\n",
    "things_tuple = tuple(morethings.items())\n",
    "print(things_tuple)\n",
    "print(morethings.values())\n",
    "first_thing = morethings.setdefault('key9', 'first thing')\n",
    "print(first_thing)"
   ]
  },
  {
   "cell_type": "code",
   "execution_count": null,
   "id": "e1caea4b-9fb4-4447-ab51-a365287c5ee4",
   "metadata": {},
   "outputs": [],
   "source": []
  },
  {
   "cell_type": "code",
   "execution_count": null,
   "id": "9d851db1-3ddd-4a38-b2fa-f5dc738f8838",
   "metadata": {},
   "outputs": [],
   "source": []
  },
  {
   "cell_type": "code",
   "execution_count": null,
   "id": "e70c46bc-0060-4b3a-94bb-2cd9558d40eb",
   "metadata": {},
   "outputs": [],
   "source": []
  },
  {
   "cell_type": "code",
   "execution_count": null,
   "id": "fa749bcc-09e5-43bd-abdc-8d257681b4d5",
   "metadata": {},
   "outputs": [],
   "source": []
  },
  {
   "cell_type": "code",
   "execution_count": null,
   "id": "b82e3b76-229c-41f4-ab57-b8f9ba9d7459",
   "metadata": {},
   "outputs": [],
   "source": []
  },
  {
   "cell_type": "markdown",
   "id": "09524df9",
   "metadata": {},
   "source": [
    "## Arrays & Dataframes\n",
    "\n",
    "Arrays and Dataframes will be discussed after numpy and pandas are introduced.<p>"
   ]
  },
  {
   "cell_type": "markdown",
   "id": "3857e054",
   "metadata": {},
   "source": [
    " "
   ]
  },
  {
   "cell_type": "markdown",
   "id": "33fa0692",
   "metadata": {},
   "source": [
    "# Control Flows"
   ]
  },
  {
   "cell_type": "markdown",
   "id": "31983747",
   "metadata": {},
   "source": [
    "## If/then/else Statements"
   ]
  },
  {
   "cell_type": "code",
   "execution_count": null,
   "id": "50bfeab3",
   "metadata": {},
   "outputs": [],
   "source": [
    "# The basic format... If (test is true): do something"
   ]
  },
  {
   "cell_type": "code",
   "execution_count": null,
   "id": "52ac6868",
   "metadata": {},
   "outputs": [],
   "source": [
    "a = 100\n",
    "b = 95\n",
    "x = a > b\n",
    "if x == True: \n",
    "    print('yes')"
   ]
  },
  {
   "cell_type": "code",
   "execution_count": null,
   "id": "075eda12",
   "metadata": {},
   "outputs": [],
   "source": [
    "things = {'key1':'thing1','key2':'thing2','key3':1999, 'key4':'thing4'}\n",
    "if things.get('key1') == 'thing1': print('it worked')\n",
    "    \n",
    "# What happens if it fails?\n",
    "#if things.get('key1') == 'thing2': print('it worked')"
   ]
  },
  {
   "cell_type": "code",
   "execution_count": null,
   "id": "9a6ccc27",
   "metadata": {},
   "outputs": [],
   "source": [
    "things = {'key1':'thing1','key2':'thing2','key3':1999, 'key4':'thing4'}\n",
    "if things.get('key1') == 'thing2': \n",
    "    print('it worked')\n",
    "else:                                         # Don't forget the colon!!!!\n",
    "    print('key1 does not hold thing2')"
   ]
  },
  {
   "cell_type": "code",
   "execution_count": null,
   "id": "7292ad93",
   "metadata": {},
   "outputs": [],
   "source": [
    "things = {'key1':'thing1','key2':'thing2','key3':1999, 'key4':'thing4'}\n",
    "if things.get('key1') == 'thing2': \n",
    "    print('key1 holds thing2')\n",
    "elif things.get('key1') == 'thing3':\n",
    "    print('key1 holds thing3')\n",
    "elif things.get('key1') == 'thing7':   # after running this, change thing1 to thing7 to get else to work\n",
    "    print('key1 holds thing1')\n",
    "else:\n",
    "    print(\"key1 doesn't hold anything tested for\")\n",
    "    "
   ]
  },
  {
   "cell_type": "markdown",
   "id": "9dbd793e",
   "metadata": {},
   "source": [
    "## Loops\n",
    "\n",
    "There are two loop commands: for & while."
   ]
  },
  {
   "cell_type": "markdown",
   "id": "f9dcbf93",
   "metadata": {},
   "source": [
    "### for loops"
   ]
  },
  {
   "cell_type": "code",
   "execution_count": null,
   "id": "b4ee71f4",
   "metadata": {},
   "outputs": [],
   "source": [
    "letters = ['a', 'b', 'c', 'd']\n",
    "letters"
   ]
  },
  {
   "cell_type": "code",
   "execution_count": 14,
   "id": "3c3fc7f4",
   "metadata": {},
   "outputs": [
    {
     "name": "stdout",
     "output_type": "stream",
     "text": [
      "a\n",
      "b\n",
      "c\n",
      "d\n"
     ]
    }
   ],
   "source": [
    "# Basic format for 'any name you want' in 'the collection you are using': do something\n",
    "\n",
    "letters = ['a', 'b', 'c', 'd']\n",
    "for item in letters: print(item)"
   ]
  },
  {
   "cell_type": "code",
   "execution_count": 15,
   "id": "d00ffcf8",
   "metadata": {},
   "outputs": [
    {
     "name": "stdout",
     "output_type": "stream",
     "text": [
      "axyz\n",
      "bxyz\n",
      "cxyz\n",
      "dxyz\n"
     ]
    }
   ],
   "source": [
    "letters = ['a', 'b', 'c', 'd']\n",
    "for item in letters: \n",
    "    print(item+'xyz')"
   ]
  },
  {
   "cell_type": "code",
   "execution_count": 18,
   "id": "53abcf8e",
   "metadata": {},
   "outputs": [],
   "source": [
    "letters = ['a', 'b', 'c', 'd']\n",
    "for item in letters: \n",
    "    x = (item+'xyz')\n",
    "    "
   ]
  },
  {
   "cell_type": "code",
   "execution_count": 19,
   "id": "7a09255f",
   "metadata": {},
   "outputs": [
    {
     "name": "stdout",
     "output_type": "stream",
     "text": [
      "S\n",
      "u\n",
      "-\n",
      "S\n",
      "u\n",
      "s\n",
      "s\n",
      "u\n",
      "d\n",
      "i\n",
      "o\n"
     ]
    }
   ],
   "source": [
    "# Loop through a string\n",
    "\n",
    "for each in 'Su-Sussudio':\n",
    "    print(each)\n"
   ]
  },
  {
   "cell_type": "code",
   "execution_count": 20,
   "id": "02537e27",
   "metadata": {},
   "outputs": [
    {
     "name": "stdout",
     "output_type": "stream",
     "text": [
      "a\n",
      "b\n",
      "c\n",
      "d\n"
     ]
    }
   ],
   "source": [
    "# Using a tuple\n",
    "\n",
    "letters_t = ('a', 'b', 'c', 'd')\n",
    "for item in letters: \n",
    "   print(item)"
   ]
  },
  {
   "cell_type": "code",
   "execution_count": 21,
   "id": "867d9610",
   "metadata": {},
   "outputs": [
    {
     "name": "stdout",
     "output_type": "stream",
     "text": [
      "a\n",
      "b\n",
      "c\n",
      "d\n"
     ]
    }
   ],
   "source": [
    "# Using a set\n",
    "\n",
    "letters_t = {'a', 'b', 'c', 'd'}\n",
    "for item in letters: \n",
    "   print(item)"
   ]
  },
  {
   "cell_type": "code",
   "execution_count": null,
   "id": "515ee926",
   "metadata": {},
   "outputs": [],
   "source": [
    "months = [1,2,3,4,5,6,7,8,9,10,11,12]\n",
    "months"
   ]
  },
  {
   "cell_type": "code",
   "execution_count": 24,
   "id": "15a5187e",
   "metadata": {},
   "outputs": [
    {
     "name": "stdout",
     "output_type": "stream",
     "text": [
      "11\n",
      "12\n"
     ]
    }
   ],
   "source": [
    "for item in months:\n",
    "    if item > 10: \n",
    "        print(item)\n"
   ]
  },
  {
   "cell_type": "code",
   "execution_count": 25,
   "id": "8f3f348e",
   "metadata": {},
   "outputs": [
    {
     "name": "stdout",
     "output_type": "stream",
     "text": [
      "{8: 108}\n",
      "{8: 108, 9: 109}\n",
      "{8: 108, 9: 109, 10: 110}\n",
      "{8: 108, 9: 109, 10: 110, 11: 111}\n",
      "{8: 108, 9: 109, 10: 110, 11: 111, 12: 112}\n"
     ]
    }
   ],
   "source": [
    "new_dict = {}\n",
    "for item in months:\n",
    "    if item > 7: \n",
    "        new_dict[item] = item+100 \n",
    "        print(new_dict)"
   ]
  },
  {
   "cell_type": "code",
   "execution_count": 26,
   "id": "d1d08e5b",
   "metadata": {},
   "outputs": [
    {
     "data": {
      "text/plain": [
       "dict"
      ]
     },
     "execution_count": 26,
     "metadata": {},
     "output_type": "execute_result"
    }
   ],
   "source": [
    "type(new_set)"
   ]
  },
  {
   "cell_type": "markdown",
   "id": "fc8cb4fe",
   "metadata": {},
   "source": [
    "### while loops\n",
    "\n",
    "Continue to execute as long as a condition is True."
   ]
  },
  {
   "cell_type": "code",
   "execution_count": 27,
   "id": "4c49fdac",
   "metadata": {},
   "outputs": [
    {
     "name": "stdout",
     "output_type": "stream",
     "text": [
      "1\n",
      "2\n",
      "3\n",
      "4\n",
      "5\n"
     ]
    }
   ],
   "source": [
    "i = 1\n",
    "while i < 6:\n",
    "    print(i)\n",
    "    i += 1  # i = i + 1"
   ]
  },
  {
   "cell_type": "code",
   "execution_count": 28,
   "id": "98a458a7",
   "metadata": {},
   "outputs": [
    {
     "name": "stdout",
     "output_type": "stream",
     "text": [
      "1\n",
      "2\n",
      "3\n",
      "4\n",
      "5\n",
      "we are done\n"
     ]
    }
   ],
   "source": [
    "i = 1\n",
    "while i < 6:\n",
    "    print(i)\n",
    "    i += 1\n",
    "else:\n",
    "    print('we are done')"
   ]
  },
  {
   "cell_type": "markdown",
   "id": "7713c71d",
   "metadata": {},
   "source": [
    "### range()\n",
    "\n",
    "![image2.png](images/image2.png)\n",
    "https://pynative.com/python-range-function/"
   ]
  },
  {
   "cell_type": "code",
   "execution_count": 29,
   "id": "29233ab3",
   "metadata": {},
   "outputs": [
    {
     "name": "stdout",
     "output_type": "stream",
     "text": [
      "0\n",
      "1\n",
      "2\n",
      "3\n",
      "4\n"
     ]
    }
   ],
   "source": [
    "for each in range(5):\n",
    "    print(each)"
   ]
  },
  {
   "cell_type": "code",
   "execution_count": 30,
   "id": "e899e240",
   "metadata": {},
   "outputs": [
    {
     "data": {
      "text/plain": [
       "[5, 4, 3, 2, 1, 0]"
      ]
     },
     "execution_count": 30,
     "metadata": {},
     "output_type": "execute_result"
    }
   ],
   "source": [
    "x = list(   range(5,-1,-1)    )\n",
    "x"
   ]
  },
  {
   "cell_type": "code",
   "execution_count": 31,
   "id": "c97cc988",
   "metadata": {},
   "outputs": [
    {
     "name": "stdout",
     "output_type": "stream",
     "text": [
      "0 Boston\n",
      "1 Chicago\n",
      "2 Atlanta\n",
      "3 NYC\n",
      "4 LA\n"
     ]
    }
   ],
   "source": [
    "cities = ['Boston','Chicago','Atlanta','NYC','LA']\n",
    "for each in range(len(cities)):  # Determining how many items are in the list\n",
    "    print(each, cities[each])"
   ]
  },
  {
   "cell_type": "code",
   "execution_count": null,
   "id": "50f17c59",
   "metadata": {},
   "outputs": [],
   "source": [
    "for each in cities:\n",
    "    print(each)"
   ]
  },
  {
   "cell_type": "code",
   "execution_count": null,
   "id": "3db15b0d",
   "metadata": {},
   "outputs": [],
   "source": [
    "for each in range(2):  # Determining how many items are in the list\n",
    "    print(each, cities[each])"
   ]
  },
  {
   "cell_type": "markdown",
   "id": "44e0cfaa",
   "metadata": {},
   "source": [
    "### list comprehension\n",
    "\n",
    "List comprehension is the use of compact syntax to create a list from another list or a string.  It is faster than using a loop."
   ]
  },
  {
   "cell_type": "code",
   "execution_count": 32,
   "id": "d9214f67",
   "metadata": {},
   "outputs": [
    {
     "name": "stdout",
     "output_type": "stream",
     "text": [
      "[0, 2, 4, 6, 8, 10, 12, 14, 16, 18, 20]\n"
     ]
    }
   ],
   "source": [
    "# Create a list of even numbers\n",
    "\n",
    "even_nums = []\n",
    "for x in range(21):\n",
    "    if x%2 == 0:\n",
    "        even_nums.append(x)\n",
    "print(even_nums)"
   ]
  },
  {
   "cell_type": "code",
   "execution_count": 33,
   "id": "88b40c23",
   "metadata": {},
   "outputs": [
    {
     "name": "stdout",
     "output_type": "stream",
     "text": [
      "[0, 2, 4, 6, 8, 10, 12, 14, 16, 18, 20]\n"
     ]
    }
   ],
   "source": [
    "even_nums = [x for x in range(21) if x%2 == 0]\n",
    "print(even_nums)\n",
    "\n",
    "# In the above example, [x for x in range(21) if x%2 == 0] returns a new list using the list comprehension. \n",
    "# First, it executes the for loop for x in range(21) if x%2 == 0. The element x would be returned if the \n",
    "# specified condition if x%2 == 0 evaluates to True. "
   ]
  },
  {
   "cell_type": "code",
   "execution_count": null,
   "id": "3888dff7-7685-432b-a60c-88572d8af2b0",
   "metadata": {},
   "outputs": [],
   "source": []
  }
 ],
 "metadata": {
  "kernelspec": {
   "display_name": "Python 3 (ipykernel)",
   "language": "python",
   "name": "python3"
  },
  "language_info": {
   "codemirror_mode": {
    "name": "ipython",
    "version": 3
   },
   "file_extension": ".py",
   "mimetype": "text/x-python",
   "name": "python",
   "nbconvert_exporter": "python",
   "pygments_lexer": "ipython3",
   "version": "3.12.7"
  },
  "toc": {
   "base_numbering": 1,
   "nav_menu": {},
   "number_sections": true,
   "sideBar": false,
   "skip_h1_title": false,
   "title_cell": "Table of Contents",
   "title_sidebar": "",
   "toc_cell": true,
   "toc_position": {
    "height": "calc(100% - 180px)",
    "left": "10px",
    "top": "150px",
    "width": "165px"
   },
   "toc_section_display": false,
   "toc_window_display": false
  },
  "varInspector": {
   "cols": {
    "lenName": 16,
    "lenType": 16,
    "lenVar": 40
   },
   "kernels_config": {
    "python": {
     "delete_cmd_postfix": "",
     "delete_cmd_prefix": "del ",
     "library": "var_list.py",
     "varRefreshCmd": "print(var_dic_list())"
    },
    "r": {
     "delete_cmd_postfix": ") ",
     "delete_cmd_prefix": "rm(",
     "library": "var_list.r",
     "varRefreshCmd": "cat(var_dic_list()) "
    }
   },
   "types_to_exclude": [
    "module",
    "function",
    "builtin_function_or_method",
    "instance",
    "_Feature"
   ],
   "window_display": false
  }
 },
 "nbformat": 4,
 "nbformat_minor": 5
}
