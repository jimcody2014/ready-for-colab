{
 "cells": [
  {
   "cell_type": "markdown",
   "id": "7a99f59c",
   "metadata": {
    "toc": true
   },
   "source": [
    "<h1>Table of Contents<span class=\"tocSkip\"></span></h1>\n",
    "<div class=\"toc\"><ul class=\"toc-item\"><li><span><a href=\"#Reducing-rows-and-columns\" data-toc-modified-id=\"Reducing-rows-and-columns-1\"><span class=\"toc-item-num\">1&nbsp;&nbsp;</span>Reducing rows and columns</a></span><ul class=\"toc-item\"><li><span><a href=\"#Reducing-the-rows\" data-toc-modified-id=\"Reducing-the-rows-1.1\"><span class=\"toc-item-num\">1.1&nbsp;&nbsp;</span>Reducing the rows</a></span><ul class=\"toc-item\"><li><span><a href=\"#An-alternative-approach\" data-toc-modified-id=\"An-alternative-approach-1.1.1\"><span class=\"toc-item-num\">1.1.1&nbsp;&nbsp;</span>An alternative approach</a></span></li></ul></li><li><span><a href=\"#Reducing-the-columns\" data-toc-modified-id=\"Reducing-the-columns-1.2\"><span class=\"toc-item-num\">1.2&nbsp;&nbsp;</span>Reducing the columns</a></span></li></ul></li><li><span><a href=\"#Saving-a-dataframe-to-csv\" data-toc-modified-id=\"Saving-a-dataframe-to-csv-2\"><span class=\"toc-item-num\">2&nbsp;&nbsp;</span>Saving a dataframe to csv</a></span></li><li><span><a href=\"#Merge,-.join-,-Concatenate\" data-toc-modified-id=\"Merge,-.join-,-Concatenate-3\"><span class=\"toc-item-num\">3&nbsp;&nbsp;</span>Merge, .join , Concatenate</a></span><ul class=\"toc-item\"><li><span><a href=\"#Making-the-'table'-wider-(i.e.,-adding-columns-from.-a-second-source)\" data-toc-modified-id=\"Making-the-'table'-wider-(i.e.,-adding-columns-from.-a-second-source)-3.1\"><span class=\"toc-item-num\">3.1&nbsp;&nbsp;</span>Making the 'table' wider (i.e., adding columns from. a second source)</a></span></li><li><span><a href=\"#Merge\" data-toc-modified-id=\"Merge-3.2\"><span class=\"toc-item-num\">3.2&nbsp;&nbsp;</span>Merge</a></span><ul class=\"toc-item\"><li><span><a href=\"#Basic-merge\" data-toc-modified-id=\"Basic-merge-3.2.1\"><span class=\"toc-item-num\">3.2.1&nbsp;&nbsp;</span>Basic merge</a></span></li><li><span><a href=\"#Specifying-columns-to-use-for-the-merge\" data-toc-modified-id=\"Specifying-columns-to-use-for-the-merge-3.2.2\"><span class=\"toc-item-num\">3.2.2&nbsp;&nbsp;</span>Specifying columns to use for the merge</a></span></li></ul></li><li><span><a href=\"#.join\" data-toc-modified-id=\".join-3.3\"><span class=\"toc-item-num\">3.3&nbsp;&nbsp;</span>.join</a></span></li><li><span><a href=\"#Other-merge/join-options\" data-toc-modified-id=\"Other-merge/join-options-3.4\"><span class=\"toc-item-num\">3.4&nbsp;&nbsp;</span>Other merge/join options</a></span><ul class=\"toc-item\"><li><span><a href=\"#Column-names-not-the-same\" data-toc-modified-id=\"Column-names-not-the-same-3.4.1\"><span class=\"toc-item-num\">3.4.1&nbsp;&nbsp;</span>Column names not the same</a></span></li><li><span><a href=\"#Outer-join\" data-toc-modified-id=\"Outer-join-3.4.2\"><span class=\"toc-item-num\">3.4.2&nbsp;&nbsp;</span>Outer join</a></span></li><li><span><a href=\"#Left-join\" data-toc-modified-id=\"Left-join-3.4.3\"><span class=\"toc-item-num\">3.4.3&nbsp;&nbsp;</span>Left join</a></span></li><li><span><a href=\"#Right-join\" data-toc-modified-id=\"Right-join-3.4.4\"><span class=\"toc-item-num\">3.4.4&nbsp;&nbsp;</span>Right join</a></span></li><li><span><a href=\"#Same-code-using-.join\" data-toc-modified-id=\"Same-code-using-.join-3.4.5\"><span class=\"toc-item-num\">3.4.5&nbsp;&nbsp;</span>Same code using .join</a></span></li></ul></li><li><span><a href=\"#Append-(aka-union)\" data-toc-modified-id=\"Append-(aka-union)-3.5\"><span class=\"toc-item-num\">3.5&nbsp;&nbsp;</span>Append (aka union)</a></span></li><li><span><a href=\"#Concatenate\" data-toc-modified-id=\"Concatenate-3.6\"><span class=\"toc-item-num\">3.6&nbsp;&nbsp;</span>Concatenate</a></span><ul class=\"toc-item\"><li><ul class=\"toc-item\"><li><span><a href=\"#Concat-can-work-along-either-axis\" data-toc-modified-id=\"Concat-can-work-along-either-axis-3.6.0.1\"><span class=\"toc-item-num\">3.6.0.1&nbsp;&nbsp;</span>Concat can work along either axis</a></span></li></ul></li></ul></li></ul></li><li><span><a href=\"#Merge-Exercise---20-minutes\" data-toc-modified-id=\"Merge-Exercise---20-minutes-4\"><span class=\"toc-item-num\">4&nbsp;&nbsp;</span>Merge Exercise - 20 minutes</a></span></li><li><span><a href=\"#Return-to-the-Beer-notebook-and-complete-part-3\" data-toc-modified-id=\"Return-to-the-Beer-notebook-and-complete-part-3-5\"><span class=\"toc-item-num\">5&nbsp;&nbsp;</span>Return to the Beer notebook and complete part 3</a></span></li></ul></div>"
   ]
  },
  {
   "cell_type": "markdown",
   "id": "4ca99763",
   "metadata": {},
   "source": [
    "<div style=\"page-break-after: always; break-after: page;\"></div>\n"
   ]
  },
  {
   "cell_type": "code",
   "execution_count": null,
   "id": "35a074bc",
   "metadata": {},
   "outputs": [],
   "source": [
    "import numpy as np\n",
    "import pandas as pd\n",
    "import matplotlib.pyplot as plt\n",
    "import matplotlib as mpl\n",
    "import seaborn as sns\n",
    "from numpy.random import randn\n",
    "import warnings\n",
    "warnings.filterwarnings(\"ignore\")"
   ]
  },
  {
   "cell_type": "code",
   "execution_count": null,
   "id": "c00a7e40",
   "metadata": {},
   "outputs": [],
   "source": [
    "acs =    pd.read_csv('https://raw.githubusercontent.com/jimcody2014/python_data/refs/heads/main/acs2017.csv')\n",
    "places = pd.read_csv('https://raw.githubusercontent.com/jimcody2014/python_data/refs/heads/main/places.csv')\n",
    "print(acs.shape)\n",
    "print(places.shape)"
   ]
  },
  {
   "cell_type": "markdown",
   "id": "477fb9e7",
   "metadata": {},
   "source": [
    "# Reducing rows and columns"
   ]
  },
  {
   "cell_type": "markdown",
   "id": "8a31026f",
   "metadata": {},
   "source": [
    "## Reducing the rows"
   ]
  },
  {
   "cell_type": "code",
   "execution_count": null,
   "id": "669062e9",
   "metadata": {},
   "outputs": [],
   "source": [
    "# Earlier, we used the code similar to the code below as a way of removing rows \n",
    "# from the dataframe.\n",
    "\n",
    "# In this code we are selecting the rows required\n",
    "\n",
    "acs = acs.loc[acs['State']== 'Georgia']\n",
    "acs.shape\n",
    "\n",
    "# This code modifies the existing dataframe."
   ]
  },
  {
   "cell_type": "code",
   "execution_count": null,
   "id": "9578ddb9",
   "metadata": {},
   "outputs": [],
   "source": [
    "# What if we wanted a new dataframe? \n",
    "\n",
    "ga_a = acs.loc[acs.State == 'Georgia']\n",
    "ga_a.shape"
   ]
  },
  {
   "cell_type": "code",
   "execution_count": null,
   "id": "8749b2fb",
   "metadata": {},
   "outputs": [],
   "source": [
    "type(ga_a)"
   ]
  },
  {
   "cell_type": "markdown",
   "id": "429e3613",
   "metadata": {},
   "source": [
    "### An alternative approach"
   ]
  },
  {
   "cell_type": "code",
   "execution_count": null,
   "id": "d6467e72",
   "metadata": {},
   "outputs": [],
   "source": [
    "places.info()"
   ]
  },
  {
   "cell_type": "code",
   "execution_count": null,
   "id": "b3b4cf22",
   "metadata": {},
   "outputs": [],
   "source": [
    "ga_p = places[places['StateAbbr'] == 'GA']\n",
    "ga_p.shape"
   ]
  },
  {
   "cell_type": "code",
   "execution_count": null,
   "id": "3cde3ca5",
   "metadata": {},
   "outputs": [],
   "source": [
    "type(ga_p)"
   ]
  },
  {
   "cell_type": "markdown",
   "id": "6bdcbb37",
   "metadata": {},
   "source": [
    "## Reducing the columns"
   ]
  },
  {
   "cell_type": "code",
   "execution_count": null,
   "id": "11044bd5",
   "metadata": {},
   "outputs": [],
   "source": [
    "drop_columns = {'Hispanic','White','Black','Native','Asian','Pacific'}\n",
    "drop_columns\n",
    "\n",
    "ga_a.drop(columns = drop_columns, inplace=True)"
   ]
  },
  {
   "cell_type": "code",
   "execution_count": null,
   "id": "edbfd71e",
   "metadata": {},
   "outputs": [],
   "source": [
    "ga_a.info()"
   ]
  },
  {
   "cell_type": "code",
   "execution_count": null,
   "id": "b03d6473",
   "metadata": {},
   "outputs": [],
   "source": [
    "ga_a.head()"
   ]
  },
  {
   "cell_type": "code",
   "execution_count": null,
   "id": "a21b9e47",
   "metadata": {},
   "outputs": [],
   "source": [
    "ga_p.head()"
   ]
  },
  {
   "cell_type": "markdown",
   "id": "a54992ba",
   "metadata": {},
   "source": [
    "# Saving a dataframe to csv"
   ]
  },
  {
   "cell_type": "code",
   "execution_count": null,
   "id": "c591cf4c",
   "metadata": {},
   "outputs": [],
   "source": [
    "# Save ga_a and ga_p as csv files\n",
    "ga_a.to_csv('ga_a.csv')\n",
    "ga_p.to_csv('ga_p.csv')"
   ]
  },
  {
   "cell_type": "markdown",
   "id": "5555f9de",
   "metadata": {},
   "source": [
    "# Merge, .join , Concatenate\n",
    "\n",
    "## Making the 'table' wider (i.e., adding columns from. a second source)"
   ]
  },
  {
   "cell_type": "markdown",
   "id": "bddb6502",
   "metadata": {},
   "source": [
    "- merge() for combining data on common columns or indices\n",
    "- .join() for combining data on a key column or an index (uses merge internally, faster because index is used)\n",
    "- concat() for combining DataFrames across rows or columns"
   ]
  },
  {
   "cell_type": "code",
   "execution_count": null,
   "id": "bf3be68e",
   "metadata": {},
   "outputs": [],
   "source": [
    "df1 = {\n",
    "    'location':['bolton','berlin','boyleston','charlton'],\n",
    "    'apples': [3, 2, 0, 1], \n",
    "    'pears': [0, 3, 7, 2]\n",
    "}\n",
    "\n",
    "df2 = {\n",
    "    'location':['bolton','berlin','boyleston','charlton'],\n",
    "    'blueberries': [3, 2, 0, 1], \n",
    "    'strawberries': [0, 3, 7, 2]\n",
    "}\n",
    "\n",
    "d1 = pd.DataFrame(df1)\n",
    "d2 = pd.DataFrame(df2)\n",
    "d1.info()"
   ]
  },
  {
   "cell_type": "code",
   "execution_count": null,
   "id": "f98d9d11",
   "metadata": {},
   "outputs": [],
   "source": [
    "d2.info()"
   ]
  },
  {
   "cell_type": "markdown",
   "id": "ba0175d9",
   "metadata": {},
   "source": [
    "## Merge"
   ]
  },
  {
   "cell_type": "markdown",
   "id": "2f67429b",
   "metadata": {},
   "source": [
    "### Basic merge"
   ]
  },
  {
   "cell_type": "code",
   "execution_count": null,
   "id": "44955c29",
   "metadata": {},
   "outputs": [],
   "source": [
    "pd.merge(d1,d2,how = 'inner')  # Inner, outer, left, right\n",
    "# When not being explicit, the merge is based on the index for each dataframe."
   ]
  },
  {
   "cell_type": "markdown",
   "id": "53e72f3c",
   "metadata": {},
   "source": [
    "More info: https://pandas.pydata.org/pandas-docs/stable/user_guide/merging.html#brief-primer-on-merge-methods-relational-algebra\n"
   ]
  },
  {
   "cell_type": "markdown",
   "id": "0d5b4d24",
   "metadata": {},
   "source": [
    "### Specifying columns to use for the merge"
   ]
  },
  {
   "cell_type": "code",
   "execution_count": null,
   "id": "e03c051d",
   "metadata": {},
   "outputs": [],
   "source": [
    "df3 = {\n",
    "    'state':['MA','MA','VT','VT'],\n",
    "    'location':['bolton','berlin','boyleston','berlin'],\n",
    "    'apples': [3, 2, 0, 1], \n",
    "    'pears': [0, 3, 7, 2]\n",
    "}\n",
    "\n",
    "df4 = {\n",
    "    'state':['MA','MA','VT','VT'],\n",
    "    'location':['bolton','berlin','boyleston','berlin'],\n",
    "    'blueberries': [3, 2, 0, 1], \n",
    "    'strawberries': [0, 3, 7, 2]\n",
    "}\n",
    "\n",
    "d3 = pd.DataFrame(df3)\n",
    "d4 = pd.DataFrame(df4)"
   ]
  },
  {
   "cell_type": "code",
   "execution_count": null,
   "id": "2223c25f",
   "metadata": {},
   "outputs": [],
   "source": [
    "multi = pd.merge(d3,d4, how = 'inner', on = ['state','location'])\n",
    "multi"
   ]
  },
  {
   "cell_type": "markdown",
   "id": "ff14a41b",
   "metadata": {},
   "source": [
    "## .join "
   ]
  },
  {
   "cell_type": "code",
   "execution_count": null,
   "id": "f3abd1c5",
   "metadata": {},
   "outputs": [],
   "source": [
    "# basic syntax - first_dataframe.join(to second dataframe)\n",
    "d1.join(d2, lsuffix = '_1')\n",
    "\n",
    "# d1.join(d2, lsuffix = '_1', rsuffix = '_2')\n"
   ]
  },
  {
   "cell_type": "code",
   "execution_count": null,
   "id": "226a22bb",
   "metadata": {},
   "outputs": [],
   "source": [
    "# If you want to use join() and want to merge the columns, you must set them to be indexes first. \n",
    "\n",
    "d1.join(d2.set_index('location'), on='location', lsuffix = '_1', rsuffix = '_2')\n"
   ]
  },
  {
   "cell_type": "code",
   "execution_count": null,
   "id": "eac8d2f0",
   "metadata": {},
   "outputs": [],
   "source": [
    "d3.join(d4.set_index(['state','location']), on=['state','location'], lsuffix='_3')"
   ]
  },
  {
   "cell_type": "markdown",
   "id": "5396c007",
   "metadata": {},
   "source": [
    " "
   ]
  },
  {
   "cell_type": "markdown",
   "id": "21dbca77",
   "metadata": {},
   "source": [
    "![image10_merge.png](images/image10_merge.png)\n",
    "\n",
    "\n",
    "https://queirozf.com/entries/pandas-dataframes-merge-join-examples"
   ]
  },
  {
   "cell_type": "markdown",
   "id": "104d7399",
   "metadata": {},
   "source": [
    "## Other merge/join options"
   ]
  },
  {
   "cell_type": "markdown",
   "id": "a9fac022",
   "metadata": {},
   "source": [
    "### Column names not the same"
   ]
  },
  {
   "cell_type": "code",
   "execution_count": null,
   "id": "3aa1e4ba",
   "metadata": {},
   "outputs": [],
   "source": [
    "df5 = {\n",
    "    'state':['MA','MA','VT','VT'],\n",
    "    'location':['bolton','berlin','boyleston','berlin'],\n",
    "    'apples': [3, 2, 0, 1], \n",
    "    'pears': [0, 3, 7, 2]\n",
    "}\n",
    "\n",
    "df6 = {\n",
    "    'states':['MA','MA','VT','VT'],\n",
    "    'loc':['bolton','berlin','boyleston','berlin'],\n",
    "    'blueberries': [3, 2, 0, 1], \n",
    "    'strawberries': [0, 3, 7, 2]\n",
    "}\n",
    "\n",
    "d5 = pd.DataFrame(df5)\n",
    "d6 = pd.DataFrame(df6)"
   ]
  },
  {
   "cell_type": "code",
   "execution_count": null,
   "id": "e0a61a35",
   "metadata": {},
   "outputs": [],
   "source": [
    "# Use left_on, right_on instead of on.\n",
    "\n",
    "pd.merge(d5, d6, left_on = ['state','location'], right_on = ['states','loc'])\n",
    "\n",
    "# Would it be better or easier to just rename the columns?"
   ]
  },
  {
   "cell_type": "markdown",
   "id": "a847ef9a",
   "metadata": {},
   "source": [
    "### Outer join"
   ]
  },
  {
   "cell_type": "code",
   "execution_count": null,
   "id": "98764c37",
   "metadata": {},
   "outputs": [],
   "source": [
    "df7 = {\n",
    "    'state':['MA','MA','VT','NH'],\n",
    "    'location':['bolton','berlin','boyleston','berlin'],\n",
    "    'apples': [3, 2, 0, 1], \n",
    "    'pears': [0, 3, 7, 2]\n",
    "}\n",
    "\n",
    "df8 = {\n",
    "    'state':['MA','MA','VT','ME'],\n",
    "    'location':['bolton','berlin','boyleston','berlin'],\n",
    "    'blueberries': [3, 2, 0, 1], \n",
    "    'strawberries': [0, 3, 7, 2]\n",
    "}\n",
    "\n",
    "d7 = pd.DataFrame(df7)\n",
    "d8 = pd.DataFrame(df8)"
   ]
  },
  {
   "cell_type": "code",
   "execution_count": null,
   "id": "34957a7c",
   "metadata": {},
   "outputs": [],
   "source": [
    "outer = pd.merge(d7,d8, how = 'outer', on = ['state','location'])\n",
    "outer"
   ]
  },
  {
   "cell_type": "markdown",
   "id": "f37d0832",
   "metadata": {},
   "source": [
    "### Left join"
   ]
  },
  {
   "cell_type": "code",
   "execution_count": null,
   "id": "2289ebe9",
   "metadata": {},
   "outputs": [],
   "source": [
    "left = pd.merge(d7,d8, how = 'left', on = ['state','location'])\n",
    "left\n",
    "\n",
    "# Notice the Nan values"
   ]
  },
  {
   "cell_type": "markdown",
   "id": "58d379e3",
   "metadata": {},
   "source": [
    "### Right join"
   ]
  },
  {
   "cell_type": "code",
   "execution_count": null,
   "id": "fad0adea",
   "metadata": {},
   "outputs": [],
   "source": [
    "right = pd.merge(d7,d8, how = 'right', on = ['state','location'])\n",
    "right"
   ]
  },
  {
   "cell_type": "markdown",
   "id": "2b25ebd7",
   "metadata": {},
   "source": [
    "### Same code using .join"
   ]
  },
  {
   "cell_type": "code",
   "execution_count": null,
   "id": "dbf0ab2b",
   "metadata": {},
   "outputs": [],
   "source": [
    "# Outer join\n",
    "\n",
    "d7.join(d8.set_index(['state','location']), on=['state','location'], lsuffix='_3',how= 'outer')"
   ]
  },
  {
   "cell_type": "code",
   "execution_count": null,
   "id": "d035474d",
   "metadata": {},
   "outputs": [],
   "source": [
    "# Left join\n",
    "\n",
    "d7.join(d8.set_index(['state','location']), on=['state','location'], lsuffix='_3',how= 'left')"
   ]
  },
  {
   "cell_type": "code",
   "execution_count": null,
   "id": "d33520ad",
   "metadata": {},
   "outputs": [],
   "source": [
    "# Right join\n",
    "\n",
    "d7.join(d8.set_index(['state','location']), on=['state','location'], lsuffix='_3',how= 'right')"
   ]
  },
  {
   "cell_type": "markdown",
   "id": "9d38106f",
   "metadata": {},
   "source": [
    "## Append (aka union)\n",
    "\n",
    "Stack datasets on top of one another"
   ]
  },
  {
   "cell_type": "code",
   "execution_count": null,
   "id": "1e97aaad",
   "metadata": {},
   "outputs": [],
   "source": [
    "df9 = {\n",
    "    'month':['Oct','Oct','Oct','Oct'],\n",
    "    'location':['bolton','berlin','boyleston','charlton'],\n",
    "    'apples': [3, 2, 0, 1], \n",
    "    'pears': [0, 3, 7, 2]\n",
    "}\n",
    "\n",
    "df10 = {\n",
    "    'month':['Nov','Nov','Nov','Nov'],\n",
    "    'location':['bolton','berlin','boyleston','charlton'],\n",
    "    'apples': [3, 2, 0, 1], \n",
    "    'pears': [0, 3, 7, 2]\n",
    "}\n",
    "\n",
    "d9 = pd.DataFrame(df9)\n",
    "d10 = pd.DataFrame(df10)"
   ]
  },
  {
   "cell_type": "code",
   "execution_count": null,
   "id": "6f435781",
   "metadata": {},
   "outputs": [],
   "source": [
    "d9.append(d10)"
   ]
  },
  {
   "cell_type": "markdown",
   "id": "96397f6d",
   "metadata": {},
   "source": [
    "## Concatenate\n",
    "\n",
    "With concatenation, your datasets are just stitched together along an axis — either the row axis or column axis"
   ]
  },
  {
   "cell_type": "code",
   "execution_count": null,
   "id": "bcc8dceb",
   "metadata": {},
   "outputs": [],
   "source": [
    "pd.concat([d9,d10])  # Need to pass in a *list* of dataframes"
   ]
  },
  {
   "cell_type": "markdown",
   "id": "4ed22380",
   "metadata": {},
   "source": [
    "#### Concat can work along either axis"
   ]
  },
  {
   "cell_type": "code",
   "execution_count": null,
   "id": "8a360f4c",
   "metadata": {},
   "outputs": [],
   "source": [
    "pd.concat([d9,d10], axis = 1)"
   ]
  },
  {
   "cell_type": "code",
   "execution_count": null,
   "id": "5d13db4a",
   "metadata": {},
   "outputs": [],
   "source": [
    "pd.concat([d7,d8], axis = 1)  # Be careful!"
   ]
  },
  {
   "cell_type": "code",
   "execution_count": null,
   "id": "dd9285a1",
   "metadata": {},
   "outputs": [],
   "source": [
    "pd.concat([d7,d8], join = 'inner', axis =1)"
   ]
  },
  {
   "cell_type": "markdown",
   "id": "3cb65320",
   "metadata": {},
   "source": [
    "# Merge Exercise - 20 minutes"
   ]
  },
  {
   "cell_type": "code",
   "execution_count": null,
   "id": "44f43aed",
   "metadata": {},
   "outputs": [],
   "source": [
    "# ga_a (acs data for Georgia) and ga_p (PLACES data for Georgia) each have 159 rows.  \n",
    "# We might assume each df contains the same list of counties but we can't be sure.  \n",
    "# Merge the datasets together using an inner join and then an outer join.  \n",
    "# Do the shapes (dimensions) of the merged datasets change?  \n",
    "# Do they contain the same number of counties?\n",
    "\n"
   ]
  },
  {
   "cell_type": "markdown",
   "id": "bc94c868",
   "metadata": {},
   "source": [
    "# Return to the Beer notebook and complete part 3"
   ]
  },
  {
   "cell_type": "code",
   "execution_count": null,
   "id": "984cade8",
   "metadata": {},
   "outputs": [],
   "source": []
  }
 ],
 "metadata": {
  "kernelspec": {
   "display_name": "Python 3 (ipykernel)",
   "language": "python",
   "name": "python3"
  },
  "language_info": {
   "codemirror_mode": {
    "name": "ipython",
    "version": 3
   },
   "file_extension": ".py",
   "mimetype": "text/x-python",
   "name": "python",
   "nbconvert_exporter": "python",
   "pygments_lexer": "ipython3",
   "version": "3.12.7"
  },
  "toc": {
   "base_numbering": 1,
   "nav_menu": {},
   "number_sections": true,
   "sideBar": true,
   "skip_h1_title": false,
   "title_cell": "Table of Contents",
   "title_sidebar": "Contents",
   "toc_cell": true,
   "toc_position": {},
   "toc_section_display": true,
   "toc_window_display": true
  },
  "varInspector": {
   "cols": {
    "lenName": 16,
    "lenType": 16,
    "lenVar": 40
   },
   "kernels_config": {
    "python": {
     "delete_cmd_postfix": "",
     "delete_cmd_prefix": "del ",
     "library": "var_list.py",
     "varRefreshCmd": "print(var_dic_list())"
    },
    "r": {
     "delete_cmd_postfix": ") ",
     "delete_cmd_prefix": "rm(",
     "library": "var_list.r",
     "varRefreshCmd": "cat(var_dic_list()) "
    }
   },
   "types_to_exclude": [
    "module",
    "function",
    "builtin_function_or_method",
    "instance",
    "_Feature"
   ],
   "window_display": false
  }
 },
 "nbformat": 4,
 "nbformat_minor": 5
}
