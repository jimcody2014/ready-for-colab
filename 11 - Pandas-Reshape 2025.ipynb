{
 "cells": [
  {
   "cell_type": "markdown",
   "id": "0e016c61",
   "metadata": {
    "toc": true
   },
   "source": [
    "<h1>Table of Contents<span class=\"tocSkip\"></span></h1>\n",
    "<div class=\"toc\"><ul class=\"toc-item\"><li><span><a href=\"#Melt---make-a-wide-table-narrow\" data-toc-modified-id=\"Melt---make-a-wide-table-narrow-1\"><span class=\"toc-item-num\">1&nbsp;&nbsp;</span>Melt - make a wide table narrow</a></span></li><li><span><a href=\"#Stack\" data-toc-modified-id=\"Stack-2\"><span class=\"toc-item-num\">2&nbsp;&nbsp;</span>Stack</a></span></li><li><span><a href=\"#Pivot\" data-toc-modified-id=\"Pivot-3\"><span class=\"toc-item-num\">3&nbsp;&nbsp;</span>Pivot</a></span></li><li><span><a href=\"#Exercise---10-minutes\" data-toc-modified-id=\"Exercise---10-minutes-4\"><span class=\"toc-item-num\">4&nbsp;&nbsp;</span>Exercise - 10 minutes</a></span></li></ul></div>"
   ]
  },
  {
   "cell_type": "code",
   "execution_count": null,
   "id": "77b1d110",
   "metadata": {},
   "outputs": [],
   "source": [
    "import numpy as np\n",
    "import pandas as pd\n",
    "import matplotlib.pyplot as plt\n",
    "import matplotlib as mpl\n",
    "import seaborn as sns\n",
    "from numpy.random import randn"
   ]
  },
  {
   "cell_type": "code",
   "execution_count": null,
   "id": "70a7482c",
   "metadata": {},
   "outputs": [],
   "source": [
    "acs =    pd.read_csv('https://raw.githubusercontent.com/jimcody2014/python_data/refs/heads/main/ga_a.csv')\n",
    "places = pd.read_csv('https://raw.githubusercontent.com/jimcody2014/python_data/refs/heads/main/ga_p.csv')\n",
    "\n",
    "print(acs.shape)\n",
    "print(places.shape)"
   ]
  },
  {
   "cell_type": "code",
   "execution_count": null,
   "id": "a43302d9",
   "metadata": {},
   "outputs": [],
   "source": [
    "places.info()"
   ]
  },
  {
   "cell_type": "code",
   "execution_count": null,
   "id": "89396e5e",
   "metadata": {},
   "outputs": [],
   "source": [
    "places = places.drop('Unnamed: 0',axis=1) \n",
    "places.head()"
   ]
  },
  {
   "cell_type": "code",
   "execution_count": null,
   "id": "60ae92ed",
   "metadata": {},
   "outputs": [],
   "source": [
    "df1 = {\n",
    "    'fruit':['apples','pears','oranges','mangos'],\n",
    "    'Jan':[100,87,45,56],\n",
    "    'Feb':[78,43,78,89],\n",
    "    'Mar':[34,67,54,98],\n",
    "    'Apr':[102,98,105,154],\n",
    "    'May':[1,2,3,4],\n",
    "    'Jun':[10,20,40,70]\n",
    "}\n",
    "d1 = pd.DataFrame(df1)\n",
    "d1"
   ]
  },
  {
   "cell_type": "markdown",
   "id": "dcf1cc31",
   "metadata": {},
   "source": [
    "# Melt - make a wide table narrow"
   ]
  },
  {
   "cell_type": "code",
   "execution_count": null,
   "id": "ab9a9d26",
   "metadata": {},
   "outputs": [],
   "source": [
    "# id_vars - \n",
    "# var_name - \n",
    "# value_name - \n",
    "\n",
    "d1.melt(id_vars=['fruit'])"
   ]
  },
  {
   "cell_type": "code",
   "execution_count": null,
   "id": "324343a2",
   "metadata": {},
   "outputs": [],
   "source": [
    "#d1.melt(id_vars=['fruit'], var_name = 'Month', value_name = 'Picked')\n",
    "d1.melt(id_vars=['fruit'], var_name = 'Month', value_name = 'Picked').sort_values(by = 'fruit')\n",
    "#d1.melt(id_vars=['fruit'], var_name = 'Month', value_name = 'Picked').sort_values(by = ['fruit', 'Month'])"
   ]
  },
  {
   "cell_type": "markdown",
   "id": "4948aba7",
   "metadata": {},
   "source": [
    "# Stack"
   ]
  },
  {
   "cell_type": "code",
   "execution_count": null,
   "id": "07e0a88a",
   "metadata": {},
   "outputs": [],
   "source": [
    "d1"
   ]
  },
  {
   "cell_type": "code",
   "execution_count": null,
   "id": "bc76cae1",
   "metadata": {},
   "outputs": [],
   "source": [
    "d1.stack()"
   ]
  },
  {
   "cell_type": "code",
   "execution_count": null,
   "id": "f35e7c3b",
   "metadata": {},
   "outputs": [],
   "source": [
    "fruit = ['apples','pears','oranges','mangos']\n",
    "df2 = {\n",
    " #   'fruit':['apples','pears','oranges','mangos'],\n",
    "    'Jan':[100,87,45,56],\n",
    "    'Feb':[78,43,78,89],\n",
    "    'Mar':[34,67,54,98],\n",
    "    'Apr':[102,98,105,154],\n",
    "    'May':[1,2,3,4],\n",
    "    'Jun':[10,20,40,70]\n",
    "}\n",
    "d2 = pd.DataFrame(df2, index = fruit)\n",
    "d2"
   ]
  },
  {
   "cell_type": "code",
   "execution_count": null,
   "id": "ad6b4a25",
   "metadata": {},
   "outputs": [],
   "source": [
    "d2.stack()"
   ]
  },
  {
   "cell_type": "code",
   "execution_count": null,
   "id": "ec7bcd4b",
   "metadata": {},
   "outputs": [],
   "source": [
    "fruit = ['apples','pears','apple','pears']\n",
    "state = ['MA','MA','VT','VT']\n",
    "df2 = {\n",
    " #   'fruit':['apples','pears','oranges','mangos'],\n",
    "    'Jan':[100,87,45,56],\n",
    "    'Feb':[78,43,78,89],\n",
    "    'Mar':[34,67,54,98],\n",
    "    'Apr':[102,98,105,154],\n",
    "    'May':[1,2,3,4],\n",
    "    'Jun':[10,20,40,70]\n",
    "}\n",
    "d2 = pd.DataFrame(df2, index = [state,fruit])\n",
    "d2"
   ]
  },
  {
   "cell_type": "code",
   "execution_count": null,
   "id": "ccc14432",
   "metadata": {},
   "outputs": [],
   "source": [
    "d2_stacked = d2.stack()\n",
    "d2_stacked"
   ]
  },
  {
   "cell_type": "code",
   "execution_count": null,
   "id": "bf3ea930",
   "metadata": {},
   "outputs": [],
   "source": [
    "d2_stacked.unstack()"
   ]
  },
  {
   "cell_type": "markdown",
   "id": "c6cf1135",
   "metadata": {},
   "source": [
    "# Pivot"
   ]
  },
  {
   "cell_type": "code",
   "execution_count": null,
   "id": "7df7a58c",
   "metadata": {},
   "outputs": [],
   "source": [
    "df5 = {\n",
    "    'state':['MA','MA','VT','VT'],\n",
    "    'location':['bolton','berlin','boyleston','berlin'],\n",
    "    'apples': [3, 2, 0, 1], \n",
    "    'pears': [0, 3, 7, 2]\n",
    "}\n",
    "d5 = pd.DataFrame(df5)\n",
    "d5"
   ]
  },
  {
   "cell_type": "code",
   "execution_count": null,
   "id": "a045cf37",
   "metadata": {},
   "outputs": [],
   "source": [
    "d5.pivot(index='state', columns = 'location')"
   ]
  },
  {
   "cell_type": "code",
   "execution_count": null,
   "id": "3603487f",
   "metadata": {},
   "outputs": [],
   "source": [
    "d5.pivot(index='state', columns = 'location', values = 'apples')"
   ]
  },
  {
   "cell_type": "markdown",
   "id": "efb9d981",
   "metadata": {},
   "source": [
    "# Exercise - 10 minutes"
   ]
  },
  {
   "cell_type": "code",
   "execution_count": null,
   "id": "6dfda353",
   "metadata": {},
   "outputs": [],
   "source": [
    "places.head()"
   ]
  },
  {
   "cell_type": "code",
   "execution_count": null,
   "id": "19c8b649",
   "metadata": {},
   "outputs": [],
   "source": [
    "# The places dataset has a separate column for each healthy outcome measure.\n",
    "# Melt the table so that they are all in one column with their associated values in a separate column.\n",
    "#d1.melt(id_vars=['fruit'], var_name = 'Month', value_name = 'Picked').sort_values(by = ['fruit', 'Month'])\n",
    "\n",
    "places_long = places.melt(id_vars=['StateAbbr','StateDesc','CountyName','CountyFIPS','TotalPopulation'], \n",
    "                          var_name = 'Outcome', value_name='pct').sort_values(by = 'CountyFIPS')\n",
    "places_long.head(20)\n"
   ]
  },
  {
   "cell_type": "code",
   "execution_count": null,
   "id": "8117f776",
   "metadata": {},
   "outputs": [],
   "source": [
    "places_long.shape"
   ]
  },
  {
   "cell_type": "code",
   "execution_count": null,
   "id": "33bdd9c6",
   "metadata": {},
   "outputs": [],
   "source": [
    "# This works but creates a potential problem.  What do you think it is?  "
   ]
  },
  {
   "cell_type": "code",
   "execution_count": null,
   "id": "9c04e083",
   "metadata": {},
   "outputs": [],
   "source": [
    "# Making sure TotalPopulation cannot be accidentally summarized\n",
    "places_long = places_long.drop('TotalPopulation',axis=1) \n"
   ]
  },
  {
   "cell_type": "code",
   "execution_count": null,
   "id": "75421b3c",
   "metadata": {},
   "outputs": [],
   "source": [
    "places_long.shape"
   ]
  }
 ],
 "metadata": {
  "kernelspec": {
   "display_name": "Python 3 (ipykernel)",
   "language": "python",
   "name": "python3"
  },
  "language_info": {
   "codemirror_mode": {
    "name": "ipython",
    "version": 3
   },
   "file_extension": ".py",
   "mimetype": "text/x-python",
   "name": "python",
   "nbconvert_exporter": "python",
   "pygments_lexer": "ipython3",
   "version": "3.12.7"
  },
  "toc": {
   "base_numbering": 1,
   "nav_menu": {},
   "number_sections": true,
   "sideBar": true,
   "skip_h1_title": false,
   "title_cell": "Table of Contents",
   "title_sidebar": "Contents",
   "toc_cell": true,
   "toc_position": {},
   "toc_section_display": true,
   "toc_window_display": true
  },
  "varInspector": {
   "cols": {
    "lenName": 16,
    "lenType": 16,
    "lenVar": 40
   },
   "kernels_config": {
    "python": {
     "delete_cmd_postfix": "",
     "delete_cmd_prefix": "del ",
     "library": "var_list.py",
     "varRefreshCmd": "print(var_dic_list())"
    },
    "r": {
     "delete_cmd_postfix": ") ",
     "delete_cmd_prefix": "rm(",
     "library": "var_list.r",
     "varRefreshCmd": "cat(var_dic_list()) "
    }
   },
   "types_to_exclude": [
    "module",
    "function",
    "builtin_function_or_method",
    "instance",
    "_Feature"
   ],
   "window_display": false
  }
 },
 "nbformat": 4,
 "nbformat_minor": 5
}
