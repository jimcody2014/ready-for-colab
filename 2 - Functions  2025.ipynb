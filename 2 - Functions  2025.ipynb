{
 "cells": [
  {
   "cell_type": "markdown",
   "id": "bd122703-b5e5-4d3c-9d2c-29cd7a8e7746",
   "metadata": {},
   "source": [
    "# Functions\n"
   ]
  },
  {
   "cell_type": "markdown",
   "id": "e27454dc-d586-42cf-88ef-002cb839dd6d",
   "metadata": {},
   "source": [
    "- A function is a block of code.\n",
    "- In order for the code to be executed it must be called.\n",
    "\n",
    "- The keyword def introduces a function definition.\n",
    "- It must be followed by the function name and the parenthesized list of formal parameters.\n",
    "- The statements that form the body of the function start at the next line, and must be indented."
   ]
  },
  {
   "cell_type": "code",
   "execution_count": 5,
   "id": "7eaffee4-346e-46da-98cb-3cd5306d5d44",
   "metadata": {},
   "outputs": [],
   "source": [
    "def do_math(a):                    # 'a' is the parameter\n",
    "    x = a + 10\n",
    "    print(f'x is equal to: {x}' )\n",
    "\n"
   ]
  },
  {
   "cell_type": "markdown",
   "id": "2f61f6da-2532-477c-bcb3-ff9975b239ea",
   "metadata": {},
   "source": [
    "In Python (and programming in general), parameters and arguments refer to different aspects of function usage:\n",
    "\n",
    "### Parameter\n",
    "- A parameter is a variable defined in the function definition.\n",
    "- It acts as a placeholder to accept values when the function is called.\n",
    "- Parameters exist in the function's definition and are used to generalize the function's behavior.\n",
    "\n",
    "### Argument\n",
    "- An argument is the actual value you pass to a function when calling it.\n",
    "- Arguments \"fill in\" the parameters."
   ]
  },
  {
   "cell_type": "code",
   "execution_count": null,
   "id": "f11a9bc6-f779-4f91-b366-98b1e78a49b1",
   "metadata": {},
   "outputs": [],
   "source": [
    "do_math(5)    # '5' is the arguement passed to the function"
   ]
  },
  {
   "cell_type": "markdown",
   "id": "9c5ca2f8-e097-4913-a577-659b06e4d21e",
   "metadata": {},
   "source": [
    "## Variable Scope\n",
    "\n",
    "Variable scope refers to the context in which a variable is defined and accessible. Variables can either have local scope or global scope depending on where they are declared.\n",
    "\n",
    "### Local Scope\n",
    "- A variable defined inside a function is said to have local scope.\n",
    "- It is only accessible within the function where it is defined.\n",
    "- Once the function finishes executing, the local variable is destroyed.\n",
    "\n",
    "### Global Scope\n",
    "- A variable defined outside of any function has a global scope.\n",
    "- It can be accessed and modified from anywhere in the program, unless shadowed by a local variable.\n",
    "- However, modifying global variables inside functions requires the global keyword.\n",
    "- Without the global keyword, Python would create a new local variable instead of modifying the global variable."
   ]
  },
  {
   "cell_type": "markdown",
   "id": "c48eca4f-77d3-48a7-b291-a618a1e1721c",
   "metadata": {},
   "source": [
    "Reminder - **This is the function we already created.**\n",
    "\n",
    "def do_math(a):            \n",
    "    x = a + 10\n",
    "    print(f'x is equal to: {x}' )"
   ]
  },
  {
   "cell_type": "code",
   "execution_count": null,
   "id": "7f994d3f-cb25-43bf-a701-e1e3a2f1f806",
   "metadata": {},
   "outputs": [],
   "source": [
    "n = 5"
   ]
  },
  {
   "cell_type": "code",
   "execution_count": null,
   "id": "0979ff13-047f-4425-b4bf-fd3a9637e8d5",
   "metadata": {},
   "outputs": [],
   "source": [
    "# Run the function using the variable 'n'\n",
    "\n",
    "do_math(n)"
   ]
  },
  {
   "cell_type": "code",
   "execution_count": null,
   "id": "3cf9c19b-0ce2-4b04-b848-72bc6f224449",
   "metadata": {},
   "outputs": [],
   "source": [
    "# n is a global variable that can be used whenever required\n",
    "\n",
    "n"
   ]
  },
  {
   "cell_type": "code",
   "execution_count": null,
   "id": "f517fb30-e166-47c8-a01f-8722b30251cf",
   "metadata": {},
   "outputs": [],
   "source": [
    "# x is not available outside of the function.  \n",
    "# It is local, meaning it is only available for use inside the function.\n",
    "\n",
    "x"
   ]
  },
  {
   "cell_type": "code",
   "execution_count": null,
   "id": "2915e680-3e80-4f6e-acd0-07d3aae2c236",
   "metadata": {},
   "outputs": [],
   "source": [
    "# Using the 'global' keyword\n",
    "\n",
    "n = 5  # Global variable\n",
    "\n",
    "def do_math2(a):\n",
    "    global n\n",
    "    n = a+10  # Modifies the global variable\n",
    "\n",
    "do_math2(5)\n",
    "print(n) \n"
   ]
  },
  {
   "cell_type": "markdown",
   "id": "ca29453f-2245-4e76-8086-e4d8cb80fa47",
   "metadata": {},
   "source": [
    "### Consider the following:\n",
    "- Minimize the use of global variables: They can make debugging difficult because they can be modified from anywhere.\n",
    "- Use local variables whenever possible for better modularity and encapsulation.\n",
    "- By managing scopes carefully, you can avoid **unintended side effects** and make your code easier to maintain and debug."
   ]
  },
  {
   "cell_type": "markdown",
   "id": "d90ad0fd-8b2d-4b8d-843a-929488e41f52",
   "metadata": {},
   "source": [
    "## Return keyword\n",
    "\n",
    "The return keyword in Python is used in functions to send a value back to the caller (the code that invoked the function). Once a return statement is executed, the function **terminates** immediately, and the specified value (if any) is returned to the caller.\n"
   ]
  },
  {
   "cell_type": "code",
   "execution_count": null,
   "id": "c34461ca-a8ea-4db2-b981-1b3f6fbe5914",
   "metadata": {},
   "outputs": [],
   "source": [
    "def do_math3(a):            \n",
    "    x = a + 10\n",
    "    return x"
   ]
  },
  {
   "cell_type": "code",
   "execution_count": null,
   "id": "a46ea9e1-1b21-4ae4-a3b7-25778c18521c",
   "metadata": {},
   "outputs": [],
   "source": [
    "n=5\n",
    "out_math3 = do_math3(n)  # run the function and assign the reutrned value to a variable\n",
    "out_math3"
   ]
  },
  {
   "cell_type": "code",
   "execution_count": null,
   "id": "7c9ed94a-e20e-48fe-8d73-d0b65ff6136f",
   "metadata": {},
   "outputs": [],
   "source": [
    "# 'x' is still a local variable\n",
    "x"
   ]
  },
  {
   "cell_type": "code",
   "execution_count": null,
   "id": "e5211b72-7a33-40f4-a007-95ac88f5af99",
   "metadata": {},
   "outputs": [],
   "source": [
    "# Example of terminating the function\n",
    "\n",
    "def check_value(num):\n",
    "    if num > 5:\n",
    "        return '>5'\n",
    "    return '<5'"
   ]
  },
  {
   "cell_type": "code",
   "execution_count": null,
   "id": "aed462ba-16a7-4472-948e-e5bc50a03890",
   "metadata": {},
   "outputs": [],
   "source": [
    "z = check_value(23)\n",
    "z"
   ]
  },
  {
   "cell_type": "code",
   "execution_count": null,
   "id": "4e4544bb-93e9-4958-b071-5f9ce13d90f4",
   "metadata": {},
   "outputs": [],
   "source": [
    "# A full if/then/else stateent in the function\n",
    "\n",
    "def size(shoe_size):\n",
    "    if shoe_size >= 14:\n",
    "        return 'XL'\n",
    "    elif shoe_size >= 10:\n",
    "        return 'L'\n",
    "    elif shoe_size >= 7:\n",
    "        return 'M'\n",
    "    else:\n",
    "        return 'S'"
   ]
  },
  {
   "cell_type": "code",
   "execution_count": null,
   "id": "96415231-48cf-4720-b7a5-3d9600d938a9",
   "metadata": {},
   "outputs": [],
   "source": [
    "shoe_letter = size(11)\n",
    "shoe_letter"
   ]
  },
  {
   "cell_type": "markdown",
   "id": "c1eae08a-a00f-47d0-899b-92353da46a68",
   "metadata": {},
   "source": [
    "### Notes\n",
    "- Functions can use multiple parameters.\n",
    "- Functions can accept any data type.\n",
    "-\n",
    "- The value returned by return can be any data type: int, str, list, dict, None, etc.\n",
    "- Using return inside a function makes the function more versatile and reusable because it can compute and provide a result to the caller."
   ]
  },
  {
   "cell_type": "code",
   "execution_count": null,
   "id": "2e706cc0-1d0c-45e1-a5ba-9e3228423d36",
   "metadata": {},
   "outputs": [],
   "source": [
    "# Accepting multiple values\n",
    "\n",
    "def do_math4(a,b):\n",
    "    y = a+b\n",
    "    return y\n",
    "\n",
    "y_out = do_math4(3,4)\n",
    "y_out\n",
    "    "
   ]
  },
  {
   "cell_type": "code",
   "execution_count": null,
   "id": "a1f0eb8b-4e11-4b49-8f55-8bcef630558e",
   "metadata": {},
   "outputs": [],
   "source": [
    "months = [1,2,3,4,5,6,7,8,9,10,11,12]"
   ]
  },
  {
   "cell_type": "code",
   "execution_count": null,
   "id": "7e7ec92e-d1d2-48e4-94b6-2b605b32203f",
   "metadata": {},
   "outputs": [],
   "source": [
    "for item in months:\n",
    "    if item > 10: \n",
    "        print(item)"
   ]
  },
  {
   "cell_type": "code",
   "execution_count": null,
   "id": "b56db170-b50c-4a8b-aab3-cc02893f45d5",
   "metadata": {},
   "outputs": [],
   "source": [
    "# Return a list\n",
    "\n",
    "def make_list1(in_list):\n",
    "    even_numbers = []               # empty list created first\n",
    "    for item in in_list:\n",
    "        if item % 2 == 0:\n",
    "            even_numbers.append(item)\n",
    "    return even_numbers\n",
    "            \n"
   ]
  },
  {
   "cell_type": "code",
   "execution_count": null,
   "id": "aa496af0-c349-4a37-bc65-70df220eea79",
   "metadata": {},
   "outputs": [],
   "source": [
    "out_list = make_list1(months)\n",
    "out_list"
   ]
  },
  {
   "cell_type": "code",
   "execution_count": null,
   "id": "66a21ddd-a86a-4d83-8379-2d32cc8a3bfe",
   "metadata": {},
   "outputs": [],
   "source": [
    "# Use list comprehension\n",
    "\n",
    "def make_list2(in_list):\n",
    "    return [item for item in in_list if item % 2 == 0]"
   ]
  },
  {
   "cell_type": "code",
   "execution_count": null,
   "id": "aa059f47-4993-4e0c-a8c7-aeded970e018",
   "metadata": {},
   "outputs": [],
   "source": [
    "out_list = make_list2(months)\n",
    "out_list"
   ]
  },
  {
   "cell_type": "markdown",
   "id": "2e9cd1e3-245f-455a-84ba-229056c0757e",
   "metadata": {},
   "source": [
    "# Exercise: List Modification- 5 minutes\n",
    "\n",
    "Create a list that takes the imput list and converts everything to upper case\n",
    "\n",
    "Use these values for the input list: Nebraska, Oklahoma, Illinois, Georgia, Ohio"
   ]
  },
  {
   "cell_type": "code",
   "execution_count": null,
   "id": "99cc087a-f65e-498a-9def-a79780d1468d",
   "metadata": {},
   "outputs": [],
   "source": []
  },
  {
   "cell_type": "code",
   "execution_count": null,
   "id": "a75a4855-5284-46d3-b2c1-c13195a8fc52",
   "metadata": {},
   "outputs": [],
   "source": []
  },
  {
   "cell_type": "markdown",
   "id": "319735e0-1c46-4ee0-be19-b0d13e116177",
   "metadata": {},
   "source": [
    "# A practical example"
   ]
  },
  {
   "cell_type": "code",
   "execution_count": null,
   "id": "be465621-1c56-44e2-a6da-62bc923e1c63",
   "metadata": {},
   "outputs": [],
   "source": [
    "import pandas as pd\n",
    "import numpy as np\n",
    "df = pd.read_csv('https://raw.githubusercontent.com/jimcody2014/python_data/refs/heads/main/patients.csv')\n",
    "df.head()"
   ]
  },
  {
   "cell_type": "markdown",
   "id": "09f253e3-8299-482c-a7a0-c30372c2541e",
   "metadata": {},
   "source": [
    "1. df.columns                                               **What are the curent column names**\n",
    "3. title = []                                               **Create a list to hold the new names**\n",
    "4. for name in df.columns: title.append(name.lower())       **Change existing names to lower case and put them into title**\n",
    "5. title                                                    **Look at what title contains**\n",
    "6. df.columns = title                                      **Change the names in the dataframe**\n",
    "7. df.head()                                                **Verify it was applied correctly**"
   ]
  },
  {
   "cell_type": "code",
   "execution_count": null,
   "id": "b0a6a023-dc74-463e-b54c-3e5a64665b47",
   "metadata": {},
   "outputs": [],
   "source": [
    "def change_df_column_names(names):\n",
    "    title=[]\n",
    "    for name in names: \n",
    "        title.append(name.lower())\n",
    "    return title\n",
    "    "
   ]
  },
  {
   "cell_type": "code",
   "execution_count": null,
   "id": "6096b9d1-c1c5-417f-9c9c-a6668f8ac795",
   "metadata": {},
   "outputs": [],
   "source": [
    "df.columns = change_df_column_names(df.columns)\n",
    "df.head()"
   ]
  },
  {
   "cell_type": "code",
   "execution_count": null,
   "id": "86c23412-9158-4e8c-828f-8a7a1e06e5da",
   "metadata": {},
   "outputs": [],
   "source": [
    "df.info()"
   ]
  },
  {
   "cell_type": "code",
   "execution_count": null,
   "id": "f7dec39f-c232-4217-882e-95afff7e7b0c",
   "metadata": {},
   "outputs": [],
   "source": [
    "def split_columns(data):\n",
    "    numeric_columns = df.select_dtypes(include=[np.number]).columns.tolist()\n",
    "    integer_columns = df.select_dtypes(include=['int']).columns.tolist()\n",
    "    float_columns = df.select_dtypes(include=['float']).columns.tolist()\n",
    "    boolean_columns = df.select_dtypes(include=['bool']).columns.tolist()\n",
    "    object_columns = df.select_dtypes(include=['object']).columns.tolist()\n",
    "    return numeric_columns, integer_columns, float_columns, boolean_columns, object_columns"
   ]
  },
  {
   "cell_type": "code",
   "execution_count": null,
   "id": "f861d0f0-ebcc-44f1-965a-0d20bc1507ed",
   "metadata": {},
   "outputs": [],
   "source": [
    "ncols,icols,fcols,bcols,ocols = split_columns(df)"
   ]
  },
  {
   "cell_type": "code",
   "execution_count": null,
   "id": "cc0c5d56-63af-42f6-b865-b701ba813b95",
   "metadata": {},
   "outputs": [],
   "source": [
    "print(ncols)\n",
    "print(icols)\n",
    "print(fcols)\n",
    "print(bcols)\n",
    "print(ocols)"
   ]
  },
  {
   "cell_type": "markdown",
   "id": "362f638d-969b-4cb3-9465-b4d87cd50455",
   "metadata": {},
   "source": [
    "### Arguments (args) and keyword arguments (kwargs)"
   ]
  },
  {
   "cell_type": "code",
   "execution_count": null,
   "id": "595ed5a0-0146-4020-b7d3-f8cc228d0b26",
   "metadata": {},
   "outputs": [],
   "source": [
    "def bio(a,b,**kw):\n",
    "    age = kw['age']\n",
    "    eyecolor = kw['eyecolor']\n",
    "    print(f'{a} {b} is {age} years old and has {eyecolor} eyes')"
   ]
  },
  {
   "cell_type": "code",
   "execution_count": null,
   "id": "2d75eed4-690f-4da6-8a48-4b88176de662",
   "metadata": {},
   "outputs": [],
   "source": [
    "bio('Mary','Smith',age = 32, eyecolor='brown')"
   ]
  },
  {
   "cell_type": "code",
   "execution_count": null,
   "id": "d97a43a0-e109-4101-b2ed-fea65556aa52",
   "metadata": {},
   "outputs": [],
   "source": [
    "bio('Mary','Smith',eyecolor='brown',age = 32)"
   ]
  },
  {
   "cell_type": "code",
   "execution_count": null,
   "id": "c0b1cb89-b332-4438-bf24-33714e39b2dd",
   "metadata": {},
   "outputs": [],
   "source": [
    "bio('Smith','Mary',age = 32, eyecolor='brown')"
   ]
  },
  {
   "cell_type": "code",
   "execution_count": null,
   "id": "9cc29c72-0545-4b74-8e6e-e62a17b901dc",
   "metadata": {},
   "outputs": [],
   "source": [
    "bio('Mary',age = 32, eyecolor='brown','Smith')"
   ]
  },
  {
   "cell_type": "code",
   "execution_count": null,
   "id": "f98dee39-f4b1-4583-ad2b-3a63153a0ed4",
   "metadata": {},
   "outputs": [],
   "source": [
    "bio('Mary','Smith',32, eyecolor='brown')"
   ]
  },
  {
   "cell_type": "code",
   "execution_count": null,
   "id": "555ceeac-d7dd-4e93-8460-7355720083c0",
   "metadata": {},
   "outputs": [],
   "source": [
    "def bio(a,\n",
    "        b,\n",
    "        eyecolor='unknown', \n",
    "        age = 'unknown'):\n",
    "    \n",
    "    print(f'{a} {b} is {age} years old and has {eyecolor} eyes')\n",
    "    "
   ]
  },
  {
   "cell_type": "code",
   "execution_count": null,
   "id": "561eed25-9226-454f-9fe6-89a71c0f95a1",
   "metadata": {},
   "outputs": [],
   "source": [
    "bio('Mary','Smith',age = 32)"
   ]
  },
  {
   "cell_type": "markdown",
   "id": "67062f05-ba60-4848-ad8d-949e3fc05e70",
   "metadata": {},
   "source": [
    "# Exercise: Args and kwargs 2 - 5 minutes\n",
    "\n",
    "- Create a function similar to bio.\n",
    "- Accept 3 parameters.\n",
    "- Use keywords for the second and third parameters.\n",
    "- Use the parameters to create a sentence.\n",
    "- Return the sentence (In other words, do not just use the print function).\n",
    "- Run the function and display the sentence."
   ]
  },
  {
   "cell_type": "code",
   "execution_count": null,
   "id": "89f4e3ea-3585-4ee4-b4d9-eef7dbccce1b",
   "metadata": {},
   "outputs": [],
   "source": [
    "# Exercise 2"
   ]
  },
  {
   "cell_type": "markdown",
   "id": "1911562f-718f-4e5d-86e9-004a89ee9698",
   "metadata": {},
   "source": [
    "### *args to handle an arbitrary number of positional arguments"
   ]
  },
  {
   "cell_type": "markdown",
   "id": "47e22975-f2f4-4943-bfee-7420ff6f5ade",
   "metadata": {},
   "source": [
    "This is a function we already created.\n",
    "\n",
    "def do_math4(a,b):\n",
    "    y = a+b\n",
    "    return y\n",
    "\n",
    "y_out = do_math4(3,4)\n",
    "y_out\n",
    "\n",
    "We want to modify this to accept a changing number of arguments because the data we use will change\n",
    "\n",
    "e.g., sometimes we get data for two months and sometimes for four months."
   ]
  },
  {
   "cell_type": "code",
   "execution_count": null,
   "id": "b05bbb25-fbb2-4572-9694-9c613d0c7473",
   "metadata": {},
   "outputs": [],
   "source": [
    "def do_math5(*numbers):\n",
    "    total = 0\n",
    "    for x in numbers:\n",
    "        total = total + x\n",
    "    return total"
   ]
  },
  {
   "cell_type": "code",
   "execution_count": null,
   "id": "8eac95cc-4a32-4cbb-9873-feb2262c21a6",
   "metadata": {},
   "outputs": [],
   "source": [
    "out_total = do_math5(2,3,4)\n",
    "out_total"
   ]
  },
  {
   "cell_type": "markdown",
   "id": "5afb652b-acdc-45ff-a378-a42193b33b22",
   "metadata": {},
   "source": []
  },
  {
   "cell_type": "code",
   "execution_count": null,
   "id": "2f7dc435-7d54-464e-8e7d-eedef357f1b3",
   "metadata": {},
   "outputs": [],
   "source": []
  },
  {
   "cell_type": "code",
   "execution_count": null,
   "id": "f1f38b3a-258f-4623-b367-b214e858b01e",
   "metadata": {},
   "outputs": [],
   "source": []
  },
  {
   "cell_type": "markdown",
   "id": "b2458eb2-ea48-40e1-bb80-c13e46bf32e6",
   "metadata": {},
   "source": [
    "## Lambda functions\n",
    "\n",
    "- Anonymous: They do not have a name unless explicitly assigned to one.\n",
    "- Single Expression: They can contain only a single expression (no statements or multiple lines of code).\n",
    "- Inline: Typically used in places where small functions are needed temporarily, such as in map(), filter(), or sorted().\n",
    "\n",
    "**lambda arguments: expression**\n",
    "\n",
    "- arguments: The input(s) to the lambda function (can be zero or more).\n",
    "- expression: A single expression evaluated and returned."
   ]
  },
  {
   "cell_type": "code",
   "execution_count": null,
   "id": "5ee9cbfe-7f1c-4ecb-b8c2-742695d8fe91",
   "metadata": {},
   "outputs": [],
   "source": [
    "# An example of how it is written\n",
    "# Rarely used this way\n",
    "\n",
    "x = lambda var: var*2\n",
    "x(5)  "
   ]
  },
  {
   "cell_type": "code",
   "execution_count": null,
   "id": "436f9ed9-f0c6-4e95-88e9-d2630f30f654",
   "metadata": {},
   "outputs": [],
   "source": [
    "# An example of how it is written\n",
    "# Rarely used this way\n",
    "\n",
    "y = lambda a, b: a+b\n",
    "y(10,20)"
   ]
  },
  {
   "cell_type": "code",
   "execution_count": null,
   "id": "d28ea65d-7267-43f6-9345-ab1a1549a0c0",
   "metadata": {},
   "outputs": [],
   "source": [
    "# Inline operation for a quick, temporary calculation\n",
    "# How much will the real estate agent make\n",
    "\n",
    "result = (lambda x, y: x * y)(500000, .06)\n",
    "result"
   ]
  },
  {
   "cell_type": "code",
   "execution_count": null,
   "id": "5e746875-b21f-43bd-9b0f-4bf6b9f5efac",
   "metadata": {},
   "outputs": [],
   "source": [
    "# Would probably look like this\n",
    "\n",
    "house = 500000\n",
    "fee = 0.05\n",
    "\n",
    "result = (lambda x, y: x * y)(house, fee)\n",
    "result"
   ]
  },
  {
   "cell_type": "markdown",
   "id": "0e1d5874-612f-42b2-a959-31d9d8b64129",
   "metadata": {},
   "source": [
    "### lambda and built-in functions -> Create high-order functions\n",
    "\n",
    "A higher-order function in Python is a function that either:\n",
    "\n",
    "- Takes another function as an argument, or\n",
    "- Returns a function as its result, or\n",
    "- Does both.\n",
    "This allows the creation of more dynamic, reusable, and abstract operations in your code.\n",
    "\n",
    "Frequently used with:\n",
    "- map()\n",
    "- filter()\n",
    "- reduce()\n",
    "- sort()\n",
    "\n",
    "Lambda functions are used along with built-in functions like filter(), map() etc.\n",
    "<p>\n",
    "These are built-in function that transform all the items in an iterable without using an explicit for loop.\n",
    "\n",
    "**The built-in map function applies a specified function to each item of an iterable (such as a list or tuple) \n",
    "and returns a map object (which can be converted to a list or other sequence types).**"
   ]
  },
  {
   "cell_type": "code",
   "execution_count": 10,
   "id": "03ef3aee-4e47-48d4-a99e-23b435bd1dd8",
   "metadata": {},
   "outputs": [],
   "source": [
    "# Create a function\n",
    "def do_math3(a):            \n",
    "    x = a + 10\n",
    "    return x\n"
   ]
  },
  {
   "cell_type": "code",
   "execution_count": 12,
   "id": "7166a5bc-f3cb-45e2-8349-7221a218310c",
   "metadata": {},
   "outputs": [
    {
     "name": "stdout",
     "output_type": "stream",
     "text": [
      "[11, 12, 13, 14]\n"
     ]
    }
   ],
   "source": [
    "numbers = [1, 2, 3, 4]\n",
    "out_math3 = map(do_math3, numbers)\n",
    "\n",
    "print(list(out_math3)) \n",
    "\n"
   ]
  },
  {
   "cell_type": "code",
   "execution_count": 4,
   "id": "84583a44-08f3-4a2b-8a56-b90278d19aeb",
   "metadata": {},
   "outputs": [
    {
     "name": "stdout",
     "output_type": "stream",
     "text": [
      "[2, 4, 6, 8, 10, 12, 14, 16, 18, 20, 22, 24]\n",
      "[2, 4, 6, 8, 10, 12]\n",
      "479001600\n",
      "['apple', 'banana', 'cherry']\n"
     ]
    }
   ],
   "source": [
    "# map(func, iterable): Applies func to every item in iterable.\n",
    "# filter(func, iterable): Filters items from iterable where func(item) is True.\n",
    "# reduce(func, iterable) (from functools): Reduces iterable to a single value by applying func **cumulatively**.\n",
    "# sorted(iterable, key=func): Sorts iterable using func as the sorting key.\n",
    "\n",
    "\n",
    "\n",
    "from functools import reduce  # required for reduce\n",
    "months = [1,2,3,4,5,6,7,8,9,10,11,12]\n",
    "words = ['apple', 'banana', 'cherry']\n",
    "\n",
    "map_list = list(map(lambda x: x*2 , months))\n",
    "filter_list = list(filter(lambda x: (x%2 == 0) , months))\n",
    "reduce_list = reduce(lambda x, y: x * y, months)\n",
    "sort_list = sorted(words, key=lambda x: len(x))\n",
    "\n",
    "\n",
    "print(map_list)\n",
    "print(filter_list)\n",
    "print(reduce_list)\n",
    "print(sort_list)"
   ]
  },
  {
   "cell_type": "markdown",
   "id": "1e1f3772-fd1f-46a6-b001-54edd294ca3a",
   "metadata": {},
   "source": [
    "# Exercise: Lambda function 3 - 10 minutes\n",
    "\n",
    "- Create a list that contains the names of 10 different fruits.\n",
    "- Create a function that converts each value in the list to upper case.... str.upper()\n",
    "- Apply the function\n"
   ]
  },
  {
   "cell_type": "code",
   "execution_count": null,
   "id": "5231913f-89d4-421f-8a6c-e8622f0edfa9",
   "metadata": {},
   "outputs": [],
   "source": []
  }
 ],
 "metadata": {
  "kernelspec": {
   "display_name": "Python 3 (ipykernel)",
   "language": "python",
   "name": "python3"
  },
  "language_info": {
   "codemirror_mode": {
    "name": "ipython",
    "version": 3
   },
   "file_extension": ".py",
   "mimetype": "text/x-python",
   "name": "python",
   "nbconvert_exporter": "python",
   "pygments_lexer": "ipython3",
   "version": "3.12.7"
  }
 },
 "nbformat": 4,
 "nbformat_minor": 5
}
