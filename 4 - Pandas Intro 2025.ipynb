{
 "cells": [
  {
   "cell_type": "markdown",
   "id": "bd4819f7",
   "metadata": {
    "toc": true
   },
   "source": [
    "<h1>Table of Contents<span class=\"tocSkip\"></span></h1>\n",
    "<div class=\"toc\"><ul class=\"toc-item\"><li><span><a href=\"#Series-and-Dataframes\" data-toc-modified-id=\"Series-and-Dataframes-1\"><span class=\"toc-item-num\">1&nbsp;&nbsp;</span>Series and Dataframes</a></span><ul class=\"toc-item\"><li><span><a href=\"#Series\" data-toc-modified-id=\"Series-1.1\"><span class=\"toc-item-num\">1.1&nbsp;&nbsp;</span>Series</a></span><ul class=\"toc-item\"><li><span><a href=\"#Create-a-Series\" data-toc-modified-id=\"Create-a-Series-1.1.1\"><span class=\"toc-item-num\">1.1.1&nbsp;&nbsp;</span>Create a Series</a></span></li><li><span><a href=\"#Using-the-Series-index\" data-toc-modified-id=\"Using-the-Series-index-1.1.2\"><span class=\"toc-item-num\">1.1.2&nbsp;&nbsp;</span>Using the Series index</a></span></li></ul></li><li><span><a href=\"#Dataframes\" data-toc-modified-id=\"Dataframes-1.2\"><span class=\"toc-item-num\">1.2&nbsp;&nbsp;</span>Dataframes</a></span><ul class=\"toc-item\"><li><span><a href=\"#Create-a-DataFrame\" data-toc-modified-id=\"Create-a-DataFrame-1.2.1\"><span class=\"toc-item-num\">1.2.1&nbsp;&nbsp;</span>Create a DataFrame</a></span></li><li><span><a href=\"#Using-the-DataFrame-index\" data-toc-modified-id=\"Using-the-DataFrame-index-1.2.2\"><span class=\"toc-item-num\">1.2.2&nbsp;&nbsp;</span>Using the DataFrame index</a></span></li></ul></li></ul></li></ul></div>"
   ]
  },
  {
   "cell_type": "markdown",
   "id": "24768052",
   "metadata": {},
   "source": [
    " "
   ]
  },
  {
   "cell_type": "markdown",
   "id": "52895730",
   "metadata": {},
   "source": [
    "From the documentation.  https://pandas.pydata.org/docs/getting_started/overview.html\n",
    "\n",
    "The two primary data structures of pandas, Series (1-dimensional) and DataFrame (2-dimensional), \n",
    "handle the vast majority of typical use cases in finance, statistics, social science, and many areas of engineering. For R users, DataFrame provides everything that R’s data.frame provides and much more. pandas is built on top of NumPy and is intended to integrate well within a scientific computing environment with many other 3rd party libraries.<p>\n",
    "    Here are just a few of the things that pandas does well:\n",
    "\n",
    "- Easy handling of missing data (represented as NaN) in floating point as well as non-floating point data\n",
    "\n",
    "- Size mutability: columns can be inserted and deleted from DataFrame and higher dimensional objects\n",
    "\n",
    "- Powerful, flexible group by functionality to perform split-apply-combine operations on data sets, for both aggregating and transforming data\n",
    "\n",
    "- Intuitive merging and joining data sets\n",
    "\n",
    "- Flexible reshaping and pivoting of data sets\n",
    "\n",
    "- Robust IO tools for loading data from flat files (CSV and delimited), Excel files, databases, and saving / loading data from the ultrafast HDF5 format"
   ]
  },
  {
   "cell_type": "code",
   "execution_count": null,
   "id": "3d562e51",
   "metadata": {},
   "outputs": [],
   "source": [
    "import numpy as np\n",
    "import pandas as pd\n",
    "from numpy.random import randn\n"
   ]
  },
  {
   "cell_type": "markdown",
   "id": "7ad274ff",
   "metadata": {},
   "source": [
    "# Series and Dataframes"
   ]
  },
  {
   "cell_type": "markdown",
   "id": "d6fb092c",
   "metadata": {},
   "source": [
    "## Series"
   ]
  },
  {
   "cell_type": "markdown",
   "id": "0e97d413",
   "metadata": {},
   "source": [
    "**Series** is a one-dimensional labeled array capable of holding any data type. The **axis labels** are collectively referred to as the index. The basic method to create a Series is to call:\n",
    "\n",
    "s = pd.Series(data, index=index)"
   ]
  },
  {
   "cell_type": "markdown",
   "id": "2a0613dc",
   "metadata": {},
   "source": [
    "### Create a Series"
   ]
  },
  {
   "cell_type": "code",
   "execution_count": null,
   "id": "84e83ad9",
   "metadata": {},
   "outputs": [],
   "source": [
    "# Use the Series method: s = pd.Series(data, index=index)\n",
    "# Shift + Tab t osee other parameters\n",
    "\n",
    "s = pd.Series(np.random.randn(5), index=[\"a\", \"b\", \"c\", \"d\", \"e\"])\n",
    "s"
   ]
  },
  {
   "cell_type": "code",
   "execution_count": null,
   "id": "016de7dd",
   "metadata": {},
   "outputs": [],
   "source": [
    "# Index is optional\n",
    "\n",
    "s = pd.Series(randn(5))  # Don't need np.random because randn was imported.\n",
    "s"
   ]
  },
  {
   "cell_type": "code",
   "execution_count": null,
   "id": "26ff304d",
   "metadata": {},
   "outputs": [],
   "source": [
    "# A list, array or dictionary can be used to create a series.\n",
    "\n",
    "my_list = [5,3,0]\n",
    "my_arr = np.array([5,3,0])\n",
    "my_dictionary = {'a':5,'b':3,'c':0}"
   ]
  },
  {
   "cell_type": "code",
   "execution_count": null,
   "id": "655cbe22",
   "metadata": {},
   "outputs": [],
   "source": [
    "# Use a list w/o an index\n",
    "\n",
    "pd.Series(my_list)"
   ]
  },
  {
   "cell_type": "code",
   "execution_count": null,
   "id": "2010b551",
   "metadata": {},
   "outputs": [],
   "source": [
    "# Use a list w/ an index\n",
    "\n",
    "pd.Series(my_list, index=['a','b','c'])"
   ]
  },
  {
   "cell_type": "code",
   "execution_count": null,
   "id": "61d9893a",
   "metadata": {},
   "outputs": [],
   "source": [
    "# Use a list w/ a list for the index\n",
    "i_names = [['a','b','c']]\n",
    "\n",
    "pd.Series(my_list, i_names)"
   ]
  },
  {
   "cell_type": "code",
   "execution_count": null,
   "id": "701e043e",
   "metadata": {},
   "outputs": [],
   "source": [
    "# Use an array\n",
    "my_arr = np.array([5,3,0])\n",
    "pd.Series(my_arr, index=['a','b','c'])"
   ]
  },
  {
   "cell_type": "code",
   "execution_count": null,
   "id": "3b44d704",
   "metadata": {},
   "outputs": [],
   "source": [
    "# Use a dictionary\n",
    "my_dictionary = {'a':5,'b':3,'c':0}\n",
    "pd.Series(my_dictionary, index=['a','b','c'])\n",
    "\n",
    "# What happens if the index list is changed to hold x,y and z?"
   ]
  },
  {
   "cell_type": "code",
   "execution_count": null,
   "id": "84aec78b",
   "metadata": {},
   "outputs": [],
   "source": [
    "# Using strings\n",
    "my_cities = ['Chicago','Atlanta','Boston']\n",
    "pd.Series(my_cities, i_names)"
   ]
  },
  {
   "cell_type": "code",
   "execution_count": null,
   "id": "3d4c528a",
   "metadata": {},
   "outputs": [],
   "source": [
    "# Use the cities as the labels\n",
    "my_cities = ['Chicago','Atlanta','Boston']\n",
    "state = ['IL','GA','MA']\n",
    "cities = pd.Series(state, my_cities)\n",
    "cities"
   ]
  },
  {
   "cell_type": "markdown",
   "id": "592b1b2d",
   "metadata": {},
   "source": [
    "### Using the Series index\n"
   ]
  },
  {
   "cell_type": "code",
   "execution_count": null,
   "id": "241ccc99",
   "metadata": {},
   "outputs": [],
   "source": [
    "cities['Chicago']"
   ]
  },
  {
   "cell_type": "markdown",
   "id": "1f4d35c1",
   "metadata": {},
   "source": [
    " "
   ]
  },
  {
   "cell_type": "markdown",
   "id": "e44f5f45",
   "metadata": {},
   "source": [
    "## Dataframes"
   ]
  },
  {
   "cell_type": "markdown",
   "id": "2331d672",
   "metadata": {},
   "source": [
    "**DataFrame** is a 2-dimensional labeled data structure with columns of potentially different types. You can think of it like a spreadsheet or SQL table, or a dict of Series objects. It is generally the most commonly used pandas object. "
   ]
  },
  {
   "cell_type": "markdown",
   "id": "d3514bb9",
   "metadata": {},
   "source": [
    "### Create a DataFrame"
   ]
  },
  {
   "cell_type": "code",
   "execution_count": null,
   "id": "3e9de192",
   "metadata": {},
   "outputs": [],
   "source": [
    "np.random.seed(1234)  \n",
    "df = pd.DataFrame(randn(4,5),index=['IL','GA','MA','VT'],columns=['Sent','Used','Expired','Lost','Destroyed'])\n",
    "df"
   ]
  },
  {
   "cell_type": "code",
   "execution_count": null,
   "id": "b77e7545",
   "metadata": {},
   "outputs": [],
   "source": [
    "# A little shortcut\n",
    "np.random.seed(1234)  \n",
    "df = pd.DataFrame(randn(4,5),index='IL GA MA VT'.split(),columns='S U E L D'.split())\n",
    "df"
   ]
  },
  {
   "cell_type": "code",
   "execution_count": null,
   "id": "ac4c955a",
   "metadata": {},
   "outputs": [],
   "source": [
    "# Create a DataFrame\n",
    "\n",
    "data = {\n",
    "    'apples': [3, 2, 0, 1], \n",
    "    'oranges': [0, 3, 7, 2]\n",
    "}\n",
    "sales = pd.DataFrame(data)\n",
    "sales"
   ]
  },
  {
   "cell_type": "code",
   "execution_count": null,
   "id": "4e27877d-60d8-467d-8ec7-a121c1879228",
   "metadata": {},
   "outputs": [],
   "source": [
    "sales.iloc[1:2,2:3]"
   ]
  },
  {
   "cell_type": "code",
   "execution_count": null,
   "id": "2ff8f586-05ad-43aa-b790-4cc60a58b5b5",
   "metadata": {},
   "outputs": [],
   "source": []
  },
  {
   "cell_type": "code",
   "execution_count": null,
   "id": "2602a8bf-2a65-4cb2-8618-5125109b7f51",
   "metadata": {},
   "outputs": [],
   "source": []
  },
  {
   "cell_type": "code",
   "execution_count": null,
   "id": "a2515338-0806-48b0-b19b-8e46d628a67d",
   "metadata": {},
   "outputs": [],
   "source": []
  },
  {
   "cell_type": "markdown",
   "id": "a84be339",
   "metadata": {},
   "source": [
    "### Using the DataFrame index\n",
    "\n",
    "**.loc[] and .iloc[]**"
   ]
  },
  {
   "cell_type": "code",
   "execution_count": null,
   "id": "3cddae54",
   "metadata": {},
   "outputs": [],
   "source": [
    "df"
   ]
  },
  {
   "cell_type": "code",
   "execution_count": null,
   "id": "91afc5ab",
   "metadata": {},
   "outputs": [],
   "source": [
    "# Select a column\n",
    "df['S']"
   ]
  },
  {
   "cell_type": "code",
   "execution_count": null,
   "id": "e8177770",
   "metadata": {},
   "outputs": [],
   "source": [
    "# Select multiple columns\n",
    "df[['S','E']]            # Outer brackets: [ expecting an arguement] inner brackets: passing in a list ['a','b']"
   ]
  },
  {
   "cell_type": "code",
   "execution_count": null,
   "id": "3894ea61",
   "metadata": {},
   "outputs": [],
   "source": [
    "# Getting a row\n",
    "df.loc['IL']"
   ]
  },
  {
   "cell_type": "code",
   "execution_count": null,
   "id": "9341a918",
   "metadata": {},
   "outputs": [],
   "source": [
    "df.iloc[0]"
   ]
  },
  {
   "cell_type": "code",
   "execution_count": null,
   "id": "b976cb5d",
   "metadata": {},
   "outputs": [],
   "source": [
    "df.iloc[1:3]"
   ]
  }
 ],
 "metadata": {
  "kernelspec": {
   "display_name": "Python 3 (ipykernel)",
   "language": "python",
   "name": "python3"
  },
  "language_info": {
   "codemirror_mode": {
    "name": "ipython",
    "version": 3
   },
   "file_extension": ".py",
   "mimetype": "text/x-python",
   "name": "python",
   "nbconvert_exporter": "python",
   "pygments_lexer": "ipython3",
   "version": "3.12.7"
  },
  "toc": {
   "base_numbering": 1,
   "nav_menu": {},
   "number_sections": true,
   "sideBar": true,
   "skip_h1_title": false,
   "title_cell": "Table of Contents",
   "title_sidebar": "Contents",
   "toc_cell": true,
   "toc_position": {
    "height": "calc(100% - 180px)",
    "left": "10px",
    "top": "150px",
    "width": "231px"
   },
   "toc_section_display": true,
   "toc_window_display": true
  },
  "varInspector": {
   "cols": {
    "lenName": 16,
    "lenType": 16,
    "lenVar": 40
   },
   "kernels_config": {
    "python": {
     "delete_cmd_postfix": "",
     "delete_cmd_prefix": "del ",
     "library": "var_list.py",
     "varRefreshCmd": "print(var_dic_list())"
    },
    "r": {
     "delete_cmd_postfix": ") ",
     "delete_cmd_prefix": "rm(",
     "library": "var_list.r",
     "varRefreshCmd": "cat(var_dic_list()) "
    }
   },
   "types_to_exclude": [
    "module",
    "function",
    "builtin_function_or_method",
    "instance",
    "_Feature"
   ],
   "window_display": false
  }
 },
 "nbformat": 4,
 "nbformat_minor": 5
}
