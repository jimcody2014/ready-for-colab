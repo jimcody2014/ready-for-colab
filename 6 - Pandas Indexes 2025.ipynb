{
 "cells": [
  {
   "cell_type": "markdown",
   "metadata": {
    "toc": true
   },
   "source": [
    "<h1>Table of Contents<span class=\"tocSkip\"></span></h1>\n",
    "<div class=\"toc\"><ul class=\"toc-item\"><li><span><a href=\"#Pandas-loc-and-iloc-for-selecting-data\" data-toc-modified-id=\"Pandas-loc-and-iloc-for-selecting-data-1\"><span class=\"toc-item-num\">1&nbsp;&nbsp;</span>Pandas <code>loc</code> and <code>iloc</code> for selecting data</a></span><ul class=\"toc-item\"><li><span><a href=\"#1.-Differences-between-loc-and-iloc\" data-toc-modified-id=\"1.-Differences-between-loc-and-iloc-1.1\"><span class=\"toc-item-num\">1.1&nbsp;&nbsp;</span>1. Differences between loc and iloc</a></span></li><li><span><a href=\"#2.-Selecting-via-a-single-value\" data-toc-modified-id=\"2.-Selecting-via-a-single-value-1.2\"><span class=\"toc-item-num\">1.2&nbsp;&nbsp;</span>2. Selecting via a single value</a></span></li><li><span><a href=\"#3.-Selecting-via-a-list-of-values\" data-toc-modified-id=\"3.-Selecting-via-a-list-of-values-1.3\"><span class=\"toc-item-num\">1.3&nbsp;&nbsp;</span>3. Selecting via a list of values</a></span></li><li><span><a href=\"#4.-Selecting-a-range-of-data-via-slice\" data-toc-modified-id=\"4.-Selecting-a-range-of-data-via-slice-1.4\"><span class=\"toc-item-num\">1.4&nbsp;&nbsp;</span>4. Selecting a range of data via slice</a></span></li><li><span><a href=\"#5.-Selecting-via-conditions-and-callable\" data-toc-modified-id=\"5.-Selecting-via-conditions-and-callable-1.5\"><span class=\"toc-item-num\">1.5&nbsp;&nbsp;</span>5. Selecting via conditions and callable</a></span><ul class=\"toc-item\"><li><span><a href=\"#5.2-Conditions\" data-toc-modified-id=\"5.2-Conditions-1.5.1\"><span class=\"toc-item-num\">1.5.1&nbsp;&nbsp;</span>5.2 Conditions</a></span></li><li><span><a href=\"#5.2-Callable\" data-toc-modified-id=\"5.2-Callable-1.5.2\"><span class=\"toc-item-num\">1.5.2&nbsp;&nbsp;</span>5.2 Callable</a></span></li></ul></li><li><span><a href=\"#6.-loc-and-iloc-are-interchangeable-when-labels-are-0-based-integers\" data-toc-modified-id=\"6.-loc-and-iloc-are-interchangeable-when-labels-are-0-based-integers-1.6\"><span class=\"toc-item-num\">1.6&nbsp;&nbsp;</span>6. <code>loc</code> and <code>iloc</code> are interchangeable when labels are 0-based integers</a></span></li><li><span><a href=\"#Exercise\" data-toc-modified-id=\"Exercise-1.7\"><span class=\"toc-item-num\">1.7&nbsp;&nbsp;</span>Exercise</a></span></li></ul></li></ul></div>"
   ]
  },
  {
   "cell_type": "markdown",
   "metadata": {},
   "source": [
    "# Pandas `loc` and `iloc` for selecting data\n",
    "\n",
    "This is a notebook for the medium article [How to use `loc` and `iloc` for selecting data in Pandas](https://bindichen.medium.com/how-to-use-loc-and-iloc-for-selecting-data-in-pandas-bd09cb4c3d79)\n",
    "\n",
    "Please check out article for instructions\n",
    "\n",
    "**License**: [BSD 2-Clause](https://opensource.org/licenses/BSD-2-Clause)"
   ]
  },
  {
   "cell_type": "code",
   "execution_count": null,
   "metadata": {},
   "outputs": [],
   "source": [
    "import pandas as pd"
   ]
  },
  {
   "cell_type": "code",
   "execution_count": null,
   "metadata": {},
   "outputs": [],
   "source": [
    "data = {\n",
    "    'Weather': ['Sunny','Sunny','Sunny','Cloudy','Shower','Shower','Sunny'], \n",
    "    'Temperature': [78,76,78,68,70,71,82],\n",
    "    'Wind': [13,28,16,11,26,27,20],\n",
    "    'Humidity': [30,96,20,22,79,62,10],\n",
    "}\n",
    "df = pd.DataFrame(data, index = ['Mon', 'Tue', 'Wed', 'Thu', 'Fri', 'Sat', 'Sun'])\n",
    "df"
   ]
  },
  {
   "cell_type": "markdown",
   "metadata": {},
   "source": [
    "## 1. Differences between loc and iloc\n",
    "\n",
    "The main distinction between `loc` and `iloc` is:\n",
    "* `loc` is label-based, which means that you have to specify rows and columns based on their row and column labels. \n",
    "* `iloc` is integer position-based, so you have to specify rows and columns by their integer position values (0-based integer position)."
   ]
  },
  {
   "cell_type": "markdown",
   "metadata": {},
   "source": [
    "## 2. Selecting via a single value "
   ]
  },
  {
   "cell_type": "markdown",
   "metadata": {},
   "source": [
    "To get Fridays' temperature"
   ]
  },
  {
   "cell_type": "code",
   "execution_count": null,
   "metadata": {},
   "outputs": [],
   "source": [
    "# Pass label to `loc`\n",
    "df.loc['Fri', 'Temperature']"
   ]
  },
  {
   "cell_type": "code",
   "execution_count": null,
   "metadata": {},
   "outputs": [],
   "source": [
    "# The equivalent `iloc` statement should take row number 4 and column number 1\n",
    "df.iloc[4, 1]"
   ]
  },
  {
   "cell_type": "markdown",
   "metadata": {},
   "source": [
    "Use `:` to return all data"
   ]
  },
  {
   "cell_type": "code",
   "execution_count": null,
   "metadata": {},
   "outputs": [],
   "source": [
    "# To get all rows\n",
    "df.loc[:, 'Temperature']"
   ]
  },
  {
   "cell_type": "code",
   "execution_count": null,
   "metadata": {},
   "outputs": [],
   "source": [
    "# The equivalent `iloc` statement\n",
    "df.iloc[:, 1]"
   ]
  },
  {
   "cell_type": "code",
   "execution_count": null,
   "metadata": {},
   "outputs": [],
   "source": [
    "# To get all columns\n",
    "df.loc['Fri', :]"
   ]
  },
  {
   "cell_type": "code",
   "execution_count": null,
   "metadata": {},
   "outputs": [],
   "source": [
    "# The equivalent `iloc` statement\n",
    "df.iloc[4, :]"
   ]
  },
  {
   "cell_type": "markdown",
   "metadata": {},
   "source": [
    "## 3. Selecting via a list of values"
   ]
  },
  {
   "cell_type": "code",
   "execution_count": null,
   "metadata": {},
   "outputs": [],
   "source": [
    "# Multiple rows\n",
    "df.loc[['Thu', 'Fri'], 'Temperature']"
   ]
  },
  {
   "cell_type": "code",
   "execution_count": null,
   "metadata": {},
   "outputs": [],
   "source": [
    "# Multiple columns\n",
    "df.loc['Fri', ['Temperature', 'Wind']]"
   ]
  },
  {
   "cell_type": "code",
   "execution_count": null,
   "metadata": {},
   "outputs": [],
   "source": [
    "# Multiple rows using iloc\n",
    "df.iloc[[3, 4], 1]"
   ]
  },
  {
   "cell_type": "code",
   "execution_count": null,
   "metadata": {},
   "outputs": [],
   "source": [
    "# Multiple columns using iloc\n",
    "df.iloc[4, [1, 2]]"
   ]
  },
  {
   "cell_type": "code",
   "execution_count": null,
   "metadata": {},
   "outputs": [],
   "source": [
    "# Multiple rows and columns\n",
    "rows = ['Thu', 'Fri']\n",
    "cols=['Temperature','Wind']\n",
    "\n",
    "df.loc[rows, cols]"
   ]
  },
  {
   "cell_type": "code",
   "execution_count": null,
   "metadata": {},
   "outputs": [],
   "source": [
    "# the equivalent iloc statement\n",
    "rows = [3, 4]\n",
    "cols = [1, 2]\n",
    "df.iloc[rows, cols]"
   ]
  },
  {
   "cell_type": "markdown",
   "metadata": {},
   "source": [
    "## 4. Selecting a range of data via slice"
   ]
  },
  {
   "cell_type": "markdown",
   "metadata": {},
   "source": [
    "For loc, we can use the syntax `A:B` to select data from label `A` to label `B` (Both `A` and `B` are included):"
   ]
  },
  {
   "cell_type": "code",
   "execution_count": null,
   "metadata": {},
   "outputs": [],
   "source": [
    "# Slicing column labels\n",
    "rows=['Thu', 'Fri']\n",
    "df.loc[rows, 'Temperature':'Humidity' ]"
   ]
  },
  {
   "cell_type": "code",
   "execution_count": null,
   "metadata": {},
   "outputs": [],
   "source": [
    "# Slicing row labels\n",
    "cols = ['Temperature', 'Wind']\n",
    "df.loc['Mon':'Thu', cols]"
   ]
  },
  {
   "cell_type": "markdown",
   "metadata": {},
   "source": [
    "We can use the syntax `A:B:S` to select data from label `A` to label `B` with step size `S` (Both `A` and `B` are included):"
   ]
  },
  {
   "cell_type": "code",
   "execution_count": null,
   "metadata": {},
   "outputs": [],
   "source": [
    "# Slicing with step\n",
    "df.loc['Mon':'Fri':2 , :]"
   ]
  },
  {
   "cell_type": "markdown",
   "metadata": {},
   "source": [
    "With iloc, we can also use the syntax `n:m` to select data from position `n` (included) to position `m` (excluded)."
   ]
  },
  {
   "cell_type": "code",
   "execution_count": null,
   "metadata": {},
   "outputs": [],
   "source": [
    "df.iloc[[1, 2], 0 : 3]"
   ]
  },
  {
   "cell_type": "code",
   "execution_count": null,
   "metadata": {},
   "outputs": [],
   "source": [
    "df.iloc[0:4:2, :]"
   ]
  },
  {
   "cell_type": "markdown",
   "metadata": {},
   "source": [
    "## 5. Selecting via conditions and callable"
   ]
  },
  {
   "cell_type": "markdown",
   "metadata": {},
   "source": [
    "### 5.2 Conditions"
   ]
  },
  {
   "cell_type": "code",
   "execution_count": null,
   "metadata": {},
   "outputs": [],
   "source": [
    "# One condition\n",
    "df.loc[df.Humidity > 50, :]"
   ]
  },
  {
   "cell_type": "code",
   "execution_count": null,
   "metadata": {},
   "outputs": [],
   "source": [
    "## multiple conditions\n",
    "df.loc[\n",
    "    (df.Humidity > 50) & (df.Weather == 'Shower'), \n",
    "    ['Temperature','Wind'],\n",
    "]"
   ]
  },
  {
   "cell_type": "code",
   "execution_count": null,
   "metadata": {},
   "outputs": [],
   "source": [
    "# Getting ValueError\n",
    "#df.iloc[df.Humidity > 50, :]"
   ]
  },
  {
   "cell_type": "code",
   "execution_count": null,
   "metadata": {},
   "outputs": [],
   "source": [
    "# Single condition\n",
    "df.iloc[list(df.Humidity > 50)]"
   ]
  },
  {
   "cell_type": "code",
   "execution_count": null,
   "metadata": {},
   "outputs": [],
   "source": [
    "## multiple conditions\n",
    "df.iloc[\n",
    "    list((df.Humidity > 50) & (df.Weather == 'Shower')), \n",
    "    :,\n",
    "]"
   ]
  },
  {
   "cell_type": "markdown",
   "metadata": {},
   "source": [
    "### 5.2 Callable"
   ]
  },
  {
   "cell_type": "code",
   "execution_count": null,
   "metadata": {},
   "outputs": [],
   "source": [
    "# Selecting columns\n",
    "df.loc[:, lambda df: ['Humidity', 'Wind']]"
   ]
  },
  {
   "cell_type": "code",
   "execution_count": null,
   "metadata": {},
   "outputs": [],
   "source": [
    "# With condition\n",
    "df.loc[lambda df: df.Humidity > 50, :]"
   ]
  },
  {
   "cell_type": "code",
   "execution_count": null,
   "metadata": {},
   "outputs": [],
   "source": [
    "df.iloc[lambda df: [0,1], :]"
   ]
  },
  {
   "cell_type": "code",
   "execution_count": null,
   "metadata": {},
   "outputs": [],
   "source": [
    "df.iloc[lambda df: list(df.Humidity > 50), :]"
   ]
  },
  {
   "cell_type": "markdown",
   "metadata": {},
   "source": [
    "## 6. `loc` and `iloc` are interchangeable when labels are 0-based integers"
   ]
  },
  {
   "cell_type": "code",
   "execution_count": null,
   "metadata": {},
   "outputs": [],
   "source": [
    "data = [\n",
    "    ['Mon','Sunny',78,13,30],\n",
    "    ['Tue','Sunny',76,28,96],\n",
    "    ['Wed','Sunny',78,16,20],\n",
    "    ['Thu','Cloudy',68,11,22],\n",
    "    ['Fri','Shower',70,26,79],\n",
    "    ['Sat','Shower',71,27,62],\n",
    "    ['Sun','Sunny',82,20,10]]\n",
    "df = pd.DataFrame(data)\n",
    "df"
   ]
  },
  {
   "cell_type": "markdown",
   "metadata": {},
   "source": [
    "Now, `loc`, a label-based data selector, can accept a single integer and a list of integer values."
   ]
  },
  {
   "cell_type": "code",
   "execution_count": null,
   "metadata": {},
   "outputs": [],
   "source": [
    "df.loc[1, 2]"
   ]
  },
  {
   "cell_type": "code",
   "execution_count": null,
   "metadata": {},
   "outputs": [],
   "source": [
    "df.loc[1, [1, 2]]"
   ]
  },
  {
   "cell_type": "markdown",
   "metadata": {},
   "source": [
    "`loc` and `iloc` are interchangeable when selecting via a single value or a list of values."
   ]
  },
  {
   "cell_type": "code",
   "execution_count": null,
   "metadata": {},
   "outputs": [],
   "source": [
    "df.loc[1, 2] == df.iloc[1, 2]"
   ]
  },
  {
   "cell_type": "code",
   "execution_count": null,
   "metadata": {},
   "outputs": [],
   "source": [
    "df.loc[1, [1, 2]] == df.iloc[1, [1, 2]]"
   ]
  },
  {
   "cell_type": "markdown",
   "metadata": {},
   "source": [
    "## Exercise"
   ]
  },
  {
   "cell_type": "code",
   "execution_count": null,
   "metadata": {},
   "outputs": [],
   "source": [
    "import numpy as np\n",
    "import pandas as pd\n",
    "from numpy.random import randn\n",
    "np.random.seed(1234)  \n",
    "np.random.randint(1,100,6)\n",
    "df = pd.DataFrame(randn(4,5), index=['IL','GA','MA','VT'],columns=['Sent','Used','Expired','Lost','Destroyed'])\n",
    "df"
   ]
  },
  {
   "cell_type": "code",
   "execution_count": null,
   "metadata": {},
   "outputs": [],
   "source": []
  }
 ],
 "metadata": {
  "kernelspec": {
   "display_name": "Python 3 (ipykernel)",
   "language": "python",
   "name": "python3"
  },
  "language_info": {
   "codemirror_mode": {
    "name": "ipython",
    "version": 3
   },
   "file_extension": ".py",
   "mimetype": "text/x-python",
   "name": "python",
   "nbconvert_exporter": "python",
   "pygments_lexer": "ipython3",
   "version": "3.12.7"
  },
  "toc": {
   "base_numbering": 1,
   "nav_menu": {},
   "number_sections": true,
   "sideBar": false,
   "skip_h1_title": false,
   "title_cell": "Table of Contents",
   "title_sidebar": "",
   "toc_cell": true,
   "toc_position": {
    "height": "calc(100% - 180px)",
    "left": "10px",
    "top": "150px",
    "width": "165px"
   },
   "toc_section_display": true,
   "toc_window_display": false
  },
  "varInspector": {
   "cols": {
    "lenName": 16,
    "lenType": 16,
    "lenVar": 40
   },
   "kernels_config": {
    "python": {
     "delete_cmd_postfix": "",
     "delete_cmd_prefix": "del ",
     "library": "var_list.py",
     "varRefreshCmd": "print(var_dic_list())"
    },
    "r": {
     "delete_cmd_postfix": ") ",
     "delete_cmd_prefix": "rm(",
     "library": "var_list.r",
     "varRefreshCmd": "cat(var_dic_list()) "
    }
   },
   "types_to_exclude": [
    "module",
    "function",
    "builtin_function_or_method",
    "instance",
    "_Feature"
   ],
   "window_display": false
  }
 },
 "nbformat": 4,
 "nbformat_minor": 4
}
