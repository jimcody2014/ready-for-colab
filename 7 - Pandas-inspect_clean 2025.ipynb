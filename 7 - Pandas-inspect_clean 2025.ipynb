{
 "cells": [
  {
   "cell_type": "markdown",
   "id": "fc820f58",
   "metadata": {
    "toc": true
   },
   "source": [
    "<h1>Table of Contents<span class=\"tocSkip\"></span></h1>\n",
    "<div class=\"toc\"><ul class=\"toc-item\"><li><span><a href=\"#Ingest\" data-toc-modified-id=\"Ingest-1\">Ingest</a></span></li><li><span><a href=\"#Inspect-and-Clean\" data-toc-modified-id=\"Inspect-and-Clean-2\">Inspect and Clean</a></span><ul class=\"toc-item\"><li><ul class=\"toc-item\"><li><span><a href=\"#Looking-for-duplicates\" data-toc-modified-id=\"Looking-for-duplicates-2.0.1\">Looking for duplicates</a></span></li><li><span><a href=\"#Change-datatypes\" data-toc-modified-id=\"Change-datatypes-2.0.2\">Change datatypes</a></span></li><li><span><a href=\"#Change-column-names\" data-toc-modified-id=\"Change-column-names-2.0.3\">Change column names</a></span></li><li><span><a href=\"#Manage-missing-data\" data-toc-modified-id=\"Manage-missing-data-2.0.4\">Manage missing data</a></span></li><li><span><a href=\"#Imputing-missing-values\" data-toc-modified-id=\"Imputing-missing-values-2.0.5\">Imputing missing values</a></span></li></ul></li><li><span><a href=\"#Check-categorical-data\" data-toc-modified-id=\"Check-categorical-data-2.1\">Check categorical data</a></span><ul class=\"toc-item\"><li><span><a href=\"#Using-visuals-to-get-a-sense-of-the-data\" data-toc-modified-id=\"Using-visuals-to-get-a-sense-of-the-data-2.1.1\">Using visuals to get a sense of the data</a></span><ul class=\"toc-item\"><li><span><a href=\"#Categorical-data\" data-toc-modified-id=\"Categorical-data-2.1.1.1\">Categorical data</a></span></li></ul></li><li><span><a href=\"#Examine-categorical-data-a-little-more-closely\" data-toc-modified-id=\"Examine-categorical-data-a-little-more-closely-2.1.2\">Examine categorical data a little more closely</a></span></li><li><span><a href=\"#Dropping-columns-and-rows\" data-toc-modified-id=\"Dropping-columns-and-rows-2.1.3\">Dropping columns and rows</a></span><ul class=\"toc-item\"><li><span><a href=\"#Quantitative-data\" data-toc-modified-id=\"Quantitative-data-2.1.3.1\">Quantitative data</a></span></li></ul></li><li><span><a href=\"#Removing-outliers\" data-toc-modified-id=\"Removing-outliers-2.1.4\">Removing outliers</a></span></li></ul></li></ul></li><li><span><a href=\"#Exercise---30-minutes\" data-toc-modified-id=\"Exercise---30-minutes-3\">Exercise - 30 minutes</a></span><ul class=\"toc-item\"><li><ul class=\"toc-item\"><li><span><a href=\"#See-Beer-Notebook---Part-1\" data-toc-modified-id=\"See-Beer-Notebook---Part-1-3.0.1\">See Beer Notebook - Part 1</a></span></li></ul></li></ul></li></ul></div>"
   ]
  },
  {
   "cell_type": "markdown",
   "id": "eea06d49",
   "metadata": {},
   "source": [
    "# Ingest"
   ]
  },
  {
   "cell_type": "code",
   "execution_count": null,
   "id": "76d23ffc",
   "metadata": {},
   "outputs": [],
   "source": [
    "import numpy as np\n",
    "import pandas as pd\n",
    "import matplotlib.pyplot as plt\n",
    "import matplotlib as mpl\n",
    "import seaborn as sns\n",
    "from numpy.random import randn\n",
    "import warnings\n",
    "\n",
    "warnings.filterwarnings(\"ignore\")"
   ]
  },
  {
   "cell_type": "code",
   "execution_count": null,
   "id": "75735811",
   "metadata": {},
   "outputs": [],
   "source": [
    "df_original = pd.read_csv('https://raw.githubusercontent.com/jimcody2014/python_data/refs/heads/main/diabetes_inspect.csv')\n",
    "df_original.head()"
   ]
  },
  {
   "cell_type": "code",
   "execution_count": null,
   "id": "fe658248",
   "metadata": {},
   "outputs": [],
   "source": [
    "# A cursory look at the data\n",
    "df_original.shape"
   ]
  },
  {
   "cell_type": "code",
   "execution_count": null,
   "id": "cfcb1d48-64d1-49fc-93e3-be48c5741518",
   "metadata": {},
   "outputs": [],
   "source": [
    "df = df_original\n",
    "df.shape"
   ]
  },
  {
   "cell_type": "markdown",
   "id": "22f37a6e",
   "metadata": {},
   "source": [
    " "
   ]
  },
  {
   "cell_type": "markdown",
   "id": "58202dd4",
   "metadata": {},
   "source": [
    "# Inspect and Clean"
   ]
  },
  {
   "cell_type": "markdown",
   "id": "641b7bb4",
   "metadata": {},
   "source": [
    "### Looking for duplicates"
   ]
  },
  {
   "cell_type": "code",
   "execution_count": null,
   "id": "1d5c185d",
   "metadata": {},
   "outputs": [],
   "source": [
    "# checking for duplicates\n",
    "df.loc[df.duplicated()]# This will drop all duplicate rows"
   ]
  },
  {
   "cell_type": "code",
   "execution_count": null,
   "id": "aa672d25",
   "metadata": {},
   "outputs": [],
   "source": [
    "df.drop_duplicates(keep = 'first', inplace = True) \n",
    "\n",
    "# keep - which duplicate to keep, default is none!\n",
    "\n",
    "df.loc[df.duplicated()]"
   ]
  },
  {
   "cell_type": "markdown",
   "id": "0c54551a",
   "metadata": {},
   "source": [
    "### Change datatypes"
   ]
  },
  {
   "cell_type": "code",
   "execution_count": null,
   "id": "3a6c910c",
   "metadata": {},
   "outputs": [],
   "source": [
    "# Are we ok with the data types?\n",
    "df.info()"
   ]
  },
  {
   "cell_type": "code",
   "execution_count": null,
   "id": "ea23b27c",
   "metadata": {},
   "outputs": [],
   "source": [
    "# Change data type\n",
    "\n",
    "df['encounter_id'] = df['encounter_id'].astype(str)\n",
    "df['patient_nbr'] = df['patient_nbr'].astype(str)\n",
    "df['admission_type_id'] = df['admission_type_id'].astype(str)\n",
    "df['discharge_disposition_id'] = df['discharge_disposition_id'].astype(str)\n",
    "df['admission_source_id'] = df['admission_source_id'].astype(str)\n",
    "df.info()\n",
    "\n",
    "# vaccines['series_complete_pop_pct'] = pd.to_numeric(vaccines['series_complete_pop_pct']).astype(int)\n"
   ]
  },
  {
   "cell_type": "markdown",
   "id": "9ed2ea06-9b2a-4c84-8600-22a563c1b6a5",
   "metadata": {},
   "source": [
    "### The 'inplace' parameter\n",
    "\n",
    "This is a decision about making a new object (and using more memory) or creating a new object that holds the modified data.\n",
    "\n",
    "- inplace=True  - - changes the object (e.g., dataframe) you are working on (Example 1)\n",
    "- inplace=False - - the change is discarded (Example 2) unless the change is written to a new object (Example 3)"
   ]
  },
  {
   "cell_type": "code",
   "execution_count": null,
   "id": "94a70037-02a1-45d5-ae6f-1476140d28bb",
   "metadata": {},
   "outputs": [],
   "source": [
    "# Example 1\n",
    "\n",
    "data = {'Name': ['Alice', 'Bob', 'Charlie'], 'Age': [25, 30, 35]}\n",
    "df9 = pd.DataFrame(data)\n",
    "\n",
    "# Drop a column using inplace=True\n",
    "df9.drop(columns=['Age'], inplace=True)\n",
    "print('df9 with inplace = True', df9)"
   ]
  },
  {
   "cell_type": "code",
   "execution_count": null,
   "id": "e39ca8d1-f417-45e1-affb-13be4510446d",
   "metadata": {},
   "outputs": [],
   "source": [
    "df9"
   ]
  },
  {
   "cell_type": "code",
   "execution_count": null,
   "id": "9ceddb9f-9545-45e2-8301-1500209eb3f6",
   "metadata": {},
   "outputs": [],
   "source": [
    "# Example 2 - change discarded\n",
    "\n",
    "data = {'Name': ['Alice', 'Bob', 'Charlie'], 'Age': [25, 30, 35]}\n",
    "df9 = pd.DataFrame(data)\n",
    "\n",
    "# Drop a column using inplace=False\n",
    "df9.drop(columns=['Age'], inplace=False)\n",
    "print('df9 with inplace = False', df9)"
   ]
  },
  {
   "cell_type": "code",
   "execution_count": null,
   "id": "ee3ce577-3cf3-4c87-92c0-65deadc2975c",
   "metadata": {},
   "outputs": [],
   "source": [
    "df9"
   ]
  },
  {
   "cell_type": "code",
   "execution_count": null,
   "id": "d7c7e3d5-0273-4044-9bbc-a8e4796e3d18",
   "metadata": {},
   "outputs": [],
   "source": [
    "# Example 3\n",
    "\n",
    "data = {'Name': ['Alice', 'Bob', 'Charlie'], 'Age': [25, 30, 35]}\n",
    "df9 = pd.DataFrame(data)\n",
    "\n",
    "# Drop a column using inplace=False\n",
    "new_df9 = df9.drop(columns=['Age'], inplace=False)\n",
    "print('original', df9)\n",
    "print('new', new_df9)\n",
    "\n",
    "\n"
   ]
  },
  {
   "cell_type": "markdown",
   "id": "45bb8067-721b-4ad0-9fdb-b959a332f931",
   "metadata": {},
   "source": [
    "### Use inplace=False + Reassignment\n",
    "- Readability: It makes it clear that the method creates and returns a new object.\n",
    "- Chaining Operations: You can chain multiple methods together (e.g., df = df.method1().method2()).\n",
    "- Debugging: The original object remains intact unless explicitly reassigned, making debugging easier."
   ]
  },
  {
   "cell_type": "markdown",
   "id": "ed7fa498-b167-4a36-949e-d15f6ae44832",
   "metadata": {},
   "source": [
    "### Advantages and Caution:\n",
    "Advantages:\n",
    "- Using inplace=True can save memory because it avoids creating a new object.\n",
    "Caution:\n",
    "- When you use inplace=True, you lose the ability to chain methods since no object is returned.\n",
    "- Overusing inplace=True can make debugging more difficult because the original object is modified directly, which might lead to unexpected results.\n",
    "  \n",
    "**In modern practices, many developers prefer not to use inplace=True for better code readability and to maintain immutability where possible.**\n",
    "\n",
    "https://pandas.pydata.org/docs/reference/api/pandas.DataFrame.fillna.html#pandas.DataFrame.fillna\n",
    "\n"
   ]
  },
  {
   "cell_type": "markdown",
   "id": "f7761d8c",
   "metadata": {},
   "source": [
    "### Change column names"
   ]
  },
  {
   "cell_type": "code",
   "execution_count": null,
   "id": "abdbe8e6",
   "metadata": {},
   "outputs": [],
   "source": [
    "# Rename a few columns\n",
    "\n",
    "short_names = {'admission_type_id':'admin_type', # creating a dict of the names to be changed\n",
    "               'discharge_disposition_id':'discharge_dispo',\n",
    "               'admission_source_id':'admin_source',\n",
    "               'num_lab_procedures':'lab_procedures',\n",
    "               'num_procedures':'procedures'}\n",
    "\n",
    "df.rename(columns=short_names, inplace=True) # passing the dict to the rename method\n",
    " \n",
    "\n",
    "df.info()"
   ]
  },
  {
   "cell_type": "markdown",
   "id": "892de505",
   "metadata": {},
   "source": [
    "### Manage missing data"
   ]
  },
  {
   "cell_type": "code",
   "execution_count": null,
   "id": "192f9bd5",
   "metadata": {},
   "outputs": [],
   "source": [
    "# Just listing the columns and how many rows \n",
    "# for each have a missing value.\n",
    "\n",
    "df.isnull().sum()"
   ]
  },
  {
   "cell_type": "code",
   "execution_count": null,
   "id": "573fe9e3",
   "metadata": {},
   "outputs": [],
   "source": [
    "# Calculate the percentage of null values for each column\n",
    "df_null = df.isna().mean().round(4) * 100\n",
    "\n",
    "df_null"
   ]
  },
  {
   "cell_type": "code",
   "execution_count": null,
   "id": "985d6c13-1498-4738-bb3c-d3821b96c698",
   "metadata": {},
   "outputs": [],
   "source": [
    "df_null.sort_values(ascending=False).head()"
   ]
  },
  {
   "cell_type": "code",
   "execution_count": null,
   "id": "6fdcb895",
   "metadata": {},
   "outputs": [],
   "source": [
    "# Plotting missing values\n",
    "\n",
    "sns.heatmap(df.isnull(), cbar=False)"
   ]
  },
  {
   "cell_type": "markdown",
   "id": "46de8b04",
   "metadata": {},
   "source": [
    "### Imputing missing values"
   ]
  },
  {
   "cell_type": "code",
   "execution_count": null,
   "id": "69a63e43",
   "metadata": {},
   "outputs": [],
   "source": [
    "a = df['num_medications'].describe()\n",
    "b = df['num_medications'].median()\n",
    "c = df['num_medications'].mode()\n",
    "print(a)\n",
    "print()\n",
    "print(f'The median is {b}')\n",
    "print()\n",
    "print(f'The mode is {c}')"
   ]
  },
  {
   "cell_type": "code",
   "execution_count": null,
   "id": "c6232411",
   "metadata": {},
   "outputs": [],
   "source": [
    "# Fill missing values of num_medications with the average of num_medications (mean)\n",
    "\n",
    "#df[ 'num_medications' ] = df.num_medications.fillna( df.num_medications.mean() )\n",
    "\n",
    "df.num_medications.fillna( df.num_medications.mean(),inplace=True )\n",
    "\n",
    "df_null = df.isna().mean().round(4) * 100\n",
    "df_null.sort_values(ascending=False).head()\n",
    "\n",
    "# Can be filled with an arbitrary number\n",
    "# df.num_medications.fillna( 101,inplace=True )\n",
    "\n",
    "# backward, forward ->  df.fillna(method='bfill') , df.fillna(method='ffill')"
   ]
  },
  {
   "cell_type": "code",
   "execution_count": null,
   "id": "281b1186-9310-454a-b233-d5a8ec86f25d",
   "metadata": {},
   "outputs": [],
   "source": [
    "df.head()"
   ]
  },
  {
   "cell_type": "markdown",
   "id": "c831b26d",
   "metadata": {},
   "source": [
    "## Check categorical data"
   ]
  },
  {
   "cell_type": "code",
   "execution_count": null,
   "id": "a5d89673",
   "metadata": {},
   "outputs": [],
   "source": [
    "sns.countplot(x='gender', data=df)"
   ]
  },
  {
   "cell_type": "code",
   "execution_count": null,
   "id": "925dbbac",
   "metadata": {},
   "outputs": [],
   "source": [
    "df['gender'].nunique()"
   ]
  },
  {
   "cell_type": "code",
   "execution_count": null,
   "id": "d70e283b",
   "metadata": {},
   "outputs": [],
   "source": [
    "df['gender'].unique()"
   ]
  },
  {
   "cell_type": "code",
   "execution_count": null,
   "id": "58a2280c",
   "metadata": {},
   "outputs": [],
   "source": [
    "df['gender'].value_counts()"
   ]
  },
  {
   "cell_type": "code",
   "execution_count": null,
   "id": "fe009990",
   "metadata": {},
   "outputs": [],
   "source": [
    "\n",
    "df['weight'] = df['weight'].replace('?', pd.NA)\n",
    "df.isnull().sum()"
   ]
  },
  {
   "cell_type": "code",
   "execution_count": null,
   "id": "ba4a1e34",
   "metadata": {},
   "outputs": [],
   "source": [
    "df.loc[df.gender == 'M','gender']='Male'\n",
    "df.head()"
   ]
  },
  {
   "cell_type": "code",
   "execution_count": null,
   "id": "91cd4374",
   "metadata": {},
   "outputs": [],
   "source": [
    "# Change/Fix some of the data values\n",
    "\n",
    "df['gender'] = df['gender'].replace({'M':'Male', 'Mle':'Male', 'F':'Female'})\n",
    "#df.head()"
   ]
  },
  {
   "cell_type": "code",
   "execution_count": null,
   "id": "c5f57135",
   "metadata": {},
   "outputs": [],
   "source": [
    "# Inconsistent capitalization\n",
    "# Apply a function along an axis of the DataFrame.\n",
    "\n",
    "df['gender'] = df['gender'].apply(lambda x:x.lower())\n",
    "df.head()"
   ]
  },
  {
   "cell_type": "code",
   "execution_count": null,
   "id": "fbaeb0a9",
   "metadata": {},
   "outputs": [],
   "source": [
    "sns.countplot(x='gender', data=df)"
   ]
  },
  {
   "cell_type": "code",
   "execution_count": null,
   "id": "338c5cc2",
   "metadata": {},
   "outputs": [],
   "source": [
    "x = df.loc[df.gender == 'unknown/invalid','gender']\n",
    "y = df.loc[df.gender == '?','gender']\n",
    "print(x)\n",
    "print(y)"
   ]
  },
  {
   "cell_type": "code",
   "execution_count": null,
   "id": "1cba6e69",
   "metadata": {},
   "outputs": [],
   "source": [
    "df.iloc[11]"
   ]
  },
  {
   "cell_type": "code",
   "execution_count": null,
   "id": "cf1de9a3",
   "metadata": {},
   "outputs": [],
   "source": [
    "df['gender'] = df['gender'].replace({'?':'NaN', 'unknown/invalid':'male'})\n",
    "df.head()"
   ]
  },
  {
   "cell_type": "code",
   "execution_count": null,
   "id": "466129ee",
   "metadata": {},
   "outputs": [],
   "source": [
    "# Change a value for an entire column\n",
    "#df.loc[:,'discharge_dispo'] = 99   \n",
    "#df.loc[64410] = 99   # Change a value for an entire row\n",
    "#df.head()\n"
   ]
  },
  {
   "cell_type": "markdown",
   "id": "674e5fe8",
   "metadata": {},
   "source": [
    "### Using visuals to get a sense of the data"
   ]
  },
  {
   "cell_type": "code",
   "execution_count": null,
   "id": "6673423d",
   "metadata": {},
   "outputs": [],
   "source": [
    "df.info()"
   ]
  },
  {
   "cell_type": "markdown",
   "id": "47d8efb7",
   "metadata": {},
   "source": [
    "#### Categorical data"
   ]
  },
  {
   "cell_type": "code",
   "execution_count": null,
   "id": "05464083",
   "metadata": {},
   "outputs": [],
   "source": [
    "# Create a bar chart for each categorical variables to see the distribution of the data\n",
    "plt.figure(figsize = (20,20))\n",
    "plt.subplot(3,3,1)\n",
    "sns.countplot(x=\"race\", data=df)\n",
    "plt.subplot(3,3,2)\n",
    "sns.countplot(x=\"age\", data=df)\n",
    "plt.subplot(3,3,3)\n",
    "sns.countplot(x=\"gender\", data=df)\n",
    "plt.subplot(3,3,4)\n",
    "sns.countplot(x=\"admin_type\", data=df)\n",
    "plt.subplot(3,3,5)\n",
    "sns.countplot(x=\"admin_source\", data=df)\n",
    "plt.subplot(3,3,6)\n",
    "sns.countplot(x=\"discharge_dispo\", data=df)\n",
    "plt.subplot(3,3,7)\n",
    "sns.countplot(x=\"medical_specialty\", data=df)\n",
    "plt.subplot(3,3,8)\n",
    "sns.countplot(x=\"weight\", data=df)\n",
    "plt.subplot(3,3,9)\n",
    "sns.countplot(x=\"payer_code\", data=df)\n",
    "\n",
    "plt.suptitle('Categorical Plotting')\n",
    "plt.show()\n"
   ]
  },
  {
   "cell_type": "code",
   "execution_count": null,
   "id": "47df3c64",
   "metadata": {},
   "outputs": [],
   "source": [
    "# Create a bar chart for each categorical variables to see the distribution of the data\n",
    "plt.figure(figsize = (20,20))\n",
    "plt.subplot(521)\n",
    "sns.countplot(x=\"race\", data=df)\n",
    "plt.subplot(522)\n",
    "sns.countplot(x=\"age\", data=df)\n",
    "plt.subplot(523)\n",
    "sns.countplot(x=\"gender\", data=df)\n",
    "plt.subplot(524)\n",
    "sns.countplot(x=\"admin_type\", data=df)\n",
    "plt.subplot(525)\n",
    "sns.countplot(x=\"admin_source\", data=df)\n",
    "plt.subplot(526)\n",
    "sns.countplot(x=\"discharge_dispo\", data=df)\n",
    "plt.subplot(527)\n",
    "sns.countplot(x=\"medical_specialty\", data=df)\n",
    "plt.subplot(528)\n",
    "sns.countplot(x=\"weight\", data=df)\n",
    "plt.subplot(529)\n",
    "sns.countplot(x=\"payer_code\", data=df)\n",
    "\n",
    "plt.suptitle('Categorical Plotting')\n",
    "plt.show()"
   ]
  },
  {
   "cell_type": "markdown",
   "id": "71e98912",
   "metadata": {},
   "source": [
    "### Examine categorical data a little more closely"
   ]
  },
  {
   "cell_type": "code",
   "execution_count": null,
   "id": "72db2dfa",
   "metadata": {},
   "outputs": [],
   "source": [
    "for column in df.columns:         # df.columns is a data frame attribute\n",
    "    print(f\"{column}: Number of unique values {df[column].nunique()}\")\n",
    "    print(\"==========================================================\")\n",
    "    \n",
    "    \n",
    "# f means Formatted string literals "
   ]
  },
  {
   "cell_type": "code",
   "execution_count": null,
   "id": "3d6be235",
   "metadata": {},
   "outputs": [],
   "source": [
    "object_col = []\n",
    "for column in df.columns:\n",
    "    if df[column].dtype == object and len(df[column].unique()) <= 30:\n",
    "        object_col.append(column)\n",
    "        print(f\"{column} : {df[column].unique()}\")\n",
    "        print(df[column].value_counts())\n",
    "        print(\"====================================\")"
   ]
  },
  {
   "cell_type": "code",
   "execution_count": null,
   "id": "3a12706c",
   "metadata": {},
   "outputs": [],
   "source": [
    "df['payer_code'].nunique()"
   ]
  },
  {
   "cell_type": "code",
   "execution_count": null,
   "id": "51c72eed",
   "metadata": {},
   "outputs": [],
   "source": [
    "df['payer_code'].value_counts()"
   ]
  },
  {
   "cell_type": "code",
   "execution_count": null,
   "id": "96794622",
   "metadata": {},
   "outputs": [],
   "source": [
    "df.loc[df['payer_code']!= 'MC']"
   ]
  },
  {
   "cell_type": "code",
   "execution_count": null,
   "id": "f1ad544c",
   "metadata": {},
   "outputs": [],
   "source": [
    "df['medical_specialty'].nunique()"
   ]
  },
  {
   "cell_type": "code",
   "execution_count": null,
   "id": "0dba9e84",
   "metadata": {},
   "outputs": [],
   "source": [
    "df['medical_specialty'].value_counts()"
   ]
  },
  {
   "cell_type": "code",
   "execution_count": null,
   "id": "7bab24c5",
   "metadata": {},
   "outputs": [],
   "source": [
    "df['weight'].nunique()"
   ]
  },
  {
   "cell_type": "code",
   "execution_count": null,
   "id": "5ca76e83",
   "metadata": {},
   "outputs": [],
   "source": [
    "df['weight'].value_counts()"
   ]
  },
  {
   "cell_type": "markdown",
   "id": "862d8126",
   "metadata": {},
   "source": [
    "### Dropping columns and rows"
   ]
  },
  {
   "cell_type": "code",
   "execution_count": null,
   "id": "6b6f2229",
   "metadata": {},
   "outputs": [],
   "source": [
    "df.shape"
   ]
  },
  {
   "cell_type": "code",
   "execution_count": null,
   "id": "19595c42-e4bb-4963-8e8e-df9d8f8e9ad6",
   "metadata": {},
   "outputs": [],
   "source": [
    "df.weight"
   ]
  },
  {
   "cell_type": "code",
   "execution_count": null,
   "id": "7b0e0eba",
   "metadata": {},
   "outputs": [],
   "source": [
    "# Remove a single column\n",
    "df.drop('payer_code',axis=1, inplace=True)  # Axis=1 means drop the column\n",
    "df.drop('weight',axis=1, inplace=True)  \n"
   ]
  },
  {
   "cell_type": "code",
   "execution_count": null,
   "id": "b6020c93",
   "metadata": {},
   "outputs": [],
   "source": [
    "# Remove multiple columns\n",
    "\n",
    "# glyburide-metformin       \n",
    "# glipizide-metformin       \n",
    "# glimepiride-pioglitazone\n",
    "\n",
    "drop_columns = {'medical_specialty','glyburide-metformin','glipizide-metformin',\n",
    "                'glimepiride-pioglitazone'}\n",
    "df.drop(columns = drop_columns, inplace=True) # inplace=True not used so columns still exist. \n",
    "                                     # Just not in this instance.\n",
    "df.head()"
   ]
  },
  {
   "cell_type": "code",
   "execution_count": null,
   "id": "8724ad1d",
   "metadata": {},
   "outputs": [],
   "source": [
    "# Delete by selecting rows not equal to the condition\n",
    "df = df.loc[df['age']!= 'xyz']\n",
    "df = df.loc[df.gender != '?']\n",
    "#df = df.loc[df['gender']!='?']\n",
    "#df.shape"
   ]
  },
  {
   "cell_type": "code",
   "execution_count": null,
   "id": "880b618c",
   "metadata": {},
   "outputs": [],
   "source": [
    "no_age = df[df['age'].isnull()].index\n",
    "#no_age\n",
    "df = df.drop(no_age, axis = 0)   # axis = 0 means drop the row\n",
    "df.shape\n",
    "               \n",
    "              "
   ]
  },
  {
   "cell_type": "markdown",
   "id": "b23095a1",
   "metadata": {},
   "source": [
    "#### Quantitative data"
   ]
  },
  {
   "cell_type": "code",
   "execution_count": null,
   "id": "d3f5cd2c",
   "metadata": {},
   "outputs": [],
   "source": [
    "# Histograms\n",
    "\n",
    "plt.figure(figsize = (20,20))\n",
    "plt.subplot(521)\n",
    "sns.histplot(data=df, x='time_in_hospital', binwidth = 1)\n",
    "plt.subplot(522)\n",
    "sns.histplot(data=df, x='lab_procedures', bins=25)\n",
    "plt.subplot(523)\n",
    "sns.histplot(data=df, x='procedures', binwidth = 1)\n",
    "plt.subplot(524)\n",
    "sns.histplot(data=df, x='num_medications', binwidth = 2)\n",
    "plt.subplot(525)\n",
    "sns.histplot(data=df, x='number_outpatient', binwidth = 2)\n",
    "plt.subplot(526)\n",
    "sns.histplot(data=df, x='number_inpatient', binwidth = 2)\n",
    "plt.subplot(527)\n",
    "sns.histplot(data=df, x='number_emergency', binwidth = 2)\n",
    "\n",
    "\n",
    "plt.suptitle('Histograms')\n",
    "plt.show()"
   ]
  },
  {
   "cell_type": "code",
   "execution_count": null,
   "id": "ef7ca099",
   "metadata": {},
   "outputs": [],
   "source": [
    "# Pairplot to see the big picture\n",
    "sns.pairplot(df)"
   ]
  },
  {
   "cell_type": "code",
   "execution_count": null,
   "id": "bc08cab5",
   "metadata": {},
   "outputs": [],
   "source": [
    "sns.pairplot(df, hue = 'gender', corner = True)"
   ]
  },
  {
   "cell_type": "code",
   "execution_count": null,
   "id": "988c4648",
   "metadata": {},
   "outputs": [],
   "source": [
    "sns.pairplot(df,\n",
    "             x_vars=['lab_procedures', 'procedures', 'num_medications'],\n",
    "             y_vars=['time_in_hospital','number_outpatient','number_emergency','number_inpatient' ])\n"
   ]
  },
  {
   "cell_type": "code",
   "execution_count": null,
   "id": "456b257b",
   "metadata": {},
   "outputs": [],
   "source": [
    "# Correlations\n",
    "numeric_df = df.select_dtypes(include=['number'])\n",
    "\n",
    "# Calculate the correlation matrix\n",
    "df2 = numeric_df.corr()\n",
    "df2"
   ]
  },
  {
   "cell_type": "code",
   "execution_count": null,
   "id": "699f49eb",
   "metadata": {},
   "outputs": [],
   "source": [
    "plt.figure(figsize=(10,10))\n",
    "corr = df2.corr()\n",
    "ax = sns.heatmap(\n",
    "    df2,\n",
    "    vmin=-1, vmax=1, center=0,\n",
    "    cmap=sns.diverging_palette(20, 220, n=200),\n",
    "    square=True,\n",
    "    annot=True, annot_kws={\"size\":10}\n",
    ")\n",
    "ax.set_xticklabels(\n",
    "    ax.get_xticklabels(),\n",
    "    rotation=45,\n",
    "    horizontalalignment='right')\n",
    "plt.show()"
   ]
  },
  {
   "cell_type": "code",
   "execution_count": null,
   "id": "2bfe810a",
   "metadata": {},
   "outputs": [],
   "source": [
    "# Focusing on a few variables\n",
    "\n",
    "plt.figure(figsize = (20,20))\n",
    "plt.subplot(221)\n",
    "sns.boxplot(data=df, y=\"time_in_hospital\")\n",
    "plt.subplot(222)\n",
    "sns.boxplot(data=df, y=\"lab_procedures\")\n",
    "plt.subplot(223)\n",
    "sns.boxplot(data=df, y=\"procedures\")\n",
    "plt.subplot(224)\n",
    "sns.boxplot(data=df, y=\"num_medications\")"
   ]
  },
  {
   "cell_type": "code",
   "execution_count": null,
   "id": "bc877d0a",
   "metadata": {},
   "outputs": [],
   "source": [
    "# Focusing on a few variables\n",
    "\n",
    "plt.figure(figsize = (20,20))\n",
    "plt.subplot(221)\n",
    "sns.boxplot(data=df, x='age', y=\"time_in_hospital\")\n",
    "plt.subplot(222)\n",
    "sns.boxplot(data=df, x='age', y=\"lab_procedures\")\n",
    "plt.subplot(223)\n",
    "sns.boxplot(data=df, x='age', y=\"procedures\")\n",
    "plt.subplot(224)\n",
    "sns.boxplot(data=df, x='age', y=\"num_medications\")"
   ]
  },
  {
   "cell_type": "markdown",
   "id": "7855e728",
   "metadata": {},
   "source": [
    "### Removing outliers"
   ]
  },
  {
   "cell_type": "code",
   "execution_count": null,
   "id": "972397ee",
   "metadata": {},
   "outputs": [],
   "source": [
    "#outliers\n",
    "dfoutliers = df[(df['num_medications']>70)]\n",
    "dfoutliers.shape\n",
    "#filtering outliers out\n",
    "#df_movie = df_movie[(df_movie['minute']>43) & (df_movie['minute']<158)]"
   ]
  },
  {
   "cell_type": "markdown",
   "id": "ee77deff",
   "metadata": {},
   "source": [
    "# Exercise - 30 minutes\n",
    "\n",
    "### See Beer Notebook - Part 1"
   ]
  },
  {
   "cell_type": "markdown",
   "id": "ead6e8d6",
   "metadata": {},
   "source": [
    " "
   ]
  }
 ],
 "metadata": {
  "kernelspec": {
   "display_name": "Python 3 (ipykernel)",
   "language": "python",
   "name": "python3"
  },
  "language_info": {
   "codemirror_mode": {
    "name": "ipython",
    "version": 3
   },
   "file_extension": ".py",
   "mimetype": "text/x-python",
   "name": "python",
   "nbconvert_exporter": "python",
   "pygments_lexer": "ipython3",
   "version": "3.12.7"
  },
  "toc": {
   "base_numbering": 1,
   "nav_menu": {},
   "number_sections": false,
   "sideBar": false,
   "skip_h1_title": false,
   "title_cell": "Table of Contents",
   "title_sidebar": "Contents",
   "toc_cell": true,
   "toc_position": {
    "height": "47.6875px",
    "left": "1163.64px",
    "top": "111.125px",
    "width": "159.359px"
   },
   "toc_section_display": false,
   "toc_window_display": true
  },
  "varInspector": {
   "cols": {
    "lenName": 16,
    "lenType": 16,
    "lenVar": 40
   },
   "kernels_config": {
    "python": {
     "delete_cmd_postfix": "",
     "delete_cmd_prefix": "del ",
     "library": "var_list.py",
     "varRefreshCmd": "print(var_dic_list())"
    },
    "r": {
     "delete_cmd_postfix": ") ",
     "delete_cmd_prefix": "rm(",
     "library": "var_list.r",
     "varRefreshCmd": "cat(var_dic_list()) "
    }
   },
   "types_to_exclude": [
    "module",
    "function",
    "builtin_function_or_method",
    "instance",
    "_Feature"
   ],
   "window_display": false
  }
 },
 "nbformat": 4,
 "nbformat_minor": 5
}
