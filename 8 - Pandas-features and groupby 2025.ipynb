{
 "cells": [
  {
   "cell_type": "markdown",
   "id": "51cb7fd1",
   "metadata": {
    "toc": true
   },
   "source": [
    "<h1>Table of Contents<span class=\"tocSkip\"></span></h1>\n",
    "<div class=\"toc\"><ul class=\"toc-item\"><li><span><a href=\"#Data-Preparation\" data-toc-modified-id=\"Data-Preparation-1\">Data Preparation</a></span></li><li><span><a href=\"#Feature-Engineering\" data-toc-modified-id=\"Feature-Engineering-2\">Feature Engineering</a></span><ul class=\"toc-item\"><li><span><a href=\"#New-dataframes\" data-toc-modified-id=\"New-dataframes-2.1\">New dataframes</a></span><ul class=\"toc-item\"><li><ul class=\"toc-item\"><li><span><a href=\"#Side-note---Series\" data-toc-modified-id=\"Side-note---Series-2.1.0.1\">Side note - Series</a></span></li></ul></li><li><span><a href=\"#New-dataframe-based-on-columns-(selecting)\" data-toc-modified-id=\"New-dataframe-based-on-columns-(selecting)-2.1.1\">New dataframe based on columns (selecting)</a></span><ul class=\"toc-item\"><li><span><a href=\"#Select-using-column-names\" data-toc-modified-id=\"Select-using-column-names-2.1.1.1\">Select using column names</a></span></li><li><span><a href=\"#Select-using-.loc[-]\" data-toc-modified-id=\"Select-using-.loc[-]-2.1.1.2\">Select using .loc[ ]</a></span></li><li><span><a href=\"#Select-using-.iloc[-]\" data-toc-modified-id=\"Select-using-.iloc[-]-2.1.1.3\">Select using .iloc[ ]</a></span></li></ul></li><li><span><a href=\"#New-dataframe-based-on-rows-(slicing)\" data-toc-modified-id=\"New-dataframe-based-on-rows-(slicing)-2.1.2\">New dataframe based on rows (slicing)</a></span><ul class=\"toc-item\"><li><span><a href=\"#When-a-column-is-used-as-the-row-index\" data-toc-modified-id=\"When-a-column-is-used-as-the-row-index-2.1.2.1\">When a column is used as the row index</a></span></li><li><span><a href=\"#Slice-using-iloc[-]\" data-toc-modified-id=\"Slice-using-iloc[-]-2.1.2.2\">Slice using iloc[ ]</a></span></li></ul></li><li><span><a href=\"#New-dataframe-based-on-rows-and-columns-(indexing)\" data-toc-modified-id=\"New-dataframe-based-on-rows-and-columns-(indexing)-2.1.3\">New dataframe based on rows and columns (indexing)</a></span></li><li><span><a href=\"#New-dataframe-based-on-row-filtering\" data-toc-modified-id=\"New-dataframe-based-on-row-filtering-2.1.4\">New dataframe based on row filtering</a></span></li></ul></li></ul></li><li><span><a href=\"#New-Columns\" data-toc-modified-id=\"New-Columns-3\">New Columns</a></span></li><li><span><a href=\"#Group-By\" data-toc-modified-id=\"Group-By-4\">Group By</a></span><ul class=\"toc-item\"><li><span><a href=\"#Basics\" data-toc-modified-id=\"Basics-4.1\">Basics</a></span></li><li><span><a href=\"#Create-a-new-dataframe-for-grouped-data\" data-toc-modified-id=\"Create-a-new-dataframe-for-grouped-data-4.2\">Create a new dataframe for grouped data</a></span></li></ul></li><li><span><a href=\"#Using-the-penguin-dataset\" data-toc-modified-id=\"Using-the-penguin-dataset-5\">Using the penguin dataset</a></span></li><li><span><a href=\"#Transforming-Data\" data-toc-modified-id=\"Transforming-Data-6\">Transforming Data</a></span></li><li><span><a href=\"#Filtering-data\" data-toc-modified-id=\"Filtering-data-7\">Filtering data</a></span></li><li><span><a href=\"#Group-by-multiple-categories\" data-toc-modified-id=\"Group-by-multiple-categories-8\">Group by multiple categories</a></span></li><li><span><a href=\"#Group-by-numerical-data-using-.cut()-and-.qcut()\" data-toc-modified-id=\"Group-by-numerical-data-using-.cut()-and-.qcut()-9\">Group by numerical data using .cut() and .qcut()</a></span></li><li><span><a href=\"#Return-to-the-Beer-notebook-and-complete-part-2\" data-toc-modified-id=\"Return-to-the-Beer-notebook-and-complete-part-2-10\">Return to the Beer notebook and complete part 2</a></span></li></ul></div>"
   ]
  },
  {
   "cell_type": "code",
   "execution_count": null,
   "id": "5c007c00",
   "metadata": {},
   "outputs": [],
   "source": [
    "import numpy as np\n",
    "import pandas as pd\n",
    "import seaborn as sns\n",
    "from numpy.random import randn\n",
    "pd.set_option(\"display.precision\", 1)\n",
    "sns.set_style('white')\n",
    "\n",
    "import warnings\n",
    "\n",
    "warnings.filterwarnings(\"ignore\")"
   ]
  },
  {
   "cell_type": "code",
   "execution_count": null,
   "id": "a774c2d6",
   "metadata": {},
   "outputs": [],
   "source": [
    "df_original = pd.read_csv('https://raw.githubusercontent.com/jimcody2014/python_data/refs/heads/main/diabetes_inspect.csv')"
   ]
  },
  {
   "cell_type": "code",
   "execution_count": null,
   "id": "5b743da7",
   "metadata": {},
   "outputs": [],
   "source": [
    "df_original.head()"
   ]
  },
  {
   "cell_type": "markdown",
   "id": "eaf531dc",
   "metadata": {},
   "source": [
    "# Data Preparation"
   ]
  },
  {
   "cell_type": "code",
   "execution_count": null,
   "id": "2c4a7f93",
   "metadata": {},
   "outputs": [],
   "source": [
    "df = df_original"
   ]
  },
  {
   "cell_type": "code",
   "execution_count": null,
   "id": "5cb07941",
   "metadata": {},
   "outputs": [],
   "source": [
    "df.drop_duplicates(keep = 'first', inplace = True)\n",
    "\n",
    "df['encounter_id'] = df['encounter_id'].astype(str)\n",
    "df['patient_nbr'] = df['patient_nbr'].astype(str)\n",
    "df['admission_type_id'] = df['admission_type_id'].astype(str)\n",
    "df['discharge_disposition_id'] = df['discharge_disposition_id'].astype(str)\n",
    "df['admission_source_id'] = df['admission_source_id'].astype(str)\n",
    "\n",
    "short_names = {'admission_type_id':'admin_type', # creating a dict of the names to be changed\n",
    "               'discharge_disposition_id':'discharge_dispo',\n",
    "               'admission_source_id':'admin_source',\n",
    "               'num_lab_procedures':'lab_procedures',\n",
    "               'num_procedures':'procedures'}\n",
    "\n",
    "df.rename(columns=short_names, inplace=True)\n",
    "no_age = df[df['age'].isnull()].index\n",
    "drop_columns = {'medical_specialty','glyburide-metformin','glipizide-metformin',\n",
    "                'glimepiride-pioglitazone', 'payer_code', 'weight'}\n",
    "df = df.drop(columns = drop_columns)\n",
    "\n",
    "df.num_medications.fillna( df.num_medications.mean(),inplace=True )\n",
    "df['gender'] = df['gender'].replace({'M':'Male', 'Mle':'Male', 'F':'Female'})\n",
    "df['gender'] = df['gender'].apply(lambda x:x.lower())\n",
    "df['gender'] = df['gender'].replace({'?':'male', 'unknown/invalid':'male'})   \n",
    "df = df.loc[df['age']!= 'xyz']\n",
    "df = df.loc[df.gender != '?']\n",
    "df = df.drop(no_age, axis = 0) \n",
    "df2 = df                           # This is used for new dataframe examples"
   ]
  },
  {
   "cell_type": "code",
   "execution_count": null,
   "id": "868dd62a",
   "metadata": {},
   "outputs": [],
   "source": [
    "data = {\n",
    "    'Weather': ['Sunny','Sunny','Sunny','Cloudy','Shower','Shower','Sunny'], \n",
    "    'Temperature': [78,76,78,68,70,71,82],\n",
    "    'Wind': [13,28,16,11,26,27,20],\n",
    "    'Humidity': [30,96,20,22,79,62,10],\n",
    "}\n",
    "weather = pd.DataFrame(data, index = ['Mon', 'Tue', 'Wed', 'Thu', 'Fri', 'Sat', 'Sun'])"
   ]
  },
  {
   "cell_type": "markdown",
   "id": "099365d5",
   "metadata": {},
   "source": [
    "# Feature Engineering"
   ]
  },
  {
   "cell_type": "markdown",
   "id": "db7cc157",
   "metadata": {},
   "source": [
    "- New dataframes\n",
    "    - a subset of columns\n",
    "    - a subset of rows\n",
    "- New columns"
   ]
  },
  {
   "cell_type": "markdown",
   "id": "d160525a",
   "metadata": {},
   "source": [
    "![subset-dataframe.png](images/subset-dataframe.png)"
   ]
  },
  {
   "cell_type": "markdown",
   "id": "f8d75943",
   "metadata": {},
   "source": [
    "## New dataframes"
   ]
  },
  {
   "cell_type": "code",
   "execution_count": null,
   "id": "bc1e971e",
   "metadata": {},
   "outputs": [],
   "source": [
    "df.columns"
   ]
  },
  {
   "cell_type": "markdown",
   "id": "f58ae3be",
   "metadata": {},
   "source": [
    "### New dataframe based on columns (selecting)"
   ]
  },
  {
   "cell_type": "markdown",
   "id": "834a3fa7",
   "metadata": {},
   "source": [
    "#### Select using column names"
   ]
  },
  {
   "cell_type": "code",
   "execution_count": null,
   "id": "5f35a49f",
   "metadata": {},
   "outputs": [],
   "source": [
    "medications = df[['miglitol', 'insulin', 'glipizide']] # Notice that the columns are passed in as a list\n",
    "print(type(medications))\n",
    "print()\n",
    "print(medications.info())"
   ]
  },
  {
   "cell_type": "code",
   "execution_count": null,
   "id": "81958c5d-a14e-4e33-bdd9-38a695201a96",
   "metadata": {},
   "outputs": [],
   "source": [
    "medications.shape"
   ]
  },
  {
   "cell_type": "markdown",
   "id": "dfa56b5c",
   "metadata": {},
   "source": [
    "#### Select using .loc[ ]"
   ]
  },
  {
   "cell_type": "code",
   "execution_count": null,
   "id": "ed064d20",
   "metadata": {},
   "outputs": [],
   "source": [
    "medications2 = df.loc[:,['insulin', 'miglitol']] # Notice that the columns are passed in as a list\n",
    "print(type(medications2))\n",
    "print()\n",
    "print(medications2.info())"
   ]
  },
  {
   "cell_type": "markdown",
   "id": "c7b5a5db",
   "metadata": {},
   "source": [
    "#### Select using .iloc[ ]"
   ]
  },
  {
   "cell_type": "code",
   "execution_count": null,
   "id": "9fe40041",
   "metadata": {},
   "outputs": [],
   "source": [
    "medications3 = df.iloc[:,[23,24]] # Notice that the columns are passed in as a list\n",
    "print(type(medications3))\n",
    "print()\n",
    "print(medications3.info())"
   ]
  },
  {
   "cell_type": "code",
   "execution_count": null,
   "id": "f9b6758e",
   "metadata": {},
   "outputs": [],
   "source": [
    "medications4 = df.iloc[:,18:25] # Notice that the columns are NOT passed in as a list (because of slicing (the colon))\n",
    "print(type(medications4))\n",
    "print()\n",
    "print(medications4.info())"
   ]
  },
  {
   "cell_type": "code",
   "execution_count": null,
   "id": "f6fe6430",
   "metadata": {},
   "outputs": [],
   "source": [
    "del medications\n",
    "del medications2\n",
    "del medications3\n",
    "del medications4"
   ]
  },
  {
   "cell_type": "markdown",
   "id": "a073f128",
   "metadata": {},
   "source": [
    "### New dataframe based on rows (slicing)"
   ]
  },
  {
   "cell_type": "code",
   "execution_count": null,
   "id": "64495e67",
   "metadata": {},
   "outputs": [],
   "source": [
    "weather.head(10)"
   ]
  },
  {
   "cell_type": "markdown",
   "id": "905406b3",
   "metadata": {},
   "source": [
    "#### When a column is used as the row index"
   ]
  },
  {
   "cell_type": "code",
   "execution_count": null,
   "id": "3777cd90",
   "metadata": {},
   "outputs": [],
   "source": [
    "rows1 = weather.loc[['Tue', 'Thu', 'Sun']]\n",
    "rows1"
   ]
  },
  {
   "cell_type": "markdown",
   "id": "0e6d786a",
   "metadata": {},
   "source": [
    "#### Slice using iloc[ ]"
   ]
  },
  {
   "cell_type": "code",
   "execution_count": null,
   "id": "884cdeb1",
   "metadata": {},
   "outputs": [],
   "source": [
    "rows2 = df.iloc[[2,4,6],]  # Notice, you do not need the colon\n",
    "print(type(rows2))\n",
    "print()\n",
    "print(rows2.shape)"
   ]
  },
  {
   "cell_type": "code",
   "execution_count": null,
   "id": "b93188f8",
   "metadata": {},
   "outputs": [],
   "source": [
    "rows3 = df.iloc[3:20,]  # Notice, you do not need the colon\n",
    "print(type(rows3))\n",
    "print()\n",
    "print(rows3.shape)"
   ]
  },
  {
   "cell_type": "markdown",
   "id": "aca9b4b4",
   "metadata": {},
   "source": [
    "### New dataframe based on rows and columns (indexing)"
   ]
  },
  {
   "cell_type": "code",
   "execution_count": null,
   "id": "bf9d31da",
   "metadata": {},
   "outputs": [],
   "source": [
    "rows4 = df.iloc[3:20,5:10] \n",
    "print(type(rows4))\n",
    "print()\n",
    "print(rows4.shape)"
   ]
  },
  {
   "cell_type": "code",
   "execution_count": null,
   "id": "e8cda260-30c8-4c80-ae63-a41b4be75ff7",
   "metadata": {},
   "outputs": [],
   "source": [
    "rows4"
   ]
  },
  {
   "cell_type": "code",
   "execution_count": null,
   "id": "03a6be27",
   "metadata": {},
   "outputs": [],
   "source": [
    "rows5 = df.loc[3:20,['insulin','miglitol']] \n",
    "print(type(rows5))\n",
    "print()\n",
    "print(rows5.shape)"
   ]
  },
  {
   "cell_type": "code",
   "execution_count": null,
   "id": "e4df6c34-c362-4249-b6f5-e124813f6e6d",
   "metadata": {},
   "outputs": [],
   "source": [
    "df.head(20)"
   ]
  },
  {
   "cell_type": "markdown",
   "id": "dddaa77c",
   "metadata": {},
   "source": [
    "### New dataframe based on row filtering"
   ]
  },
  {
   "cell_type": "code",
   "execution_count": null,
   "id": "0c9afe3c",
   "metadata": {},
   "outputs": [],
   "source": [
    "df['A1Cresult'] == 'None'"
   ]
  },
  {
   "cell_type": "code",
   "execution_count": null,
   "id": "c5717fe6",
   "metadata": {},
   "outputs": [],
   "source": [
    "NoA1C = df[df['A1Cresult'] == 'None'] # If True, put into new dataframe\n",
    "print(type(NoA1C))\n",
    "print()\n",
    "print(NoA1C.shape)"
   ]
  },
  {
   "cell_type": "code",
   "execution_count": null,
   "id": "7546f08c",
   "metadata": {},
   "outputs": [],
   "source": [
    "NoA1C.head()"
   ]
  },
  {
   "cell_type": "code",
   "execution_count": null,
   "id": "5142b7d9",
   "metadata": {},
   "outputs": [],
   "source": [
    "NoA1C2 = df[(df['A1Cresult'] == 'None') & (df['time_in_hospital'] > 4)] # Notice parens around test\n",
    "print(type(NoA1C2))\n",
    "print()\n",
    "print(NoA1C2.shape)"
   ]
  },
  {
   "cell_type": "code",
   "execution_count": null,
   "id": "f6730684",
   "metadata": {},
   "outputs": [],
   "source": [
    "NoA1C3 = df[(df['A1Cresult'] == 'None') | (df['time_in_hospital'] > 4)] # Notice parens around test\n",
    "print(type(NoA1C3))\n",
    "print()\n",
    "print(NoA1C3.shape)"
   ]
  },
  {
   "cell_type": "code",
   "execution_count": null,
   "id": "083b7bfb",
   "metadata": {},
   "outputs": [],
   "source": [
    "NoA1C4 = df[df['lab_procedures'].between(11,25)] \n",
    "print(type(NoA1C4))\n",
    "print()\n",
    "print(NoA1C4.shape)\n",
    "print()\n",
    "print(NoA1C4.head())"
   ]
  },
  {
   "cell_type": "markdown",
   "id": "7b64bc21",
   "metadata": {},
   "source": [
    "# New Columns"
   ]
  },
  {
   "cell_type": "code",
   "execution_count": null,
   "id": "21e96cde-d0cf-4057-bcf4-e3f9c8ad5b61",
   "metadata": {},
   "outputs": [],
   "source": [
    "df.info()"
   ]
  },
  {
   "cell_type": "code",
   "execution_count": null,
   "id": "f40f87b3",
   "metadata": {},
   "outputs": [],
   "source": [
    "df['new1'] = df.procedures+1"
   ]
  },
  {
   "cell_type": "code",
   "execution_count": null,
   "id": "7d65b21d",
   "metadata": {},
   "outputs": [],
   "source": [
    "df.head()"
   ]
  },
  {
   "cell_type": "markdown",
   "id": "7c16bb6c",
   "metadata": {},
   "source": [
    "apply() is a dataframe method that replaces loops.  It takes a function as input and applies it to all rows of the dataframe."
   ]
  },
  {
   "cell_type": "code",
   "execution_count": null,
   "id": "9a899566",
   "metadata": {},
   "outputs": [],
   "source": [
    "df['new2'] = df['gender'].apply(lambda x:x.upper())"
   ]
  },
  {
   "cell_type": "code",
   "execution_count": null,
   "id": "5d2bfaa7",
   "metadata": {},
   "outputs": [],
   "source": [
    "df['new3'] = df['procedures'].apply(lambda x:x*2)"
   ]
  },
  {
   "cell_type": "code",
   "execution_count": null,
   "id": "51f15047",
   "metadata": {},
   "outputs": [],
   "source": [
    "# The Row object is a read-only dictionary-like structure which contains the cell values for a particular row. \n",
    "def do_math(row):\n",
    "    return row['procedures'] + row['lab_procedures']"
   ]
  },
  {
   "cell_type": "code",
   "execution_count": null,
   "id": "ed24986a",
   "metadata": {},
   "outputs": [],
   "source": [
    "df['new4'] = df.apply(do_math, axis=1)"
   ]
  },
  {
   "cell_type": "code",
   "execution_count": null,
   "id": "127365a6",
   "metadata": {},
   "outputs": [],
   "source": [
    "df['new5'] = df.procedures + df.lab_procedures"
   ]
  },
  {
   "cell_type": "code",
   "execution_count": null,
   "id": "6f1168d2",
   "metadata": {},
   "outputs": [],
   "source": [
    "df.head()"
   ]
  },
  {
   "cell_type": "code",
   "execution_count": null,
   "id": "1cef1649",
   "metadata": {},
   "outputs": [],
   "source": []
  },
  {
   "cell_type": "markdown",
   "id": "42458019",
   "metadata": {},
   "source": [
    "# Group By"
   ]
  },
  {
   "cell_type": "markdown",
   "id": "4d554b74",
   "metadata": {},
   "source": [
    "## Basics"
   ]
  },
  {
   "cell_type": "markdown",
   "id": "b2df1983",
   "metadata": {},
   "source": [
    "Information we might be interested in:\n",
    "- For each gender, what is the mean for every numeric column? What are they by age group?\n",
    "- For each gender, what is the mean value of procedures?\n",
    "- How many rows are there in each group when the grouping is by gender?\n",
    "- By gender, what are the min, max and median values for number of medications(individualy)?"
   ]
  },
  {
   "cell_type": "code",
   "execution_count": null,
   "id": "4ffac508",
   "metadata": {},
   "outputs": [],
   "source": [
    "df.columns"
   ]
  },
  {
   "cell_type": "code",
   "execution_count": null,
   "id": "c595a565-c8b3-42b6-96ac-e589f9e43c20",
   "metadata": {},
   "outputs": [],
   "source": [
    "# This will create an error message because it is trying to calculate the mean of strings as well as numbers\n",
    "\n",
    "# df.groupby('gender').mean()"
   ]
  },
  {
   "cell_type": "code",
   "execution_count": null,
   "id": "af59d1b5",
   "metadata": {},
   "outputs": [],
   "source": [
    "df.groupby('gender').mean(numeric_only=True)"
   ]
  },
  {
   "cell_type": "code",
   "execution_count": null,
   "id": "8810655c",
   "metadata": {},
   "outputs": [],
   "source": [
    "df.groupby('gender').procedures.mean() # Requesting the mean of one column\n",
    "\n",
    "# This code uses attribute-style access (df.procedures) to select the procedures column from the DataFrame.\n",
    "# After grouping by gender, it calculates the mean of the procedures column.\n",
    "# It returns a Pandas Series where the index is gender and the values are the mean of the procedures column for each group."
   ]
  },
  {
   "cell_type": "code",
   "execution_count": null,
   "id": "343ef9f1-02d0-4b11-b0ea-7cdb48d83f68",
   "metadata": {},
   "outputs": [],
   "source": [
    "# Alternative coding\n",
    "\n",
    "df.groupby('gender')[['procedures']].mean()\n",
    "\n",
    "# This code uses bracket notation ([['procedures']]) to select the procedures column as a DataFrame (not a Series).\n",
    "# After grouping by gender, it calculates the mean for the selected column.\n",
    "# It returns a Pandas DataFrame where the index is gender and the column is procedures with the mean values."
   ]
  },
  {
   "cell_type": "code",
   "execution_count": null,
   "id": "affa0968",
   "metadata": {},
   "outputs": [],
   "source": [
    "df.groupby('gender').size()  # .size() provides # of rows in each group"
   ]
  },
  {
   "cell_type": "code",
   "execution_count": null,
   "id": "346756b4",
   "metadata": {},
   "outputs": [],
   "source": [
    "df.groupby('gender').procedures.min()"
   ]
  },
  {
   "cell_type": "code",
   "execution_count": null,
   "id": "eb627893",
   "metadata": {},
   "outputs": [],
   "source": [
    "df.groupby('gender').procedures.max()"
   ]
  },
  {
   "cell_type": "code",
   "execution_count": null,
   "id": "bcd382ea",
   "metadata": {},
   "outputs": [],
   "source": [
    "df.groupby('gender').procedures.median()"
   ]
  },
  {
   "cell_type": "code",
   "execution_count": null,
   "id": "560c2447",
   "metadata": {},
   "outputs": [],
   "source": [
    "df.groupby('gender').procedures.count()"
   ]
  },
  {
   "cell_type": "markdown",
   "id": "cc86a816-4479-453b-b211-37ce8b3d6ee0",
   "metadata": {},
   "source": [
    "### Quick exercise - 1 min\n",
    "\n",
    "Rewrite the code to return the min, max, median and count of procedures using the bracket notation."
   ]
  },
  {
   "cell_type": "code",
   "execution_count": null,
   "id": "c9c816a1-fb04-472f-85a2-94aecb2e6409",
   "metadata": {},
   "outputs": [],
   "source": []
  },
  {
   "cell_type": "code",
   "execution_count": null,
   "id": "5bbbdbbd-a771-4e56-8279-20c92cd89405",
   "metadata": {},
   "outputs": [],
   "source": []
  },
  {
   "cell_type": "code",
   "execution_count": null,
   "id": "ef8097b0-4d47-4bc9-9a9e-750400e40948",
   "metadata": {},
   "outputs": [],
   "source": []
  },
  {
   "cell_type": "code",
   "execution_count": null,
   "id": "1613a3c3-22bd-4646-a1ff-b1212f78be58",
   "metadata": {},
   "outputs": [],
   "source": []
  },
  {
   "cell_type": "code",
   "execution_count": null,
   "id": "b3bf1094",
   "metadata": {},
   "outputs": [],
   "source": [
    "# 1 - df.groupby('gender').mean(numeric_only=True)    mean for all numeric columns\n",
    "# 2 - df.groupby('gender').procedures.min()      mean for a specific column\n",
    "# 3 -            NEXT                                 multiple aggregations for a column(s)\n",
    "\n",
    "# there is a function called .agg() and it allows specifiying multiple aggregation functions at once\n",
    "\n",
    "x = df.groupby('gender').procedures.agg(['max', 'min', 'count', 'median', 'mean'])\n",
    "x"
   ]
  },
  {
   "cell_type": "code",
   "execution_count": null,
   "id": "aeb675b8",
   "metadata": {},
   "outputs": [],
   "source": [
    "# with custom column name\n",
    "df.groupby('gender').procedures.agg(most=('max'),least=('min'),total=('count'),middle=('median'),average=('mean'))"
   ]
  },
  {
   "cell_type": "markdown",
   "id": "c25074f8-745f-4b2e-815e-604354a63ee5",
   "metadata": {},
   "source": [
    "## A few variations"
   ]
  },
  {
   "cell_type": "code",
   "execution_count": null,
   "id": "985a2eb4-a4a2-4f2a-a50a-219282211172",
   "metadata": {},
   "outputs": [],
   "source": [
    "# This code calculated the mean for all numeric columns\n",
    "\n",
    "# The line below calculates the mean for specific columns\n",
    "\n",
    "df.groupby('gender')[['procedures', 'num_medications']].mean()"
   ]
  },
  {
   "cell_type": "code",
   "execution_count": null,
   "id": "5bd60af6-53ec-4177-b319-db96b7818eeb",
   "metadata": {},
   "outputs": [],
   "source": [
    "# Multiple columns with different aggregations\n",
    "\n",
    "df.groupby('gender').agg({\n",
    "    'procedures': 'mean',               # Average of 'procedures'\n",
    "    'num_medications': 'median',        # Median of 'num medications'\n",
    "    'time_in_hospital': 'sum'           # Total time in hospital\n",
    "})\n"
   ]
  },
  {
   "cell_type": "code",
   "execution_count": null,
   "id": "ba17f543-0418-4c74-b981-490b696520af",
   "metadata": {},
   "outputs": [],
   "source": [
    "# Multiple columns each with multiple  aggregations\n",
    "\n",
    "df.groupby('gender').agg({\n",
    "    'procedures': ['mean', 'sum'],  # Mean and sum of 'procedures'\n",
    "    'num_medications': ['min', 'max'],        # Min and max of 'num medications'\n",
    "})"
   ]
  },
  {
   "cell_type": "code",
   "execution_count": null,
   "id": "86c5acea-9355-425d-ae58-6f6df771901d",
   "metadata": {},
   "outputs": [],
   "source": [
    "# Calculate thge mean and median for all numeric columns\n",
    "\n",
    "df.groupby('gender').agg({col: ['mean', 'median'] for col in df.select_dtypes('number').columns})"
   ]
  },
  {
   "cell_type": "markdown",
   "id": "88531714-3d92-408f-a322-a53ff5278900",
   "metadata": {},
   "source": [
    "### Key Takeaways:\n",
    "- Use agg() with dictionaries to apply different aggregation functions to different columns.\n",
    "- You can use a list of functions to apply multiple operations on a single column.\n",
    "- For flexibility, combine groupby() with column selection ([['columns']]) when working with specific subsets of data."
   ]
  },
  {
   "cell_type": "markdown",
   "id": "9bc17cfe",
   "metadata": {},
   "source": [
    "## Create a new dataframe for grouped data"
   ]
  },
  {
   "cell_type": "code",
   "execution_count": null,
   "id": "30c4fa03",
   "metadata": {},
   "outputs": [],
   "source": [
    "x = df.groupby('A1Cresult')  #### Notice no method on the end\n",
    "x.groups\n",
    "\n",
    "\n",
    "\n"
   ]
  },
  {
   "cell_type": "code",
   "execution_count": null,
   "id": "52d3d458",
   "metadata": {},
   "outputs": [],
   "source": [
    "GT7 = x.get_group('>7')\n",
    "GT7.head()"
   ]
  },
  {
   "cell_type": "code",
   "execution_count": null,
   "id": "7b068223",
   "metadata": {},
   "outputs": [],
   "source": [
    "x.first()  # first row in each group"
   ]
  },
  {
   "cell_type": "code",
   "execution_count": null,
   "id": "0f61744e",
   "metadata": {},
   "outputs": [],
   "source": [
    "x.last()  # last row in each group"
   ]
  },
  {
   "cell_type": "code",
   "execution_count": null,
   "id": "399043e6",
   "metadata": {},
   "outputs": [],
   "source": [
    "print(type(x))\n",
    "print(type(GT7))"
   ]
  },
  {
   "cell_type": "code",
   "execution_count": null,
   "id": "82d3418f",
   "metadata": {},
   "outputs": [],
   "source": [
    "x.mean(numeric_only=True) "
   ]
  },
  {
   "cell_type": "markdown",
   "id": "8f121af6",
   "metadata": {},
   "source": [
    "# Using the penguin dataset\n",
    "\n",
    "It has a wider range of values"
   ]
  },
  {
   "cell_type": "code",
   "execution_count": null,
   "id": "d97227f7",
   "metadata": {},
   "outputs": [],
   "source": [
    "df2 = sns.load_dataset('penguins')\n",
    "df2.head()"
   ]
  },
  {
   "cell_type": "code",
   "execution_count": null,
   "id": "bc82a831-96c7-4987-8156-97416ba1edb9",
   "metadata": {},
   "outputs": [],
   "source": [
    "df2.shape"
   ]
  },
  {
   "cell_type": "code",
   "execution_count": null,
   "id": "e70af7a6",
   "metadata": {},
   "outputs": [],
   "source": [
    "# with custom column name\n",
    "df2.groupby('sex').body_mass_g.agg(\n",
    "    sex_max=('max'),\n",
    "    sex_min=('min'),\n",
    ")\n",
    "\n",
    "#df.groupby('sex').body_mass_g.agg(sex_max=('max'),sex_min=('min'))"
   ]
  },
  {
   "cell_type": "code",
   "execution_count": null,
   "id": "81107f0c",
   "metadata": {},
   "outputs": [],
   "source": [
    "# Custom aggregation function\n",
    "def categorize(x):\n",
    "    m = x.mean()\n",
    "    return True if m > 4000 else False\n",
    "\n",
    "df2.groupby('sex').body_mass_g.agg(['max', 'mean', categorize])"
   ]
  },
  {
   "cell_type": "code",
   "execution_count": null,
   "id": "8203c4af",
   "metadata": {},
   "outputs": [],
   "source": [
    "# Use lambda\n",
    "df2.groupby('sex').body_mass_g.agg(\n",
    "    ['max', 'mean', lambda x: True if x.mean() > 4000 else False]\n",
    ")"
   ]
  },
  {
   "cell_type": "code",
   "execution_count": null,
   "id": "8ffce9f4",
   "metadata": {},
   "outputs": [],
   "source": [
    "# REMINDER\n",
    "\n",
    "\n",
    "df2.groupby('sex').mean(numeric_only=True)"
   ]
  },
  {
   "cell_type": "code",
   "execution_count": null,
   "id": "f8832e4a",
   "metadata": {},
   "outputs": [],
   "source": [
    "# df2.groupby('sex', numeric_only=True).agg(['mean', 'median'])"
   ]
  },
  {
   "cell_type": "code",
   "execution_count": null,
   "id": "dfc3a1a5-9a31-4201-a2ca-f8cefb67a1f3",
   "metadata": {},
   "outputs": [],
   "source": [
    "df2.groupby('sex').agg({col: ['mean', 'median'] for col in df2.select_dtypes('number').columns})"
   ]
  },
  {
   "cell_type": "code",
   "execution_count": null,
   "id": "8dff204f-03c0-411c-95a4-46da601508ec",
   "metadata": {},
   "outputs": [],
   "source": []
  },
  {
   "cell_type": "markdown",
   "id": "8fe78f39",
   "metadata": {},
   "source": [
    "# Transforming Data"
   ]
  },
  {
   "cell_type": "code",
   "execution_count": null,
   "id": "a2be1814",
   "metadata": {},
   "outputs": [],
   "source": [
    "# A lambda expression for Standardization.  Setting the mean to zero\n",
    "standardization = lambda x: (x - x.mean()) / x.std()"
   ]
  },
  {
   "cell_type": "code",
   "execution_count": null,
   "id": "2b3c7285",
   "metadata": {},
   "outputs": [],
   "source": [
    "g = df2.groupby('sex').body_mass_g.transform(standardization) # apply is used more when the shape of the data frame will change"
   ]
  },
  {
   "cell_type": "code",
   "execution_count": null,
   "id": "e5639277",
   "metadata": {},
   "outputs": [],
   "source": [
    "h = df2.groupby('sex').body_mass_g.apply(standardization)"
   ]
  },
  {
   "cell_type": "code",
   "execution_count": null,
   "id": "65d70808-97c6-44cd-b8fc-02f036f8dc9f",
   "metadata": {},
   "outputs": [],
   "source": [
    "g.shape"
   ]
  },
  {
   "cell_type": "code",
   "execution_count": null,
   "id": "045239a2-0fa0-47af-9552-9c2adcc8c8f9",
   "metadata": {},
   "outputs": [],
   "source": [
    "h.shape"
   ]
  },
  {
   "cell_type": "markdown",
   "id": "484d1f9c",
   "metadata": {},
   "source": [
    "# Filtering data"
   ]
  },
  {
   "cell_type": "code",
   "execution_count": null,
   "id": "c67f89e6",
   "metadata": {},
   "outputs": [],
   "source": [
    "# How many rows fall into each island group?\n",
    "df2.groupby('island').size()"
   ]
  },
  {
   "cell_type": "code",
   "execution_count": null,
   "id": "eb68f55e",
   "metadata": {},
   "outputs": [],
   "source": [
    "# filter data to return all islands that have at least 100 observations.\n",
    "df2.groupby('island').filter(lambda x: len(x) >= 100)"
   ]
  },
  {
   "cell_type": "markdown",
   "id": "c0126f6a",
   "metadata": {},
   "source": [
    "# Group by multiple categories"
   ]
  },
  {
   "cell_type": "code",
   "execution_count": null,
   "id": "7f387293",
   "metadata": {},
   "outputs": [],
   "source": [
    "# Creating a df that is a subset of penguins\n",
    "\n",
    "small = df2.loc[:, ['species', 'island', 'bill_depth_mm', 'bill_length_mm']]\n",
    "small"
   ]
  },
  {
   "cell_type": "code",
   "execution_count": null,
   "id": "c25d328c",
   "metadata": {},
   "outputs": [],
   "source": [
    "# Grouping by multiple categories\n",
    "\n",
    "small.groupby(['species', 'island']).mean()"
   ]
  },
  {
   "cell_type": "code",
   "execution_count": null,
   "id": "06e84df7",
   "metadata": {},
   "outputs": [],
   "source": [
    "df2.groupby(['species', 'island']).mean(numeric_only=True)"
   ]
  },
  {
   "cell_type": "code",
   "execution_count": null,
   "id": "929746c6",
   "metadata": {},
   "outputs": [],
   "source": [
    "# Group by multi column\n",
    "df2_groupby_multi = small.groupby(['species', 'island']).mean()\n",
    "df2_groupby_multi"
   ]
  },
  {
   "cell_type": "code",
   "execution_count": null,
   "id": "d0b89470",
   "metadata": {},
   "outputs": [],
   "source": [
    "df2_groupby_multi.reset_index()"
   ]
  },
  {
   "cell_type": "code",
   "execution_count": null,
   "id": "ed44e761",
   "metadata": {},
   "outputs": [],
   "source": [
    "# A better way is to set as_index=False\n",
    "small.groupby(['species', 'island'], as_index=False).mean()"
   ]
  },
  {
   "cell_type": "code",
   "execution_count": null,
   "id": "6b1aef21",
   "metadata": {},
   "outputs": [],
   "source": [
    "small.groupby('species').mean(numeric_only=True).plot(kind='bar')  # This is actually a pandas plot"
   ]
  },
  {
   "cell_type": "markdown",
   "id": "b995d7ea",
   "metadata": {},
   "source": [
    "# Group by numerical data using .cut() and .qcut()"
   ]
  },
  {
   "cell_type": "code",
   "execution_count": null,
   "id": "9375792f",
   "metadata": {},
   "outputs": [],
   "source": [
    "df2['mass_group'] = pd.cut(df2['body_mass_g'], \n",
    "                          bins=[0, 3000, 4000, 5000, 10000],\n",
    "                          labels=('small', 'medium','large', 'wow'))\n",
    "df2.head()"
   ]
  },
  {
   "cell_type": "code",
   "execution_count": null,
   "id": "0abf1163",
   "metadata": {},
   "outputs": [],
   "source": [
    "df2.groupby(pd.cut(df2['body_mass_g'], \n",
    "                          bins=[0, 3000, 4000, 5000, 10000],\n",
    "                          labels=('small', 'medium','large', 'wow'))).mean(numeric_only=True)"
   ]
  },
  {
   "cell_type": "code",
   "execution_count": null,
   "id": "977fb8b6",
   "metadata": {},
   "outputs": [],
   "source": [
    "df2.groupby(pd.qcut(df2[\"body_mass_g\"],4, duplicates=\"drop\")).mean(numeric_only = True)"
   ]
  },
  {
   "cell_type": "code",
   "execution_count": null,
   "id": "e2a90ddc",
   "metadata": {},
   "outputs": [],
   "source": [
    "# Just a note...."
   ]
  },
  {
   "cell_type": "code",
   "execution_count": null,
   "id": "cbd557ec",
   "metadata": {},
   "outputs": [],
   "source": [
    "df2.groupby(['species', 'island']).bill_length_mm.sum().reset_index()"
   ]
  },
  {
   "cell_type": "code",
   "execution_count": null,
   "id": "1095c1c7",
   "metadata": {},
   "outputs": [],
   "source": [
    "# A different way to write the same code\n",
    "df2.groupby(['species', 'island'])['bill_length_mm'].sum().reset_index()"
   ]
  },
  {
   "cell_type": "code",
   "execution_count": null,
   "id": "510b1065-294f-46c4-8cff-7c1524ff4253",
   "metadata": {},
   "outputs": [],
   "source": []
  }
 ],
 "metadata": {
  "kernelspec": {
   "display_name": "Python 3 (ipykernel)",
   "language": "python",
   "name": "python3"
  },
  "language_info": {
   "codemirror_mode": {
    "name": "ipython",
    "version": 3
   },
   "file_extension": ".py",
   "mimetype": "text/x-python",
   "name": "python",
   "nbconvert_exporter": "python",
   "pygments_lexer": "ipython3",
   "version": "3.12.7"
  },
  "toc": {
   "base_numbering": 1,
   "nav_menu": {},
   "number_sections": false,
   "sideBar": true,
   "skip_h1_title": false,
   "title_cell": "Table of Contents",
   "title_sidebar": "Contents",
   "toc_cell": true,
   "toc_position": {
    "height": "calc(100% - 180px)",
    "left": "10px",
    "top": "150px",
    "width": "177px"
   },
   "toc_section_display": true,
   "toc_window_display": true
  },
  "varInspector": {
   "cols": {
    "lenName": 16,
    "lenType": 16,
    "lenVar": 40
   },
   "kernels_config": {
    "python": {
     "delete_cmd_postfix": "",
     "delete_cmd_prefix": "del ",
     "library": "var_list.py",
     "varRefreshCmd": "print(var_dic_list())"
    },
    "r": {
     "delete_cmd_postfix": ") ",
     "delete_cmd_prefix": "rm(",
     "library": "var_list.r",
     "varRefreshCmd": "cat(var_dic_list()) "
    }
   },
   "types_to_exclude": [
    "module",
    "function",
    "builtin_function_or_method",
    "instance",
    "_Feature"
   ],
   "window_display": false
  }
 },
 "nbformat": 4,
 "nbformat_minor": 5
}
