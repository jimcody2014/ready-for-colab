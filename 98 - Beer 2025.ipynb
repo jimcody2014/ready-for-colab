{
 "cells": [
  {
   "cell_type": "markdown",
   "id": "57362bb7",
   "metadata": {
    "toc": true
   },
   "source": [
    "<h1><span class=\"tocSkip\"></span></h1>\n",
    "<div class=\"toc\"><ul class=\"toc-item\"><li><span><a href=\"#Part-1---Manipulating-the-data\" data-toc-modified-id=\"Part-1---Manipulating-the-data-1\"><span class=\"toc-item-num\">1&nbsp;&nbsp;</span>Part 1 - Manipulating the data</a></span></li><li><span><a href=\"#Part-2---Using-Groupby()\" data-toc-modified-id=\"Part-2---Using-Groupby()-2\"><span class=\"toc-item-num\">2&nbsp;&nbsp;</span>Part 2 - Using Groupby()</a></span></li><li><span><a href=\"#Part-3---Merging-a-dataframe\" data-toc-modified-id=\"Part-3---Merging-a-dataframe-3\"><span class=\"toc-item-num\">3&nbsp;&nbsp;</span>Part 3 - Merging a dataframe</a></span></li></ul></div>"
   ]
  },
  {
   "cell_type": "markdown",
   "id": "ee6a7ca0",
   "metadata": {},
   "source": [
    "# Part 1 - Manipulating the data"
   ]
  },
  {
   "cell_type": "code",
   "execution_count": 1,
   "id": "f3654f69",
   "metadata": {},
   "outputs": [],
   "source": [
    "# What imports do you need? You can use the dame as in the lesson.\n",
    "import numpy as np\n",
    "import pandas as pd\n",
    "import matplotlib.pyplot as plt\n",
    "import matplotlib as mpl\n",
    "import seaborn as sns\n",
    "from numpy.random import randn"
   ]
  },
  {
   "cell_type": "markdown",
   "id": "c3e9502c-f862-4a65-b607-8fcc78ce6df1",
   "metadata": {},
   "source": [
    "https://raw.githubusercontent.com/jimcody2014/python-data/main/beers.csv"
   ]
  },
  {
   "cell_type": "code",
   "execution_count": 2,
   "id": "3773f5f5",
   "metadata": {},
   "outputs": [],
   "source": [
    "# Use the beer dataset to create a dataframe name df\n"
   ]
  },
  {
   "cell_type": "code",
   "execution_count": 3,
   "id": "6695af6e",
   "metadata": {},
   "outputs": [
    {
     "data": {
      "text/html": [
       "<div>\n",
       "<style scoped>\n",
       "    .dataframe tbody tr th:only-of-type {\n",
       "        vertical-align: middle;\n",
       "    }\n",
       "\n",
       "    .dataframe tbody tr th {\n",
       "        vertical-align: top;\n",
       "    }\n",
       "\n",
       "    .dataframe thead th {\n",
       "        text-align: right;\n",
       "    }\n",
       "</style>\n",
       "<table border=\"1\" class=\"dataframe\">\n",
       "  <thead>\n",
       "    <tr style=\"text-align: right;\">\n",
       "      <th></th>\n",
       "      <th>Unnamed: 0</th>\n",
       "      <th>abv</th>\n",
       "      <th>ibu</th>\n",
       "      <th>id</th>\n",
       "      <th>name</th>\n",
       "      <th>style</th>\n",
       "      <th>brewery_id</th>\n",
       "      <th>ounces</th>\n",
       "    </tr>\n",
       "  </thead>\n",
       "  <tbody>\n",
       "    <tr>\n",
       "      <th>0</th>\n",
       "      <td>0</td>\n",
       "      <td>0.050</td>\n",
       "      <td>NaN</td>\n",
       "      <td>1436</td>\n",
       "      <td>Pub Beer</td>\n",
       "      <td>American Pale Lager</td>\n",
       "      <td>408</td>\n",
       "      <td>12.0</td>\n",
       "    </tr>\n",
       "    <tr>\n",
       "      <th>1</th>\n",
       "      <td>1</td>\n",
       "      <td>0.066</td>\n",
       "      <td>NaN</td>\n",
       "      <td>2265</td>\n",
       "      <td>Devil's Cup</td>\n",
       "      <td>American Pale Ale (APA)</td>\n",
       "      <td>1770</td>\n",
       "      <td>12.0</td>\n",
       "    </tr>\n",
       "    <tr>\n",
       "      <th>2</th>\n",
       "      <td>2</td>\n",
       "      <td>0.071</td>\n",
       "      <td>NaN</td>\n",
       "      <td>2264</td>\n",
       "      <td>Rise of the Phoenix</td>\n",
       "      <td>American IPA</td>\n",
       "      <td>1770</td>\n",
       "      <td>12.0</td>\n",
       "    </tr>\n",
       "    <tr>\n",
       "      <th>3</th>\n",
       "      <td>3</td>\n",
       "      <td>0.090</td>\n",
       "      <td>NaN</td>\n",
       "      <td>2263</td>\n",
       "      <td>Sinister</td>\n",
       "      <td>American Double / Imperial IPA</td>\n",
       "      <td>1770</td>\n",
       "      <td>12.0</td>\n",
       "    </tr>\n",
       "    <tr>\n",
       "      <th>4</th>\n",
       "      <td>4</td>\n",
       "      <td>0.075</td>\n",
       "      <td>NaN</td>\n",
       "      <td>2262</td>\n",
       "      <td>Sex and Candy</td>\n",
       "      <td>American IPA</td>\n",
       "      <td>1770</td>\n",
       "      <td>12.0</td>\n",
       "    </tr>\n",
       "  </tbody>\n",
       "</table>\n",
       "</div>"
      ],
      "text/plain": [
       "   Unnamed: 0    abv  ibu    id                 name  \\\n",
       "0           0  0.050  NaN  1436             Pub Beer   \n",
       "1           1  0.066  NaN  2265          Devil's Cup   \n",
       "2           2  0.071  NaN  2264  Rise of the Phoenix   \n",
       "3           3  0.090  NaN  2263             Sinister   \n",
       "4           4  0.075  NaN  2262        Sex and Candy   \n",
       "\n",
       "                            style  brewery_id  ounces  \n",
       "0             American Pale Lager         408    12.0  \n",
       "1         American Pale Ale (APA)        1770    12.0  \n",
       "2                    American IPA        1770    12.0  \n",
       "3  American Double / Imperial IPA        1770    12.0  \n",
       "4                    American IPA        1770    12.0  "
      ]
     },
     "execution_count": 3,
     "metadata": {},
     "output_type": "execute_result"
    }
   ],
   "source": [
    "df.head()"
   ]
  },
  {
   "cell_type": "code",
   "execution_count": null,
   "id": "66a9443b",
   "metadata": {},
   "outputs": [],
   "source": [
    "# brewery_id 177 is coded incorrectly.  It is coded as 1770.  Correct the coding.\n"
   ]
  },
  {
   "cell_type": "code",
   "execution_count": null,
   "id": "8c3dbc9d",
   "metadata": {},
   "outputs": [],
   "source": [
    "# Some of the American Pale Ale styles are misspelled.  \n",
    "# Correct those that have All to Ale, Pall to Pale and Americn to American.\n"
   ]
  },
  {
   "cell_type": "code",
   "execution_count": null,
   "id": "5e3ff9ad",
   "metadata": {},
   "outputs": [],
   "source": [
    "# Change the id and brewery_id to a string object\n"
   ]
  },
  {
   "cell_type": "code",
   "execution_count": null,
   "id": "e94fa1b3",
   "metadata": {},
   "outputs": [],
   "source": [
    "# Rename id to beer_id\n"
   ]
  },
  {
   "cell_type": "code",
   "execution_count": null,
   "id": "f2333670",
   "metadata": {},
   "outputs": [],
   "source": [
    "# There are three rows with duplicated data.  Remove the duplicates."
   ]
  },
  {
   "cell_type": "code",
   "execution_count": null,
   "id": "50c3fb81",
   "metadata": {},
   "outputs": [],
   "source": [
    "# Which columns have missing values?\n"
   ]
  },
  {
   "cell_type": "code",
   "execution_count": null,
   "id": "f68369a3",
   "metadata": {},
   "outputs": [],
   "source": [
    "# Create a plot of the missing values."
   ]
  },
  {
   "cell_type": "code",
   "execution_count": null,
   "id": "a9279b16",
   "metadata": {},
   "outputs": [],
   "source": [
    "# If abv contins any missing values, substitute with the median value for the column."
   ]
  },
  {
   "cell_type": "code",
   "execution_count": null,
   "id": "b69c7326",
   "metadata": {},
   "outputs": [],
   "source": [
    "# If any column has more than 35% missing data, drop the column."
   ]
  },
  {
   "cell_type": "code",
   "execution_count": null,
   "id": "d42f7725",
   "metadata": {},
   "outputs": [],
   "source": [
    "# If you think the first column is just a row id, drop it."
   ]
  },
  {
   "cell_type": "code",
   "execution_count": null,
   "id": "36dd0cef",
   "metadata": {},
   "outputs": [],
   "source": [
    "# Do any rows have a missing brewery_id?  If yes, drop the row."
   ]
  },
  {
   "cell_type": "code",
   "execution_count": null,
   "id": "57ab65db",
   "metadata": {},
   "outputs": [],
   "source": [
    "# Create a visualization for each categorical column."
   ]
  },
  {
   "cell_type": "code",
   "execution_count": null,
   "id": "97e248d5",
   "metadata": {},
   "outputs": [],
   "source": [
    "# Create a histogram for each numerical column."
   ]
  },
  {
   "cell_type": "code",
   "execution_count": null,
   "id": "c0558bbb",
   "metadata": {},
   "outputs": [],
   "source": [
    "# Remove any rows where the ounces value is an outlier."
   ]
  },
  {
   "cell_type": "markdown",
   "id": "3bd72352",
   "metadata": {},
   "source": [
    "# Part 2 - Using Groupby()"
   ]
  },
  {
   "cell_type": "code",
   "execution_count": null,
   "id": "541af6ca",
   "metadata": {},
   "outputs": [],
   "source": [
    "beer.info()"
   ]
  },
  {
   "cell_type": "code",
   "execution_count": null,
   "id": "67656445",
   "metadata": {},
   "outputs": [],
   "source": [
    "# Group by style\n",
    "# How many groups are there?"
   ]
  },
  {
   "cell_type": "code",
   "execution_count": null,
   "id": "90a27030",
   "metadata": {},
   "outputs": [],
   "source": [
    "# What is the mean abv for each style?"
   ]
  },
  {
   "cell_type": "code",
   "execution_count": null,
   "id": "2cf65039",
   "metadata": {},
   "outputs": [],
   "source": [
    "# What is the mean for abv and ounces for each style?"
   ]
  },
  {
   "cell_type": "code",
   "execution_count": null,
   "id": "d6e27113",
   "metadata": {},
   "outputs": [],
   "source": [
    "# What is the mean for abv and ounces for each style, brewery_id combination?"
   ]
  },
  {
   "cell_type": "markdown",
   "id": "12f6f52b",
   "metadata": {},
   "source": [
    "# Part 3 - Merging a dataframe"
   ]
  },
  {
   "cell_type": "code",
   "execution_count": null,
   "id": "44a30cdf",
   "metadata": {},
   "outputs": [],
   "source": [
    "# Read in the breweries data\n",
    "# https://raw.githubusercontent.com/jimcody2014/python-data/main/breweries.csv"
   ]
  },
  {
   "cell_type": "code",
   "execution_count": null,
   "id": "4d178776",
   "metadata": {},
   "outputs": [],
   "source": [
    "# Remove the unnamed column"
   ]
  },
  {
   "cell_type": "code",
   "execution_count": null,
   "id": "7f50101f",
   "metadata": {},
   "outputs": [],
   "source": [
    "# Merge the beer df with the breweries df.\n",
    "# What columns will the merge be based on?\n",
    "# Are those columns the same datatype?  Merge columns have to be the same datatype."
   ]
  },
  {
   "cell_type": "code",
   "execution_count": null,
   "id": "1fe89874",
   "metadata": {},
   "outputs": [],
   "source": []
  },
  {
   "cell_type": "code",
   "execution_count": null,
   "id": "b879b91c",
   "metadata": {},
   "outputs": [],
   "source": []
  }
 ],
 "metadata": {
  "kernelspec": {
   "display_name": "Python 3 (ipykernel)",
   "language": "python",
   "name": "python3"
  },
  "language_info": {
   "codemirror_mode": {
    "name": "ipython",
    "version": 3
   },
   "file_extension": ".py",
   "mimetype": "text/x-python",
   "name": "python",
   "nbconvert_exporter": "python",
   "pygments_lexer": "ipython3",
   "version": "3.12.7"
  },
  "toc": {
   "base_numbering": 1,
   "nav_menu": {},
   "number_sections": true,
   "sideBar": false,
   "skip_h1_title": false,
   "title_cell": "",
   "title_sidebar": "Contents",
   "toc_cell": true,
   "toc_position": {
    "height": "calc(100% - 180px)",
    "left": "10px",
    "top": "150px",
    "width": "165px"
   },
   "toc_section_display": true,
   "toc_window_display": false
  },
  "varInspector": {
   "cols": {
    "lenName": 16,
    "lenType": 16,
    "lenVar": 40
   },
   "kernels_config": {
    "python": {
     "delete_cmd_postfix": "",
     "delete_cmd_prefix": "del ",
     "library": "var_list.py",
     "varRefreshCmd": "print(var_dic_list())"
    },
    "r": {
     "delete_cmd_postfix": ") ",
     "delete_cmd_prefix": "rm(",
     "library": "var_list.r",
     "varRefreshCmd": "cat(var_dic_list()) "
    }
   },
   "types_to_exclude": [
    "module",
    "function",
    "builtin_function_or_method",
    "instance",
    "_Feature"
   ],
   "window_display": false
  }
 },
 "nbformat": 4,
 "nbformat_minor": 5
}
