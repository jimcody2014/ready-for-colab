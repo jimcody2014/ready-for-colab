{
 "cells": [
  {
   "cell_type": "code",
   "execution_count": 2,
   "metadata": {},
   "outputs": [],
   "source": [
    "import csv\n",
    "import sqlite3"
   ]
  },
  {
   "cell_type": "code",
   "execution_count": 4,
   "metadata": {},
   "outputs": [],
   "source": [
    "def execute_sql(sql, connInfo = 'data.db'):\n",
    "    toReturn = []\n",
    "\n",
    "    try:\n",
    "        conn = sqlite3.connect(connInfo)\n",
    "        c = conn.cursor()\n",
    "\n",
    "        for row in c.execute(sql):\n",
    "            toReturn.append(list(row))\n",
    "\n",
    "        conn.commit()\n",
    "        return toReturn\n",
    "    finally:\n",
    "        if conn is not None:\n",
    "            conn.close()\n",
    "\n",
    "\n",
    "def execute_many(list, sql, connInfo = 'data.db'):\n",
    "    toReturn = []\n",
    "\n",
    "    try:\n",
    "        conn = sqlite3.connect(connInfo)\n",
    "        c = conn.cursor()\n",
    "        \n",
    "        for row in c.executemany(sql, list):\n",
    "            toReturn.append(list(row))\n",
    "\n",
    "        conn.commit()\n",
    "        return toReturn\n",
    "    finally:\n",
    "        if conn is not None:\n",
    "            conn.close()"
   ]
  },
  {
   "cell_type": "code",
   "execution_count": 3,
   "metadata": {},
   "outputs": [],
   "source": [
    "my_data = []\n",
    "with open('customers.csv', 'r') as csvfile:\n",
    "  rdr = csv.reader(csvfile,\n",
    "                   delimiter=',',\n",
    "                   quotechar='\"')\n",
    "  for line in rdr:\n",
    "    my_data.append(line)"
   ]
  },
  {
   "cell_type": "code",
   "execution_count": 9,
   "metadata": {},
   "outputs": [
    {
     "data": {
      "text/plain": [
       "[]"
      ]
     },
     "execution_count": 9,
     "metadata": {},
     "output_type": "execute_result"
    }
   ],
   "source": [
    "execute_sql('''CREATE TABLE customers (F0 int, F1 int, F2 text, F3 int, F4 bool, F5 text)''')"
   ]
  },
  {
   "cell_type": "code",
   "execution_count": 10,
   "metadata": {},
   "outputs": [
    {
     "data": {
      "text/plain": [
       "[]"
      ]
     },
     "execution_count": 10,
     "metadata": {},
     "output_type": "execute_result"
    }
   ],
   "source": [
    "execute_many(my_data, \"INSERT INTO customers VALUES (?,?,?,?,?,?)\")"
   ]
  },
  {
   "cell_type": "code",
   "execution_count": 11,
   "metadata": {},
   "outputs": [
    {
     "data": {
      "text/plain": [
       "[[44, 'Female', '25841', 8, 'FALSE', 'Charlotte'],\n",
       " [94, 'Male', '135636', 16, 'FALSE', 'Washington'],\n",
       " [64, 'Female', '116639', 19, 'FALSE', 'New York'],\n",
       " [40, 'Male', '85988', 20, 'FALSE', 'New York'],\n",
       " [66, 'Male', '80867', 8, 'FALSE', 'San Francisco'],\n",
       " [30, 'Male', '77074', 9, 'FALSE', 'Indianapolis'],\n",
       " [32, 'Male', '44682', 6, 'FALSE', 'Denver'],\n",
       " [75, 'Female', '118308', 19, 'FALSE', 'Phoenix'],\n",
       " [40, 'Male', '74415', 14, 'FALSE', 'San Antonio'],\n",
       " [37, 'Male', '52904', 11, 'FALSE', 'Los Angeles'],\n",
       " [28, 'Male', '61752', 14, 'FALSE', 'San Jose'],\n",
       " [21, 'Female', '39896', 10, 'FALSE', 'Jacksonville'],\n",
       " [32, 'Male', '34501', 15, 'FALSE', 'San Antonio'],\n",
       " [72, 'Male', '66727', 4, 'FALSE', 'New York'],\n",
       " [42, 'Male', '29855', 10, 'FALSE', 'Phoenix']]"
      ]
     },
     "execution_count": 11,
     "metadata": {},
     "output_type": "execute_result"
    }
   ],
   "source": [
    "execute_sql('''select * from customers''')"
   ]
  }
 ],
 "metadata": {
  "kernelspec": {
   "display_name": "Python 3 (ipykernel)",
   "language": "python",
   "name": "python3"
  },
  "language_info": {
   "codemirror_mode": {
    "name": "ipython",
    "version": 3
   },
   "file_extension": ".py",
   "mimetype": "text/x-python",
   "name": "python",
   "nbconvert_exporter": "python",
   "pygments_lexer": "ipython3",
   "version": "3.12.7"
  }
 },
 "nbformat": 4,
 "nbformat_minor": 4
}
