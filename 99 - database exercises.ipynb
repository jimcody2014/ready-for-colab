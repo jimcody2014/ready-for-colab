{
 "cells": [
  {
   "cell_type": "code",
   "execution_count": 3,
   "id": "3603c8c9-7700-4cc7-9a4d-1fedb0427e61",
   "metadata": {},
   "outputs": [],
   "source": [
    "import sqlite3"
   ]
  },
  {
   "cell_type": "code",
   "execution_count": 4,
   "id": "273c9cbf-23f0-41b9-9cf6-8f7e10bb898d",
   "metadata": {},
   "outputs": [],
   "source": [
    "#conn = sqlite3.connect('data.db')\n",
    "conn = sqlite3.connect('data.db')\n",
    "c = conn.cursor()"
   ]
  },
  {
   "cell_type": "code",
   "execution_count": 15,
   "id": "a2fc290f-3cd5-41ae-a481-c1f842f56cbe",
   "metadata": {},
   "outputs": [],
   "source": [
    "table_name = 'users'\n",
    "col1 = 'name '\n",
    "col1_t = 'text'\n",
    "col2 = 'email '\n",
    "col2_t = 'text'\n",
    "sql_command = f'DROP TABLE IF EXISTS {table_name};'\n",
    "c.execute(sql_command)\n",
    "conn.commit()"
   ]
  },
  {
   "cell_type": "code",
   "execution_count": null,
   "id": "84569c17-3df6-4d19-afda-a43feda28428",
   "metadata": {},
   "outputs": [],
   "source": [
    "c.execute('''CREATE TABLE users (name text, email text)''')\n",
    "c.execute(\"Insert into users values ('Jack','jack@abc.com')\")\n",
    "conn.commit\n",
    "#conn.close"
   ]
  },
  {
   "cell_type": "code",
   "execution_count": 16,
   "id": "e77b47ab-a985-41a6-8792-400ead7b0893",
   "metadata": {},
   "outputs": [
    {
     "data": {
      "text/plain": [
       "'CREATE TABLE users(name text,email text);'"
      ]
     },
     "execution_count": 16,
     "metadata": {},
     "output_type": "execute_result"
    }
   ],
   "source": [
    "cr_table = f'CREATE TABLE {table_name}({col1}{col1_t},{col2}{col2_t});'\n",
    "cr_table"
   ]
  },
  {
   "cell_type": "code",
   "execution_count": 17,
   "id": "28bc07f8-8e15-4031-9afc-07f19467bab0",
   "metadata": {},
   "outputs": [
    {
     "data": {
      "text/plain": [
       "<sqlite3.Cursor at 0x1195b8b40>"
      ]
     },
     "execution_count": 17,
     "metadata": {},
     "output_type": "execute_result"
    }
   ],
   "source": [
    "c.execute(cr_table)"
   ]
  },
  {
   "cell_type": "code",
   "execution_count": 18,
   "id": "5044570d-de98-493b-bb84-e03a23dd33f5",
   "metadata": {},
   "outputs": [
    {
     "data": {
      "text/plain": [
       "<function Connection.commit()>"
      ]
     },
     "execution_count": 18,
     "metadata": {},
     "output_type": "execute_result"
    }
   ],
   "source": [
    "c.execute(\"Insert into users values ('Jack','jack@abc.com')\")\n",
    "conn.commit"
   ]
  },
  {
   "cell_type": "code",
   "execution_count": 19,
   "id": "7ae1a76d-4d92-4d6b-ae08-9c80461a6771",
   "metadata": {},
   "outputs": [
    {
     "name": "stdout",
     "output_type": "stream",
     "text": [
      "row: ('Jack', 'jack@abc.com')\n"
     ]
    }
   ],
   "source": [
    "for row in c.execute('''select * from users'''):\n",
    "  print('row:', row)"
   ]
  },
  {
   "cell_type": "code",
   "execution_count": null,
   "id": "bd079a15-3853-4662-a3b3-26c6ee44a7a3",
   "metadata": {},
   "outputs": [],
   "source": []
  }
 ],
 "metadata": {
  "kernelspec": {
   "display_name": "Python 3 (ipykernel)",
   "language": "python",
   "name": "python3"
  },
  "language_info": {
   "codemirror_mode": {
    "name": "ipython",
    "version": 3
   },
   "file_extension": ".py",
   "mimetype": "text/x-python",
   "name": "python",
   "nbconvert_exporter": "python",
   "pygments_lexer": "ipython3",
   "version": "3.12.7"
  }
 },
 "nbformat": 4,
 "nbformat_minor": 5
}
