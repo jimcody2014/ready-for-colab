{
 "cells": [
  {
   "cell_type": "code",
   "execution_count": null,
   "metadata": {},
   "outputs": [],
   "source": []
  },
  {
   "cell_type": "code",
   "execution_count": null,
   "metadata": {},
   "outputs": [],
   "source": []
  },
  {
   "cell_type": "markdown",
   "metadata": {
    "colab_type": "text",
    "id": "view-in-github"
   },
   "source": [
    "<a href=\"https://colab.research.google.com/github/jimcody2014/Python-Public/blob/main/database.ipynb\" target=\"_parent\"><img src=\"https://colab.research.google.com/assets/colab-badge.svg\" alt=\"Open In Colab\"/></a>"
   ]
  },
  {
   "cell_type": "code",
   "execution_count": 2,
   "metadata": {
    "id": "p8OYKrreK03x"
   },
   "outputs": [],
   "source": [
    "import sqlite3"
   ]
  },
  {
   "cell_type": "code",
   "execution_count": 3,
   "metadata": {
    "id": "axWwKUyfN_ti"
   },
   "outputs": [],
   "source": [
    "#conn = sqlite3.connect('data.db')\n",
    "conn = sqlite3.connect('data.db')\n",
    "c = conn.cursor()"
   ]
  },
  {
   "cell_type": "code",
   "execution_count": null,
   "metadata": {
    "id": "Nt7xi3g9OBwF"
   },
   "outputs": [],
   "source": [
    "table_name = 'users'\n",
    "sql_command = f'DROP TABLE IF EXISTS {table_name};'\n",
    "c.execute(sql_command)\n",
    "conn.commit()"
   ]
  },
  {
   "cell_type": "code",
   "execution_count": null,
   "metadata": {
    "colab": {
     "base_uri": "https://localhost:8080/"
    },
    "id": "HlAC3_DJK8ZZ",
    "outputId": "ff2472ec-83aa-4360-94ac-f552285868d8"
   },
   "outputs": [],
   "source": [
    "\n",
    "c.execute('''CREATE TABLE users (name text, email text)''')\n",
    "c.execute(\"Insert into users values ('Jack','jack@abc.com')\")\n",
    "conn.commit\n",
    "#conn.close"
   ]
  },
  {
   "cell_type": "code",
   "execution_count": null,
   "metadata": {
    "colab": {
     "base_uri": "https://localhost:8080/"
    },
    "id": "AMNpkaFoLe7S",
    "outputId": "a1795925-a51e-4b1f-8d25-1842dda6621c"
   },
   "outputs": [],
   "source": [
    "for row in c.execute('''select * from users'''):\n",
    "  print('row:', row)"
   ]
  },
  {
   "cell_type": "code",
   "execution_count": null,
   "metadata": {
    "id": "4XZHkwmPLwME"
   },
   "outputs": [],
   "source": [
    "users = [('Denise', 'denise@abc.com'),('Mary', 'mary@abc.com'),('John', 'john@abc.com')]"
   ]
  },
  {
   "cell_type": "code",
   "execution_count": null,
   "metadata": {},
   "outputs": [],
   "source": [
    "type(users)"
   ]
  },
  {
   "cell_type": "code",
   "execution_count": null,
   "metadata": {
    "id": "rozgva5ZLfGL"
   },
   "outputs": [],
   "source": [
    "c.executemany(\"insert into users values (?,?)\", users)\n",
    "conn.commit()"
   ]
  },
  {
   "cell_type": "code",
   "execution_count": null,
   "metadata": {
    "colab": {
     "base_uri": "https://localhost:8080/"
    },
    "id": "4Yv-6BIbLfLV",
    "outputId": "4eb93292-8fcf-4060-b04b-714bc8d75e43"
   },
   "outputs": [],
   "source": [
    "for row in c.execute('''select * from users'''):\n",
    "  print('row:', row)"
   ]
  },
  {
   "cell_type": "code",
   "execution_count": null,
   "metadata": {
    "id": "955R0RwpPpzR"
   },
   "outputs": [],
   "source": [
    "user_collection = []"
   ]
  },
  {
   "cell_type": "code",
   "execution_count": null,
   "metadata": {
    "id": "HFrcBnxIPuYs"
   },
   "outputs": [],
   "source": [
    "for row in c.execute('''select * from users'''):\n",
    "  user_collection.append(list(row))"
   ]
  },
  {
   "cell_type": "code",
   "execution_count": null,
   "metadata": {
    "colab": {
     "base_uri": "https://localhost:8080/"
    },
    "id": "jAkGMYYGP9BM",
    "outputId": "6f4391b6-95ef-44b7-ac96-fb4c0b4d5365"
   },
   "outputs": [],
   "source": [
    "print(user_collection)"
   ]
  },
  {
   "cell_type": "code",
   "execution_count": null,
   "metadata": {
    "colab": {
     "base_uri": "https://localhost:8080/"
    },
    "id": "Ae_P0IiDPRcu",
    "outputId": "9dfea9ca-cbc4-4904-8c38-0a966e16fc19"
   },
   "outputs": [],
   "source": [
    "conn.close"
   ]
  },
  {
   "cell_type": "markdown",
   "metadata": {
    "id": "NyXJlk5QS1WE"
   },
   "source": [
    "# Working with csv files"
   ]
  },
  {
   "cell_type": "code",
   "execution_count": null,
   "metadata": {
    "id": "jlfeVO3PS5HR"
   },
   "outputs": [],
   "source": [
    "import csv"
   ]
  },
  {
   "cell_type": "code",
   "execution_count": null,
   "metadata": {
    "id": "2b1JMwEAS_NN"
   },
   "outputs": [],
   "source": [
    "# This file will be written to the Works folder on the VM\n",
    "\n",
    "with open ('users.csv','w',newline='') as csvfile:\n",
    "  wtr = csv.writer(csvfile,\n",
    "                   delimiter=',',\n",
    "                   quotechar='\"',\n",
    "                   quoting=csv.QUOTE_NONNUMERIC)\n",
    "  wtr.writerows(user_collection)"
   ]
  },
  {
   "cell_type": "code",
   "execution_count": null,
   "metadata": {
    "id": "hjsCYJJkW-X_"
   },
   "outputs": [],
   "source": [
    "uc2 = []\n",
    "with open('customers.csv', 'r') as csvfile:\n",
    "  rdr = csv.reader(csvfile,\n",
    "                   delimiter=',',\n",
    "                   quotechar='\"')\n",
    "  for line in rdr:\n",
    "    uc2.append(line)"
   ]
  },
  {
   "cell_type": "code",
   "execution_count": null,
   "metadata": {
    "colab": {
     "base_uri": "https://localhost:8080/"
    },
    "id": "_lKkwpkxXsQ4",
    "outputId": "c673d907-e050-4b12-e18f-d09c01c5930c"
   },
   "outputs": [],
   "source": [
    "print(uc2)"
   ]
  },
  {
   "cell_type": "markdown",
   "metadata": {
    "id": "6Ht4GlK7YT0G"
   },
   "source": [
    "# Exercise"
   ]
  },
  {
   "cell_type": "code",
   "execution_count": null,
   "metadata": {},
   "outputs": [],
   "source": [
    "def execute_sql(sql, connInfo = 'data.db'):\n",
    "    toReturn = []\n",
    "    try:\n",
    "        conn = sqlite3.connect(connInfo)\n",
    "        c = conn.cursor()\n",
    "        for row in c.execute(sql):\n",
    "            toReturn.append(list(row))\n",
    "        conn.commit()\n",
    "        return toReturn\n",
    "    finally:\n",
    "        if conn is not None:\n",
    "            conn.close()"
   ]
  },
  {
   "cell_type": "code",
   "execution_count": null,
   "metadata": {},
   "outputs": [],
   "source": [
    "# from students"
   ]
  },
  {
   "cell_type": "code",
   "execution_count": null,
   "metadata": {},
   "outputs": [],
   "source": [
    "user_list = []\n",
    "\n",
    "n = int(input(\"How many names do you want to add? \"))\n",
    "\n",
    "for i in range(n):\n",
    "    names = input(\"Enter a name: \")\n",
    "    emails = input(\"Enter a correspond email: \")\n",
    "    user_list.append(((names),(emails)))\n",
    "    \n",
    "\n",
    "print(\"The list is:\", user_list)"
   ]
  },
  {
   "cell_type": "code",
   "execution_count": null,
   "metadata": {},
   "outputs": [],
   "source": [
    "def create_table(tbl_name,column1,format1,column2,format2):\n",
    "    conn = sqlite3.connect('data.db')\n",
    "    c = conn.cursor()\n",
    "    c.execute(''' create table users (name text, email text)''')\n",
    "    conn.commit()\n",
    "    print(tbl_name,column1,format1,column2,format2)"
   ]
  },
  {
   "cell_type": "code",
   "execution_count": null,
   "metadata": {},
   "outputs": [],
   "source": [
    "Parameter driven create table statement -  \n",
    "\n",
    "# table name param\n",
    "table_name = 'users'\n",
    "\n",
    "# create table using table param\n",
    "c.execute(f'CREATE TABLE {table_name} (name text, email text) ')"
   ]
  },
  {
   "cell_type": "code",
   "execution_count": null,
   "metadata": {},
   "outputs": [],
   "source": [
    "def execute_sql(sql, connInfo = 'data.db'):\n",
    "    toReturn = []\n",
    "    try:\n",
    "        conn = sqlite3.connect(connInfo)\n",
    "        c = conn.cursor()\n",
    "        for row in c.execute(sql):\n",
    "            toReturn.append(list(row))\n",
    "        conn.commit()\n",
    "        return toReturn\n",
    "    finally:\n",
    "        if conn is not None:\n",
    "            conn.close()"
   ]
  },
  {
   "cell_type": "code",
   "execution_count": null,
   "metadata": {},
   "outputs": [],
   "source": []
  }
 ],
 "metadata": {
  "colab": {
   "authorship_tag": "ABX9TyP3WOWJYaeKpx4YjkJj+G3m",
   "include_colab_link": true,
   "provenance": []
  },
  "kernelspec": {
   "display_name": "Python 3 (ipykernel)",
   "language": "python",
   "name": "python3"
  },
  "language_info": {
   "codemirror_mode": {
    "name": "ipython",
    "version": 3
   },
   "file_extension": ".py",
   "mimetype": "text/x-python",
   "name": "python",
   "nbconvert_exporter": "python",
   "pygments_lexer": "ipython3",
   "version": "3.12.7"
  }
 },
 "nbformat": 4,
 "nbformat_minor": 4
}
