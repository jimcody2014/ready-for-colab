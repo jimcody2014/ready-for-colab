{
 "cells": [
  {
   "cell_type": "markdown",
   "id": "1abf3411-5c58-4426-ac8f-c9097a213607",
   "metadata": {},
   "source": [
    " % pip install /Users/jamescody/GitHubCode/jim_functions/dist/jim_functions-0.1.0-py3-none-any.whl"
   ]
  },
  {
   "cell_type": "code",
   "execution_count": null,
   "id": "f78f26c7-2f91-487f-8bf7-e18e162b4aa0",
   "metadata": {},
   "outputs": [],
   "source": [
    "from jim_functions import jim_functions\n"
   ]
  },
  {
   "cell_type": "code",
   "execution_count": null,
   "id": "9cb769e8-206c-4784-a1bc-27726818cceb",
   "metadata": {},
   "outputs": [],
   "source": [
    "import pandas as pd\n",
    "import numpy as np\n",
    "df = pd.read_csv('https://raw.githubusercontent.com/jimcody2014/python_data/refs/heads/main/patients.csv')\n",
    "df.head()"
   ]
  },
  {
   "cell_type": "code",
   "execution_count": null,
   "id": "43c9006b-460f-4506-876f-b98acb094435",
   "metadata": {},
   "outputs": [],
   "source": [
    "df.columns = jim_functions.change_df_column_names(df.columns)\n",
    "df.head()"
   ]
  },
  {
   "cell_type": "code",
   "execution_count": null,
   "id": "32b19601-e9ca-4ff8-9b8b-1d564ed19675",
   "metadata": {},
   "outputs": [],
   "source": [
    "help(jim_functions)"
   ]
  },
  {
   "cell_type": "code",
   "execution_count": null,
   "id": "d0910156-b639-42a0-af5b-2b030e2e0499",
   "metadata": {},
   "outputs": [],
   "source": [
    "https://www.freecodecamp.org/news/build-your-first-python-package/\n",
    "\n",
    "https://medium.com/@nydas/how-to-create-and-publish-your-own-python-package-8e4f3fd70506"
   ]
  }
 ],
 "metadata": {
  "kernelspec": {
   "display_name": "Python 3 (ipykernel)",
   "language": "python",
   "name": "python3"
  },
  "language_info": {
   "codemirror_mode": {
    "name": "ipython",
    "version": 3
   },
   "file_extension": ".py",
   "mimetype": "text/x-python",
   "name": "python",
   "nbconvert_exporter": "python",
   "pygments_lexer": "ipython3",
   "version": "3.12.7"
  }
 },
 "nbformat": 4,
 "nbformat_minor": 5
}
